{
 "cells": [
  {
   "cell_type": "code",
   "execution_count": null,
   "id": "74aa7726-60e7-4af2-95e9-afedb646e20b",
   "metadata": {},
   "outputs": [],
   "source": [
    "import numpy as np\n",
    "import matplotlib.pyplot as plt"
   ]
  },
  {
   "cell_type": "markdown",
   "id": "4ed75a0a-5ef3-40ce-ba4c-ed1528e1b7de",
   "metadata": {},
   "source": [
    "# Istruzioni\n",
    "* scrivere le soluzioni degli esercizi python all'interno di questo file\n",
    "* salvare questo file come COGNOME_NOME.ipynb\n",
    "* scrivere le soluzioni degli esercizi matlab in un file denominato COGNOME_NOME.m\n",
    "* scrivere la funzione matlab in un file denominato COGNOME_NOME_funzione.m\n",
    "* Formati di file diversi da quelli indicati non saranno corretti\n",
    "\n",
    "\n",
    "Esempio. Mario Rossi deve consegnare i seguenti 3 file:\n",
    "* ROSSI_MARIO.ipynb\n",
    "* ROSSI_MARIO.m\n",
    "* ROSSI_MARIO_funzione.m"
   ]
  },
  {
   "cell_type": "markdown",
   "id": "ecf1ec88-19aa-4c17-8fda-979aedf6c8cf",
   "metadata": {},
   "source": [
    "# Esercizio 1 - python\n",
    "\n",
    "Scrivere un programma che:\n",
    "\n",
    "* definisce un vettore numpy che contiene i primi 24 numeri della serie di Fibonocci (la serie di Fibonacci ha i primi due elementi uguali a 1, gli elementi dal terzo in poi uguali alla somma dei due numeri precedenti: 1,1,2,3,5,8,...)\n",
    "\n",
    "* modificare il vettore precedente in una matrice con 12 righe e 2 colonne con i numeri ordinati per riga (prima riga 1,1; seconda riga 2,3; etc)\n",
    "\n",
    "* aggiungere alla matrice una terza colonna uguale alla somma delle due colonne precedenti"
   ]
  },
  {
   "cell_type": "code",
   "execution_count": null,
   "id": "8ecb42aa-c161-4244-8a79-787f01d1f2c3",
   "metadata": {},
   "outputs": [],
   "source": []
  },
  {
   "cell_type": "markdown",
   "id": "c6ccfa85-2a06-4f4c-afc2-da96f07f4ce4",
   "metadata": {},
   "source": [
    "# Esercizio 2 - python\n",
    "\n",
    "Il data_1.txt contiene una serie di misure di posizione ad istanti temporali diversi. La prima colonna della matrice presente nel file contiene gli istanti temporali in secondi, le colonne successive le coordinate x,y,z in metri. Gli istanti temporali non sono ordinati. Scrivere un programma che:\n",
    "* crea una matrice B in cui i dati del file compaiono con gli istanti temporali ordinati\n",
    "* utilizzando la matrice B calcola un vettore, dist_max, che contiene per ciascun istante temporale la massima distanza dall'origine raggiunta in tutti i tempi precedenti\n",
    "* mostra il grafico del vettore dist_max in funzione del tempo"
   ]
  },
  {
   "cell_type": "code",
   "execution_count": null,
   "id": "de54d360-9d8d-43d7-824f-05b39cff90e4",
   "metadata": {},
   "outputs": [],
   "source": []
  },
  {
   "cell_type": "markdown",
   "id": "6e196405-7fdf-41c5-9eb5-8d86802ae16e",
   "metadata": {},
   "source": [
    "# Esercizio 3 - python\n",
    "\n",
    "Il file data_2.txt contiene i dati di una serie di pazienti organizzati per righe. Ciascuna riga contiene (separati da spazi): sesso (M/F), eta' in anni, peso in kg, rischio cardiovascolare (numero intero da 0 a 5). Scrivere un codice che legge i dati dal file e crea una lista in cui ciascun elemento contiene l'informazione presente in una riga del file sotto forma di un dizionario con struttura: 'eta':\\[valore eta\\], 'peso':\\[valore peso\\], 'rischio':\\[valore rischio cardiovascolare\\]."
   ]
  },
  {
   "cell_type": "code",
   "execution_count": null,
   "id": "f1645bb7-8bf3-4cf0-a6f3-d657f224897e",
   "metadata": {},
   "outputs": [],
   "source": []
  },
  {
   "cell_type": "markdown",
   "id": "caf8c29f-b56d-4925-9720-bf80c03fe315",
   "metadata": {},
   "source": [
    "# Esercizio 1 - matlab\n",
    "\n",
    "Definire in matlab:\n",
    "\n",
    "* un vettore, x, di 100 numeri equidistanti tra pigreco/3 e pigreco/6\n",
    "* una matrice, A, che contiene sulla prima riga la funzione seno del vettore x e sulla seconda riga la funzione coseno del vettore x\n",
    "\n",
    "Produrre un grafico del rapporto tra la prima e la seconda riga di A in funzione di x"
   ]
  },
  {
   "cell_type": "markdown",
   "id": "e960af28-8f32-49f3-86b4-0bb411641908",
   "metadata": {},
   "source": [
    "# Esercizio 2 - matlab\n",
    "\n",
    "Scrivere una funzione che prende in ingresso una matrice di N punti appartenenti a due classi separate e restituisce una matrice che ha come prima riga il centro dei punti della prima classe, e come seconda riga il centro dei punti della seconda classe. I punti nella matrice di input sono organizzati per righe: la prima colonna corrisponde alla coordinata x, la seconda alla coordinata y, la terza alla coordinata z, e la quarta e' un numero intero uguale a 0 per i punti della prima classe, 1 per i punti della seconda classe.\n",
    "\n",
    "Applicare la funzione alla matrice X disponibile nel file data_2.mat."
   ]
  },
  {
   "cell_type": "markdown",
   "id": "782468b5-9fe0-40a4-aad3-95543d755d5a",
   "metadata": {},
   "source": [
    "# Esercizio 3 - matlab\n",
    "\n",
    "Scrivere un programma che a partire da una matrice di punti organizzati per righe (colonna 1 = coordinata x, colonna 2 = coordinata y, colonna 3 = coordinata z), calcola il numero di punti compresi tra i piani definiti dalle seguenti equazioni: 2x - y - z = 0 e x - 2y - z = 0. Sono valutate positivamente soluzioni che non utilizzano cicli.\n",
    "\n",
    "Testare il programma utilizzando la matrice di punti casuali definita dal seguente codice:\n",
    "\n",
    "B = randn(1000,3);"
   ]
  }
 ],
 "metadata": {
  "kernelspec": {
   "display_name": "Python 3 (ipykernel)",
   "language": "python",
   "name": "python3"
  },
  "language_info": {
   "codemirror_mode": {
    "name": "ipython",
    "version": 3
   },
   "file_extension": ".py",
   "mimetype": "text/x-python",
   "name": "python",
   "nbconvert_exporter": "python",
   "pygments_lexer": "ipython3",
   "version": "3.12.4"
  }
 },
 "nbformat": 4,
 "nbformat_minor": 5
}
