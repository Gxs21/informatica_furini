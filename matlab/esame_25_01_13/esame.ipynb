{
 "cells": [
  {
   "cell_type": "code",
   "execution_count": null,
   "id": "74aa7726-60e7-4af2-95e9-afedb646e20b",
   "metadata": {},
   "outputs": [],
   "source": [
    "import numpy as np\n",
    "import matplotlib.pyplot as plt"
   ]
  },
  {
   "cell_type": "markdown",
   "id": "4ed75a0a-5ef3-40ce-ba4c-ed1528e1b7de",
   "metadata": {},
   "source": [
    "# Istruzioni\n",
    "* scrivere le soluzioni degli esercizi python all'interno di questo file\n",
    "* salvare questo file come COGNOME_NOME.ipynb\n",
    "* scrivere le soluzioni degli esercizi matlab in un file denominato COGNOME_NOME.m\n",
    "* scrivere la funzione matlab in un file denominato COGNOME_NOME_funzione.m\n",
    "* Formati di file diversi da quelli indicati non saranno corretti\n",
    "\n",
    "\n",
    "Esempio. Mario Rossi deve consegnare i seguenti 3 file:\n",
    "* ROSSI_MARIO.ipynb\n",
    "* ROSSI_MARIO.m\n",
    "* ROSSI_MARIO_funzione.m"
   ]
  },
  {
   "cell_type": "markdown",
   "id": "ecf1ec88-19aa-4c17-8fda-979aedf6c8cf",
   "metadata": {},
   "source": [
    "# Esercizio 1 - python\n",
    "\n",
    "Scrivere un programma che definisce una matrice contenete:\n",
    "* sulla prima riga 100 numeri equidistanti tra 0 e 1\n",
    "* sulla seconda riga gli stessi numeri della prima riga ma in ordine inverso\n",
    "* sulla terza riga 100 numeri a partire da 0 con step 0.5 \n",
    "* sulla quarta riga la funzione 3*x + y^2 dove x  e y indicano rispettivamente la prima e la terza riga\n",
    "\n",
    "\n",
    "Creare il grafico della quarta riga in funzione della prima"
   ]
  },
  {
   "cell_type": "code",
   "execution_count": null,
   "id": "8ecb42aa-c161-4244-8a79-787f01d1f2c3",
   "metadata": {},
   "outputs": [],
   "source": []
  },
  {
   "cell_type": "markdown",
   "id": "c6ccfa85-2a06-4f4c-afc2-da96f07f4ce4",
   "metadata": {},
   "source": [
    "# Esercizio 2 - python\n",
    "\n",
    "La matrice A contenuta nel file data_1.txt contiene dati di posizione e velocita'. L'istante temporale e' riportato nella prima colonna, la posizione nella seconda, la velocita' nella terza. Scrivere un codice che divide l'intervallo temporale oggetto della misura in 10 intervalli di uguale durata e calcola un vettore che contiene la velocita' media in ciascun intervallo (calcolare la media come media dei campioni contenuti nell'intervallo). Fare il grafico della velocita' e della velocita' media in funzione del tempo."
   ]
  },
  {
   "cell_type": "code",
   "execution_count": null,
   "id": "de54d360-9d8d-43d7-824f-05b39cff90e4",
   "metadata": {},
   "outputs": [],
   "source": []
  },
  {
   "cell_type": "markdown",
   "id": "6e196405-7fdf-41c5-9eb5-8d86802ae16e",
   "metadata": {},
   "source": [
    "### Esercizio 3 - python\n",
    "\n",
    "Il file data_2.txt contiene i dati di una serie di pazienti organizzati per righe. Ciascuna riga contiene (separati da spazi): sesso (M/F), eta' in anni, peso in kg, rischio cardiovascolare (numero intero da 0 a 5). Scrivere un codice che legge i dati dal file e crea un dizionario con chiave il rischio cardiovascolare e valore una lista contenente come primo/secondo elemento l'eta' minima/massima dei pazienti con quel rischio cardiovascolare."
   ]
  },
  {
   "cell_type": "code",
   "execution_count": null,
   "id": "3c06c39c-0a66-48bf-aae3-edb5cd916a50",
   "metadata": {},
   "outputs": [],
   "source": []
  },
  {
   "cell_type": "markdown",
   "id": "caf8c29f-b56d-4925-9720-bf80c03fe315",
   "metadata": {},
   "source": [
    "# Esercizio 1 - matlab\n",
    "\n",
    "Definire una matrice che contiene:\n",
    "\n",
    "* sulla prima colonna 1000 valori di velocita' equidistanti tra 0 e 100 m/s\n",
    "* sulla seconda colonna le equivalenti velocita' convertite in km/h\n",
    "* sulla terza colonna un valore corrispondente a true se il rispettivo valore nella seconda colonna e' superiore a 50 km/h"
   ]
  },
  {
   "cell_type": "markdown",
   "id": "e960af28-8f32-49f3-86b4-0bb411641908",
   "metadata": {},
   "source": [
    "# Esercizio 2 - matlab\n",
    "\n",
    "Scrivere una funzione che prende in ingresso una matrice di N punti in uno spazio tridimensionale organizzati per righe (la prima riga corrisponde alle coordinate x,y,z del primo punto, e cosi via) e restituisce un vettore in cui l'elemento i e' uguale a 1 se la coordinata del punto piu' vicina al centro geometrico e' la coordinata x, 2 se e' la coordinata y, 3 se e' la coordinata z.\n",
    "\n",
    "Applicare la funzione alla matrice X disponibile nel file data.mat."
   ]
  },
  {
   "cell_type": "markdown",
   "id": "782468b5-9fe0-40a4-aad3-95543d755d5a",
   "metadata": {},
   "source": [
    "# Esercizio 3 - matlab\n",
    "\n",
    "Scrivere un programma che a partire da una matrice con lo stesso formato della matrice X dell'esercizio precedente calcola il numero di punti che si trova al di sotto del piano definito dell'equazione 2x - y - z = 0. Sono valutate positivamente soluzioni che non utilizzano cicli."
   ]
  }
 ],
 "metadata": {
  "kernelspec": {
   "display_name": "Python 3 (ipykernel)",
   "language": "python",
   "name": "python3"
  },
  "language_info": {
   "codemirror_mode": {
    "name": "ipython",
    "version": 3
   },
   "file_extension": ".py",
   "mimetype": "text/x-python",
   "name": "python",
   "nbconvert_exporter": "python",
   "pygments_lexer": "ipython3",
   "version": "3.12.4"
  }
 },
 "nbformat": 4,
 "nbformat_minor": 5
}
