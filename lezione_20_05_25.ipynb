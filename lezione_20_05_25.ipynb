{
 "cells": [
  {
   "cell_type": "code",
   "execution_count": null,
   "metadata": {},
   "outputs": [],
   "source": [
    "'''recap lezione precedente\n",
    "recap modi per definire un array:\n",
    "    np.erray([])\n",
    "    np.arange\n",
    "    np.linspace\n",
    "    np.longspace\n",
    "    np.ones\n",
    "    np.zeros\n",
    "\n",
    "recap attributi di un array:\n",
    "    .ndim\n",
    "    .nspace\n",
    "    len()\n",
    "\n",
    "recap indicizzazione e slicing:\n",
    "    tutto uguale alle liste escluso il fatto che se l'arrey è multidimensionale servono più indici\n",
    "\n",
    "recap metodi di riduzione di un array:\n",
    "    np.mean \n",
    "    std\n",
    "    np.min/max\n",
    "\n",
    "axis\n",
    "np.concatenate\n",
    ".reshape'''"
   ]
  },
  {
   "cell_type": "code",
   "execution_count": 1,
   "metadata": {},
   "outputs": [],
   "source": [
    "import numpy as np"
   ]
  },
  {
   "cell_type": "code",
   "execution_count": 2,
   "metadata": {},
   "outputs": [],
   "source": [
    "#oggi parliamo di operazioni con i vettori"
   ]
  },
  {
   "cell_type": "code",
   "execution_count": null,
   "metadata": {},
   "outputs": [
    {
     "data": {
      "text/plain": [
       "array([ 8,  9, 10])"
      ]
     },
     "execution_count": 4,
     "metadata": {},
     "output_type": "execute_result"
    }
   ],
   "source": [
    "#SOMMA CON SCALARE\n",
    "#se sommo uno scalare a un vettore, quello scalare viene sommato a tutti gli elementi del vettore\n",
    "x=np.array([1, 2, 3])\n",
    "x+7\n",
    "#BISOGNA EVITARE DI FARE LA STESSA COSA USANDO UN CICLO FRO I IN RANGE (LEN(X)) X[I]+=7, DIVENTA UN ERRORE GRAVE"
   ]
  },
  {
   "cell_type": "code",
   "execution_count": null,
   "metadata": {},
   "outputs": [
    {
     "data": {
      "text/plain": [
       "array([3, 5, 7])"
      ]
     },
     "execution_count": 6,
     "metadata": {},
     "output_type": "execute_result"
    }
   ],
   "source": [
    "#SOMMA TRA VETTORI DI MEDESIMA SHAPE\n",
    "x=np.array([1, 2, 3])\n",
    "y=np.array([2, 3, 4])\n",
    "x+y"
   ]
  },
  {
   "cell_type": "code",
   "execution_count": null,
   "metadata": {},
   "outputs": [],
   "source": [
    "#con numpy le operazioni tra vettori non sono le operazioni matriciali corrispondenti, ma vengono eseguite elemento per elemento"
   ]
  },
  {
   "cell_type": "code",
   "execution_count": null,
   "metadata": {},
   "outputs": [],
   "source": [
    "#OPERAZIONI CON VETTORI CON DIVERSA SHAPE"
   ]
  },
  {
   "cell_type": "code",
   "execution_count": 9,
   "metadata": {},
   "outputs": [
    {
     "data": {
      "text/plain": [
       "array([[ 8,  1],\n",
       "       [10,  3]])"
      ]
     },
     "execution_count": 9,
     "metadata": {},
     "output_type": "execute_result"
    }
   ],
   "source": [
    "#REGOLE DI BROADCASTING\n",
    "A=np.array([[1,2], [3,4]]) #shape (2,2)\n",
    "b=np.array([7, -1]) #shape (2)\n",
    "#agiunge 1 al vettore più piccolo\n",
    "#si confrontano poi dimensione con dimensione, se una delle due dimensioni è 1 non dà errore, altrimenti si\n",
    "A+b"
   ]
  },
  {
   "cell_type": "code",
   "execution_count": 11,
   "metadata": {},
   "outputs": [
    {
     "data": {
      "text/plain": [
       "array([[ 8,  9],\n",
       "       [12, 13]])"
      ]
     },
     "execution_count": 11,
     "metadata": {},
     "output_type": "execute_result"
    }
   ],
   "source": [
    "A=np.array([[1,2], [3,4]])\n",
    "b=np.array([7,9]).reshape((-1,1))#shape (2,1)\n",
    "#in questo caso i primi indici sono uguali, quindi non danno problemi, i secondi indici sono diversi ma uno dei due è uno quindi va bene\n",
    "#copio dunque la colonna che compone b e la aggiungo a destra, poi eseguo la somma termine a termine\n",
    "A+b"
   ]
  },
  {
   "cell_type": "code",
   "execution_count": 16,
   "metadata": {},
   "outputs": [
    {
     "data": {
      "text/plain": [
       "array([[-0.71926342, -0.71534167, -0.98560075],\n",
       "       [-0.59887393, -0.57469156, -0.36087698],\n",
       "       [-0.93238615, -0.63004005, -0.35067219],\n",
       "       ...,\n",
       "       [-0.62468901, -0.71584926, -0.83396508],\n",
       "       [-0.213654  , -0.52766871, -0.12344318],\n",
       "       [-0.6633513 , -0.27146222, -0.71066419]])"
      ]
     },
     "execution_count": 16,
     "metadata": {},
     "output_type": "execute_result"
    }
   ],
   "source": [
    "#voglio centrare gli elementi nel centro c\n",
    "n=1000\n",
    "x=np.random.uniform(size=(1000,3))\n",
    "c=np.mean(x, axis=0)\n",
    "for i in range (x.shape[0]): #questo è il modo sbagliato di farlo\n",
    "    x[i, 0]=x[i, 0]-c[0]\n",
    "    x[i, 1]=x[i, 1]-c[1]\n",
    "    x[i, 2]=x[i, 2]-c[2]\n",
    "x-c "
   ]
  },
  {
   "cell_type": "code",
   "execution_count": 17,
   "metadata": {},
   "outputs": [],
   "source": [
    "def centra1(x, c):\n",
    "    for i in range (x.shape[0]): #questo è il modo sbagliato di farlo\n",
    "        for j in range (3):\n",
    "            x[i,j]=x[i,j]-c[j]\n",
    "#ci mette troppo tempo\n",
    "#devi cambiare la forma di ci in un vettore colonna e poi sottrarlo a x"
   ]
  },
  {
   "cell_type": "code",
   "execution_count": 18,
   "metadata": {},
   "outputs": [],
   "source": [
    "#funzione che calcola la distanza di un ounto dal centro:\n",
    "def distanza1 (x, c):#metodi lunghi e lenti\n",
    "    d=np.zeros(x.shapes[0])#oppure:\n",
    "    for i in range (x.shape[0]):\n",
    "        d[i]=np.sqrt(np.sum(np.power(x[i,:]-c, 2.0)))\n",
    "        dx=x[i,0]-c[0]\n",
    "        dy=x[i,1]-c[1]\n",
    "        dz=x[i,2]-c[2]\n",
    "        d[i]=(dx*2.0 + dy*2.0 + dz*2.0)**0.5\n"
   ]
  },
  {
   "cell_type": "code",
   "execution_count": 19,
   "metadata": {},
   "outputs": [],
   "source": [
    "def distanza2(x, c):#metodo veloce e giusto\n",
    "     np.sum((x-c)**2.0, axis=1)**0.5"
   ]
  },
  {
   "cell_type": "code",
   "execution_count": 26,
   "metadata": {},
   "outputs": [
    {
     "name": "stdout",
     "output_type": "stream",
     "text": [
      "14.3 μs ± 85 ns per loop (mean ± std. dev. of 7 runs, 100,000 loops each)\n"
     ]
    }
   ],
   "source": [
    "%timeit distanza2(x, c)"
   ]
  },
  {
   "cell_type": "code",
   "execution_count": 25,
   "metadata": {},
   "outputs": [],
   "source": [
    "#scrivere un programma che dato x, c e una distanza massima, dist_max, calcola il mumero di punti più vicini della distanza minima:\n",
    "def numero_coordinazione(x, c, dist_max):#modo lungo e sbagliato:\n",
    "    distanze=distanza2(x, c)\n",
    "    n_vicini=0\n",
    "    for distanza in distanze:\n",
    "        if distanza<dist_max:\n",
    "            n_vicini+=1\n",
    "    return n_vicini\n"
   ]
  },
  {
   "cell_type": "code",
   "execution_count": 24,
   "metadata": {},
   "outputs": [
    {
     "data": {
      "text/plain": [
       "array([ True, False, False])"
      ]
     },
     "execution_count": 24,
     "metadata": {},
     "output_type": "execute_result"
    }
   ],
   "source": [
    "a=np.array([1, 2, 3])\n",
    "a<2"
   ]
  },
  {
   "cell_type": "code",
   "execution_count": 23,
   "metadata": {},
   "outputs": [
    {
     "data": {
      "text/plain": [
       "2"
      ]
     },
     "execution_count": 23,
     "metadata": {},
     "output_type": "execute_result"
    }
   ],
   "source": [
    "np.sum(np.array([True, True, False, False]))#sto sommando booleani che saranno 1 solo se sono punti vicini"
   ]
  },
  {
   "cell_type": "code",
   "execution_count": 27,
   "metadata": {},
   "outputs": [],
   "source": [
    "#versione efficiente:\n",
    "def numero_coordinazione(x, c, dist_max):#modo lungo e sbagliato:\n",
    "    distanze=distanza2(x, c)\n",
    "    n_vicini=np.sum(distanze<dist_max)\n",
    "    return n_vicini"
   ]
  },
  {
   "cell_type": "code",
   "execution_count": null,
   "metadata": {},
   "outputs": [],
   "source": [
    "#scrivere un programma che dato x e c calcola il mumero di punti in x in cui tutte le coordinate sono superiori alle rispettive coordinate:\n",
    "def numero_punti_quadrante(x, c):#soluzione lenta e sbagliata:\n",
    "    n_punti=0\n",
    "    for i in range (x.shape[0]):\n",
    "        if x[i,0] > c[0] and x[i,1] > x[1] and x[i,2] >c[2]:\n",
    "            n_punti+=1\n"
   ]
  },
  {
   "cell_type": "code",
   "execution_count": null,
   "metadata": {},
   "outputs": [],
   "source": [
    "#versione efficiente:\n",
    "def numero_punti_quadrante(x, c):\n",
    "    n_punti=np.sum(np.all(x>c, axis=1))\n",
    "    return n_punti"
   ]
  },
  {
   "cell_type": "code",
   "execution_count": null,
   "metadata": {},
   "outputs": [],
   "source": [
    "#scrivere un progrmma che dato una matrice di punti x, un vettore di cariche elettriche q e un punto c, calcola il potenziale elettrostatico\n",
    "#dovuto alle cariche puntforme in c\n",
    "def potenziale (x, q, c):#versione lenta e sbagliata\n",
    "    pot=0\n",
    "    for i in range (x.shape[0]):\n",
    "        dx=x[i, 0] - c[0]\n",
    "        dy=x[i, 1] - c[1]\n",
    "        dz=x[i,2] -c[2]\n",
    "        dist=(dx**2.0 + )"
   ]
  },
  {
   "cell_type": "code",
   "execution_count": null,
   "metadata": {},
   "outputs": [],
   "source": [
    "#versione giusta:\n",
    "def potenziale (x, q, c):\n",
    "    d=distanza(x, c)\n",
    "    pot=np.sum(q/d)\n",
    "    #rivediti sta parte dalle registrazioni"
   ]
  },
  {
   "cell_type": "code",
   "execution_count": null,
   "metadata": {},
   "outputs": [],
   "source": [
    "#scrivere una funzione che calcola il baricentro (credo):\n",
    "def baricentro (x, m): #versione lenta con i cicli:\n",
    "    xc=0\n",
    "    yc=0\n",
    "    zc=0\n",
    "    for i in range (x.shape[0]):\n",
    "        xc+= x[i,0]*m[i]\n",
    "        yc+=x[i,1]*m[i]\n",
    "        zc+=x[i,2]*m[i]\n",
    "    xc/=np.sum(m)\n",
    "    yc/=np.sum(m)\n",
    "    zc/=np.sum(m)\n",
    "    return np.array([xc, yc, zc])"
   ]
  },
  {
   "cell_type": "code",
   "execution_count": null,
   "metadata": {},
   "outputs": [],
   "source": [
    "#versione giusta:\n",
    "def baricentro (x, m):\n",
    "    return np.sum((x*m.reshape((-1, 1))), axis=0) /np.sum(m)"
   ]
  },
  {
   "cell_type": "code",
   "execution_count": null,
   "metadata": {},
   "outputs": [],
   "source": [
    "#scrivere un programma che preso in ingresso un vettore monodimensionale di posizioni campionate con un periodo cosstante\n",
    "#restituisca una stima della derivata rispetto al tempo:\n",
    "n=100\n",
    "p=np.random.uniform(size=n) #versione lenta con i cicli\n",
    "def derivata (p):\n",
    "    v=np.zeros(len(p)-1)\n",
    "    for i in range (len(v)):\n",
    "        v[i]=(p[i+1]-p[i])\n",
    "    return v"
   ]
  },
  {
   "cell_type": "code",
   "execution_count": null,
   "metadata": {},
   "outputs": [],
   "source": [
    "#versione corretta:\n",
    "def derivata (p):\n",
    "    \n",
    "    return p[1:]-p[:-1]"
   ]
  },
  {
   "cell_type": "code",
   "execution_count": null,
   "metadata": {},
   "outputs": [],
   "source": [
    "import matplotlib.pyplot as plt\n",
    "f=plt.figure()\n",
    "x=np.linspace(-np.pi, np.pi, 1000)\n",
    "y=np.sin(x)\n",
    "dy=derivata(y)\n",
    "#continua guardati la lezione"
   ]
  },
  {
   "cell_type": "code",
   "execution_count": null,
   "metadata": {},
   "outputs": [],
   "source": [
    "#devo creare una matrice di tutto zeri ma con i numeri da 1 a 20 come contorno della matrice:\n",
    "n=6\n",
    "a=np.zeros((n,n)) \n",
    "a[0,:]=np.arange(1, n+1)\n",
    "a[1:, -1]=np.arange(n+1, n*2)\n",
    "a[-1,:-1]=np.arange(n*3-2, n*2-1, -1)\n",
    "a[-2:0:-1, 0]=np.arange(n*3-1, n*4-3)"
   ]
  },
  {
   "cell_type": "code",
   "execution_count": null,
   "metadata": {},
   "outputs": [],
   "source": [
    "#scrivere una funzione che prende in ingreso una matrice di n punti in  uno spazio bidimensionale organizzati per righe \n",
    "#(la prima riga corrisponde alle coordinate x,y,z del primo punto, e così via) e restituisce un vettore di N elementi il cui elemento i-esimo \n",
    "#coincide con la distanza del punto i dall'origine calcolata secondo la metrica manhattan. \n",
    "#la mettrica manhattan \n",
    "\n",
    "def manhattan(x):\n",
    "#finisci a casa"
   ]
  },
  {
   "cell_type": "code",
   "execution_count": null,
   "metadata": {},
   "outputs": [],
   "source": [
    "#grafici"
   ]
  },
  {
   "cell_type": "code",
   "execution_count": 34,
   "metadata": {},
   "outputs": [],
   "source": [
    "import matplotlib.pyplot as plt\n"
   ]
  },
  {
   "cell_type": "code",
   "execution_count": 40,
   "metadata": {},
   "outputs": [
    {
     "data": {
      "text/plain": [
       "[<matplotlib.lines.Line2D at 0x120dd8cb0>]"
      ]
     },
     "execution_count": 40,
     "metadata": {},
     "output_type": "execute_result"
    },
    {
     "data": {
      "image/png": "[encoded data removed]",
      "text/plain": [
       "<Figure size 640x480 with 1 Axes>"
      ]
     },
     "metadata": {},
     "output_type": "display_data"
    }
   ],
   "source": [
    "x=np.linspace(-np.pi, np.pi, 10)\n",
    "y=np.sin(x)\n",
    "f=plt.figure()\n",
    "ax=f.add_subplot(1,1,1)\n",
    "ax.plot (x,y, 'bo:')\n",
    "ax.plot (x,y, 'ro-')\n"
   ]
  }
 ],
 "metadata": {
  "kernelspec": {
   "display_name": "base",
   "language": "python",
   "name": "python3"
  },
  "language_info": {
   "codemirror_mode": {
    "name": "ipython",
    "version": 3
   },
   "file_extension": ".py",
   "mimetype": "text/x-python",
   "name": "python",
   "nbconvert_exporter": "python",
   "pygments_lexer": "ipython3",
   "version": "3.12.7"
  }
 },
 "nbformat": 4,
 "nbformat_minor": 2
}
