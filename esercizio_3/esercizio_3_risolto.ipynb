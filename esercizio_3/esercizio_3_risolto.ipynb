{
 "cells": [
  {
   "cell_type": "markdown",
   "metadata": {},
   "source": [
    "Scrivere una funzione che riceve in ingresso una lista e restituisce la somma degli elementi della lista al quadrato. Testare la funzione."
   ]
  },
  {
   "cell_type": "code",
   "execution_count": null,
   "metadata": {},
   "outputs": [],
   "source": [
    "def somma_quadrati(l):\n",
    "    \"\"\"\n",
    "    Restituisce la somma degli elementi di l al quadrato\n",
    "    \"\"\"\n",
    "    s = 0\n",
    "    for x in l:\n",
    "        s += x**2\n",
    "    return s"
   ]
  },
  {
   "cell_type": "code",
   "execution_count": null,
   "metadata": {},
   "outputs": [],
   "source": [
    "d2 = somma_quadrati([2,3,5])\n",
    "print(d2)"
   ]
  },
  {
   "cell_type": "markdown",
   "metadata": {},
   "source": [
    "Scrivere una funzione che riceve in ingresso due liste e restituisce una lista in cui ogni elemento e' eguale al maggiore tra gli elementi dello stesso indice nelle due liste in ingresso, se esistono entrambi, all'unico elemento disponibile, se una delle due liste e' piu' lunga dell'altra.\n",
    "\n",
    "Esempio: se le liste in ingresso sono [1, 4, 2] e [-1, 5, 4, -4], la funzione deve restituire [1, 5, 4, -4]"
   ]
  },
  {
   "cell_type": "code",
   "execution_count": null,
   "metadata": {},
   "outputs": [],
   "source": [
    "def lista_maggiore(l1, l2):\n",
    "    \"\"\"\n",
    "    Restituisce una lista in cui ogni elemento e' eguale al maggiore tra gli elementi dello stesso indice nelle due liste in ingresso, se esistono entrambi, all'unico elemento disponibile, se una delle due liste e' piu' lunga dell'altra\n",
    "    \"\"\"\n",
    "    i = 0\n",
    "    l = []\n",
    "    while i < len(l1) and i < len(l2):\n",
    "        if l1[i] > l2[i]:\n",
    "            l.append(l1[i])\n",
    "        else:\n",
    "            l.append(l2[i])\n",
    "        i += 1\n",
    "    while i < len(l1):\n",
    "        l.append(l1[i])\n",
    "        i += 1\n",
    "    while i < len(l2):\n",
    "        l.append(l2[i])\n",
    "        i += 1\n",
    "    return l              "
   ]
  },
  {
   "cell_type": "code",
   "execution_count": null,
   "metadata": {},
   "outputs": [],
   "source": [
    "lista_maggiore([1,4,2], [-1,5,4,-4])"
   ]
  },
  {
   "cell_type": "markdown",
   "metadata": {},
   "source": [
    "Scrivere una funzione che riceve in ingresso una lista di numeri e restituisce la mediana.  La mediana e' definita come il valore X per cui meta' dei componente di L sono inferiori a X, e meta' superiori. Se il numero di elementi nella lista e' pari, restituire la media tra i due valori centrali. Implementare la funzione in modo che non modifichi la lista ricevuta in input."
   ]
  },
  {
   "cell_type": "code",
   "execution_count": null,
   "metadata": {},
   "outputs": [],
   "source": [
    "def mediana(l):\n",
    "    l = l.copy() # in questo modo l'operazione di sort viene fatta su una copia locale della lista \n",
    "    l.sort() \n",
    "    if len(l) % 2 == 1:\n",
    "        return l[len(l) // 2]\n",
    "    else:\n",
    "        return 0.5*(l[len(l)//2]+l[1+len(l)//2])"
   ]
  },
  {
   "cell_type": "code",
   "execution_count": null,
   "metadata": {},
   "outputs": [],
   "source": [
    "l = [4,2,3,1]\n",
    "m = mediana(l)\n",
    "print(m)\n",
    "print(l)"
   ]
  },
  {
   "cell_type": "markdown",
   "metadata": {},
   "source": [
    "Scrivere una funzione che riceve in ingresso una lista di numeri e restituisce la norma 2."
   ]
  },
  {
   "cell_type": "code",
   "execution_count": null,
   "metadata": {},
   "outputs": [],
   "source": [
    "def norma(l):\n",
    "    m = 0\n",
    "    for x in l:\n",
    "        m += x**2\n",
    "    m = m**0.5\n",
    "    return m"
   ]
  },
  {
   "cell_type": "code",
   "execution_count": null,
   "metadata": {},
   "outputs": [],
   "source": [
    "n = norma([1,1])\n",
    "print(n)"
   ]
  },
  {
   "cell_type": "markdown",
   "metadata": {},
   "source": [
    "Modificare la funzione precedente in modo che a default calcoli la norma 2 ma che permetta di calcolare la norma di ordine p se diversamente specificato."
   ]
  },
  {
   "cell_type": "code",
   "execution_count": null,
   "metadata": {},
   "outputs": [],
   "source": [
    "def norma(l, p = 2):\n",
    "    m = 0\n",
    "    for x in l:\n",
    "        m += x**p\n",
    "    m = m**(1/p)\n",
    "    return m"
   ]
  },
  {
   "cell_type": "code",
   "execution_count": null,
   "metadata": {},
   "outputs": [],
   "source": [
    "n = norma([1,1])\n",
    "print(n)\n",
    "n = norma([1,1], p = 3)\n",
    "print(n)"
   ]
  }
 ],
 "metadata": {
  "kernelspec": {
   "display_name": "Python 3 (ipykernel)",
   "language": "python",
   "name": "python3"
  },
  "language_info": {
   "codemirror_mode": {
    "name": "ipython",
    "version": 3
   },
   "file_extension": ".py",
   "mimetype": "text/x-python",
   "name": "python",
   "nbconvert_exporter": "python",
   "pygments_lexer": "ipython3",
   "version": "3.12.4"
  }
 },
 "nbformat": 4,
 "nbformat_minor": 4
}
