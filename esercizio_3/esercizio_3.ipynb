{
 "cells": [
  {
   "cell_type": "markdown",
   "metadata": {},
   "source": [
    "Scrivere una funzione che riceve in ingresso una lista e restituisce la somma degli elementi della lista al quadrato. Testare la funzione."
   ]
  },
  {
   "cell_type": "code",
   "execution_count": 7,
   "metadata": {},
   "outputs": [
    {
     "name": "stdout",
     "output_type": "stream",
     "text": [
      "194\n"
     ]
    }
   ],
   "source": [
    "def quadrati(l1):\n",
    "    somma=0\n",
    "    for i in l1:\n",
    "        somma+=i**2\n",
    "    return somma\n",
    "l1=[12,3,4,5]\n",
    "print (quadrati(l1))"
   ]
  },
  {
   "cell_type": "markdown",
   "metadata": {},
   "source": [
    "Scrivere una funzione che riceve in ingresso due liste e restituisce una lista in cui ogni elemento e' eguale al maggiore tra gli elementi dello stesso indice nelle due liste in ingresso, se esistono entrambi, all'unico elemento disponibile, se una delle due liste e' piu' lunga dell'altra.\n",
    "\n",
    "Esempio: se le liste in ingresso sono [1, 4, 2] e [-1, 5, 4, -4], la funzione deve restituire [1, 5, 4, -4]"
   ]
  },
  {
   "cell_type": "code",
   "execution_count": 13,
   "metadata": {},
   "outputs": [],
   "source": [
    "def maggiore (l1, l2):\n",
    "    i=0\n",
    "    l_max=[]\n",
    "    while i<len(l1) and i<len(l2):\n",
    "        if l1[i]>l2[i]:\n",
    "            l_max.append(l1[i])\n",
    "        else:\n",
    "            l_max.append(l2[i])\n",
    "        i+=1\n",
    "    while i<len(l1) or i<len(l2):\n",
    "        if i<len(l1):\n",
    "            l_max.append(l1[i])\n",
    "        else:\n",
    "            l_max.append(l2[i])\n",
    "        i+=1\n",
    "    return l_max\n",
    "\n",
    "\n"
   ]
  },
  {
   "cell_type": "code",
   "execution_count": 14,
   "metadata": {},
   "outputs": [
    {
     "name": "stdout",
     "output_type": "stream",
     "text": [
      "[1, 5, 4, -4]\n"
     ]
    }
   ],
   "source": [
    "l1=[1, 4, 2] \n",
    "l2=[-1, 5, 4, -4]\n",
    "\n",
    "print (maggiore(l1, l2))"
   ]
  },
  {
   "cell_type": "markdown",
   "metadata": {},
   "source": [
    "Scrivere una funzione che riceve in ingresso una lista di numeri e restituisce la mediana.  La mediana e' definita come il valore X per cui meta' dei componente di L sono inferiori a X, e meta' superiori. Se il numero di elementi nella lista e' pari, restituire la media tra i due valori centrali. Implementare la funzione in modo che non modifichi la lista ricevuta in input."
   ]
  },
  {
   "cell_type": "code",
   "execution_count": 30,
   "metadata": {},
   "outputs": [],
   "source": [
    "def mediana (l1):\n",
    "    l2=l1.copy()\n",
    "    l2.sort\n",
    "    if len(l2)%2==0:\n",
    "        mediana=((l2[len(l2)//2]+l2[len(l2)//2-1])//2)\n",
    "    else:\n",
    "        mediana=l2[int(len(l2)//2)]\n",
    "    return mediana\n",
    "\n"
   ]
  },
  {
   "cell_type": "code",
   "execution_count": 31,
   "metadata": {},
   "outputs": [
    {
     "name": "stdout",
     "output_type": "stream",
     "text": [
      "5\n"
     ]
    }
   ],
   "source": [
    "l1=[1,2,3,4,5,6,7,8,9]\n",
    "print (mediana(l1))"
   ]
  },
  {
   "cell_type": "markdown",
   "metadata": {},
   "source": [
    "Scrivere una funzione che riceve in ingresso una lista di numeri (che rappresenta un vettore di dimensione n) e ne restituisce la norma 2."
   ]
  },
  {
   "cell_type": "code",
   "execution_count": 34,
   "metadata": {},
   "outputs": [],
   "source": [
    "def norma(l1):\n",
    "    somma_quad=0\n",
    "    for i in l1:\n",
    "        somma_quad+=i**2\n",
    "    norma=somma_quad**(1/2)\n",
    "    return norma"
   ]
  },
  {
   "cell_type": "code",
   "execution_count": 35,
   "metadata": {},
   "outputs": [
    {
     "name": "stdout",
     "output_type": "stream",
     "text": [
      "2.23606797749979\n"
     ]
    }
   ],
   "source": [
    "l1=[1,2]\n",
    "print (norma(l1))"
   ]
  },
  {
   "cell_type": "markdown",
   "metadata": {},
   "source": [
    "Modificare la funzione precedente in modo che a default calcoli la norma 2 ma che permetta di calcolare la norma di ordine p se diversamente specificato."
   ]
  },
  {
   "cell_type": "code",
   "execution_count": 1,
   "metadata": {},
   "outputs": [],
   "source": [
    "def norma(l1, p):\n",
    "    somma_quad=0\n",
    "    for i in l1:\n",
    "        somma_quad+=i**p\n",
    "    norma=somma_quad**(1/p)\n",
    "    return norma"
   ]
  },
  {
   "cell_type": "code",
   "execution_count": 7,
   "metadata": {},
   "outputs": [
    {
     "name": "stdout",
     "output_type": "stream",
     "text": [
      "2.0305431848689306\n"
     ]
    }
   ],
   "source": [
    "l1=[1,2]\n",
    "p=int(input('inserisci ordine della norma'))\n",
    "print (norma(l1, p))"
   ]
  }
 ],
 "metadata": {
  "kernelspec": {
   "display_name": "base",
   "language": "python",
   "name": "python3"
  },
  "language_info": {
   "codemirror_mode": {
    "name": "ipython",
    "version": 3
   },
   "file_extension": ".py",
   "mimetype": "text/x-python",
   "name": "python",
   "nbconvert_exporter": "python",
   "pygments_lexer": "ipython3",
   "version": "3.12.7"
  }
 },
 "nbformat": 4,
 "nbformat_minor": 4
}
