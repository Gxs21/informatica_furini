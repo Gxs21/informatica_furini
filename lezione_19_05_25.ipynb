{
 "cells": [
  {
   "cell_type": "code",
   "execution_count": null,
   "metadata": {},
   "outputs": [],
   "source": [
    "#parleremo di efficienze di un codice"
   ]
  },
  {
   "cell_type": "code",
   "execution_count": 3,
   "metadata": {},
   "outputs": [],
   "source": [
    "def f():\n",
    "    for i in range (1000):\n",
    "        k=i**2.0"
   ]
  },
  {
   "cell_type": "code",
   "execution_count": 4,
   "metadata": {},
   "outputs": [],
   "source": [
    "import time\n",
    "ts=time.time() #restituisce un oggetto che rappresenta l'istante temporale in cui è stata chiamata la finzione\n",
    "f()\n",
    "te=time.time()"
   ]
  },
  {
   "cell_type": "code",
   "execution_count": null,
   "metadata": {},
   "outputs": [
    {
     "name": "stdout",
     "output_type": "stream",
     "text": [
      "0.00019788742065429688\n"
     ]
    }
   ],
   "source": [
    "print (te-ts) #restituisce la differenza in secondi quanto ha impiegato la funzione, visto che ts viene assegnato prima di chiamarla e te dopo"
   ]
  },
  {
   "cell_type": "code",
   "execution_count": null,
   "metadata": {},
   "outputs": [
    {
     "name": "stdout",
     "output_type": "stream",
     "text": [
      "50 μs ± 1.37 μs per loop (mean ± std. dev. of 7 runs, 10,000 loops each)\n"
     ]
    }
   ],
   "source": [
    "%timeit f() #è un'istruzione non di python ma del jupiter notebook, \n",
    "#esegue un certo numero di volte la funzione, in questo caso 7, e calcola il tempo medio di esecuzione, è molto più preciso\n",
    "#quando uso, come prima, ts e te, è possibile che tra ts e te potrebbero essere eseguite altre cose x, quindi conviene usare sempre %time.it"
   ]
  },
  {
   "cell_type": "code",
   "execution_count": null,
   "metadata": {},
   "outputs": [],
   "source": [
    "#iniziamo a lavorare con numpy"
   ]
  },
  {
   "cell_type": "code",
   "execution_count": 9,
   "metadata": {},
   "outputs": [
    {
     "data": {
      "text/plain": [
       "\"il primo oggetto che vediamo è il vettore numpy, elemento base della libreria numpy\\nil vettore numpy è multidimensionale, al contrario della lista che è monodimensionale\\nè fatto di un solo tipo di elementi, al contrario della lista che poteva avere elementi di tipo diverso\\nil tipo intero di un vettore numpy sono degli interi con un range (8 bit, 16,32,64) quando definiamo un vettore bisogna specificare il tipo di dato\\nad esempio tra interi e float e il tipo di interi o float\\nil vettore può essere di interi, float, bool, e numeri complessi, noi useremo quasi solo int e float con le impostazioni predefinite dell'interprete\""
      ]
     },
     "execution_count": 9,
     "metadata": {},
     "output_type": "execute_result"
    }
   ],
   "source": [
    "import numpy as np\n",
    "'''il primo oggetto che vediamo è il vettore numpy, elemento base della libreria numpy\n",
    "il vettore numpy è multidimensionale, al contrario della lista che è monodimensionale\n",
    "è fatto di un solo tipo di elementi, al contrario della lista che poteva avere elementi di tipo diverso\n",
    "il tipo intero di un vettore numpy sono degli interi con un range (8 bit, 16,32,64) quando definiamo un vettore bisogna specificare il tipo di dato\n",
    "ad esempio tra interi e float e il tipo di interi o float\n",
    "il vettore può essere di interi, float, bool, e numeri complessi, noi useremo quasi solo int e float con le impostazioni predefinite dell'interprete'''\n",
    "\n"
   ]
  },
  {
   "cell_type": "code",
   "execution_count": null,
   "metadata": {},
   "outputs": [],
   "source": [
    "x=np.array([1, 3, 7, 8, -1]) #abbiamo definito un vettore multidimensionale di interi"
   ]
  },
  {
   "cell_type": "code",
   "execution_count": 11,
   "metadata": {},
   "outputs": [
    {
     "name": "stdout",
     "output_type": "stream",
     "text": [
      "[ 1  3  7  8 -1]\n"
     ]
    }
   ],
   "source": [
    "print(x)"
   ]
  },
  {
   "cell_type": "code",
   "execution_count": 12,
   "metadata": {},
   "outputs": [
    {
     "data": {
      "text/plain": [
       "numpy.ndarray"
      ]
     },
     "execution_count": 12,
     "metadata": {},
     "output_type": "execute_result"
    }
   ],
   "source": [
    "type (x)"
   ]
  },
  {
   "cell_type": "code",
   "execution_count": null,
   "metadata": {},
   "outputs": [
    {
     "data": {
      "text/plain": [
       "array([1, 3, 7])"
      ]
     },
     "execution_count": 14,
     "metadata": {},
     "output_type": "execute_result"
    }
   ],
   "source": [
    "x[2]#esattamente come nelle liste possiamo pescare gli elementi indicizzati\n",
    "x[:3]#valgono tutte le regole di indicizzazione e slicing"
   ]
  },
  {
   "cell_type": "code",
   "execution_count": null,
   "metadata": {},
   "outputs": [
    {
     "data": {
      "text/plain": [
       "5"
      ]
     },
     "execution_count": 15,
     "metadata": {},
     "output_type": "execute_result"
    }
   ],
   "source": [
    "len (x)#anche len() funziona come nelle liste"
   ]
  },
  {
   "cell_type": "code",
   "execution_count": 16,
   "metadata": {},
   "outputs": [
    {
     "data": {
      "text/plain": [
       "1"
      ]
     },
     "execution_count": 16,
     "metadata": {},
     "output_type": "execute_result"
    }
   ],
   "source": [
    "x.ndim #sto pescando l'attributo ndim di ix, un attributo è una caratteristica dell'oggetto, in questo caso ndim è il numero di dimensioni"
   ]
  },
  {
   "cell_type": "code",
   "execution_count": null,
   "metadata": {},
   "outputs": [
    {
     "data": {
      "text/plain": [
       "(5,)"
      ]
     },
     "execution_count": 17,
     "metadata": {},
     "output_type": "execute_result"
    }
   ],
   "source": [
    "x.shape #è la forma del vettore se fosse stato un vettore di più dimensioni avrebbe stampato il numero di elementi lungo le altre dimensioni"
   ]
  },
  {
   "cell_type": "code",
   "execution_count": 18,
   "metadata": {},
   "outputs": [
    {
     "data": {
      "text/plain": [
       "5"
      ]
     },
     "execution_count": 18,
     "metadata": {},
     "output_type": "execute_result"
    }
   ],
   "source": [
    "x.size #ci dice quanto è grande il vettore, se fosse stata una matrice 5x2 avrebbe scritto 10"
   ]
  },
  {
   "cell_type": "code",
   "execution_count": null,
   "metadata": {},
   "outputs": [
    {
     "data": {
      "text/plain": [
       "dtype('int64')"
      ]
     },
     "execution_count": 21,
     "metadata": {},
     "output_type": "execute_result"
    }
   ],
   "source": [
    "x.dtype #ci dice di che tipo sono gli elementi del vettore, in questo caso interi a 64 bit"
   ]
  },
  {
   "cell_type": "code",
   "execution_count": 24,
   "metadata": {},
   "outputs": [
    {
     "data": {
      "text/plain": [
       "dtype('float64')"
      ]
     },
     "execution_count": 24,
     "metadata": {},
     "output_type": "execute_result"
    }
   ],
   "source": [
    "x=np.array([-1, 3, 4, 5, -1.0])\n",
    "x.dtype#in questo caso tutti gli elementi vengono considerati float, non come nelle liste dove solo uno sarebbe stato float e gli altri int"
   ]
  },
  {
   "cell_type": "code",
   "execution_count": 26,
   "metadata": {},
   "outputs": [
    {
     "data": {
      "text/plain": [
       "8"
      ]
     },
     "execution_count": 26,
     "metadata": {},
     "output_type": "execute_result"
    }
   ],
   "source": [
    "x.itemsize #mi dice quanti byte occupa ciascun elemento del vettore\n",
    "\n"
   ]
  },
  {
   "cell_type": "code",
   "execution_count": 27,
   "metadata": {},
   "outputs": [
    {
     "data": {
      "text/plain": [
       "40"
      ]
     },
     "execution_count": 27,
     "metadata": {},
     "output_type": "execute_result"
    }
   ],
   "source": [
    "x.nbytes#ci dice il numero di bytes che occupa l'intero vettore"
   ]
  },
  {
   "cell_type": "code",
   "execution_count": 31,
   "metadata": {},
   "outputs": [],
   "source": [
    "A=np.array([[0, 2, 5], [3, 4, 7], [1, 0, -1], [-9, 4, 2]])\n",
    "#è un vettore numpy ndimensionale in questo caso di 2 dimensioni, la lista interna definisce le righe\n",
    "            "
   ]
  },
  {
   "cell_type": "code",
   "execution_count": 33,
   "metadata": {},
   "outputs": [
    {
     "data": {
      "text/plain": [
       "2"
      ]
     },
     "execution_count": 33,
     "metadata": {},
     "output_type": "execute_result"
    }
   ],
   "source": [
    "A.ndim"
   ]
  },
  {
   "cell_type": "code",
   "execution_count": 34,
   "metadata": {},
   "outputs": [
    {
     "data": {
      "text/plain": [
       "(4, 3)"
      ]
     },
     "execution_count": 34,
     "metadata": {},
     "output_type": "execute_result"
    }
   ],
   "source": [
    "A.shape"
   ]
  },
  {
   "cell_type": "code",
   "execution_count": null,
   "metadata": {},
   "outputs": [],
   "source": [
    "A=np.array([[[0, 2, 5], [3, 4, 7], [1, 0, -1], [-9, 4, 2]], [[0, 2, 5], [3, 4, 7], [1, 0, -1], [-9, 4, 2]]])\n",
    "#questa è una matrice di 3 dimensioni"
   ]
  },
  {
   "cell_type": "code",
   "execution_count": 37,
   "metadata": {},
   "outputs": [
    {
     "name": "stdout",
     "output_type": "stream",
     "text": [
      "[[[ 0  2  5]\n",
      "  [ 3  4  7]\n",
      "  [ 1  0 -1]\n",
      "  [-9  4  2]]\n",
      "\n",
      " [[ 0  2  5]\n",
      "  [ 3  4  7]\n",
      "  [ 1  0 -1]\n",
      "  [-9  4  2]]]\n"
     ]
    }
   ],
   "source": [
    "print (A)"
   ]
  },
  {
   "cell_type": "code",
   "execution_count": 40,
   "metadata": {},
   "outputs": [
    {
     "data": {
      "text/plain": [
       "3"
      ]
     },
     "execution_count": 40,
     "metadata": {},
     "output_type": "execute_result"
    }
   ],
   "source": [
    "A.ndim"
   ]
  },
  {
   "cell_type": "code",
   "execution_count": 41,
   "metadata": {},
   "outputs": [
    {
     "data": {
      "text/plain": [
       "(2, 4, 3)"
      ]
     },
     "execution_count": 41,
     "metadata": {},
     "output_type": "execute_result"
    }
   ],
   "source": [
    "A.shape\n"
   ]
  },
  {
   "cell_type": "code",
   "execution_count": 42,
   "metadata": {},
   "outputs": [],
   "source": [
    "A=np.array([[0, 2, 5], [3, 4, 7], [1, 0, -1], [-9, 4, 2]])"
   ]
  },
  {
   "cell_type": "code",
   "execution_count": 43,
   "metadata": {},
   "outputs": [
    {
     "name": "stdout",
     "output_type": "stream",
     "text": [
      "[[ 0  2  5]\n",
      " [ 3  4  7]\n",
      " [ 1  0 -1]\n",
      " [-9  4  2]]\n"
     ]
    }
   ],
   "source": [
    "print (A)"
   ]
  },
  {
   "cell_type": "code",
   "execution_count": 44,
   "metadata": {},
   "outputs": [
    {
     "data": {
      "text/plain": [
       "1"
      ]
     },
     "execution_count": 44,
     "metadata": {},
     "output_type": "execute_result"
    }
   ],
   "source": [
    "A[2,0]#prendo l'elemendo della terza riga, prima colonna"
   ]
  },
  {
   "cell_type": "code",
   "execution_count": 47,
   "metadata": {},
   "outputs": [
    {
     "name": "stdout",
     "output_type": "stream",
     "text": [
      "0\n",
      "2\n",
      "5\n",
      "3\n",
      "4\n",
      "7\n",
      "1\n",
      "0\n",
      "-1\n",
      "-9\n",
      "4\n",
      "2\n"
     ]
    }
   ],
   "source": [
    "for ir in range(A.shape[0]):#A.shape mi restituisce la tupla della quale le righe sono l'elemento di indice 0\n",
    "    for ic in range(A.shape[1]):#A.shape mi restituisce la tupla della quale le colonne sono l'elemento di indice 1\n",
    "        print (A[ir, ic])"
   ]
  },
  {
   "cell_type": "code",
   "execution_count": null,
   "metadata": {},
   "outputs": [
    {
     "data": {
      "text/plain": [
       "array([5, 7])"
      ]
     },
     "execution_count": 48,
     "metadata": {},
     "output_type": "execute_result"
    }
   ],
   "source": [
    "A[0:2,2]#stesso slicing delle liste, in questo caso prendo le prime due righe e la terza colonna"
   ]
  },
  {
   "cell_type": "code",
   "execution_count": 49,
   "metadata": {},
   "outputs": [
    {
     "data": {
      "text/plain": [
       "array([ 7, -1,  2])"
      ]
     },
     "execution_count": 49,
     "metadata": {},
     "output_type": "execute_result"
    }
   ],
   "source": [
    "A[1:, 2] #parto dalla seconda riga, arrivo all'ultima e prendo la terza colonna"
   ]
  },
  {
   "cell_type": "code",
   "execution_count": null,
   "metadata": {},
   "outputs": [
    {
     "data": {
      "text/plain": [
       "array([-9,  1,  3,  0])"
      ]
     },
     "execution_count": 50,
     "metadata": {},
     "output_type": "execute_result"
    }
   ],
   "source": [
    "A[::-1,0]#prendo la prima colonna ma letta al contrario"
   ]
  },
  {
   "cell_type": "code",
   "execution_count": null,
   "metadata": {},
   "outputs": [
    {
     "data": {
      "text/plain": [
       "array([[-9,  4],\n",
       "       [ 1,  0],\n",
       "       [ 3,  4],\n",
       "       [ 0,  2]])"
      ]
     },
     "execution_count": 51,
     "metadata": {},
     "output_type": "execute_result"
    }
   ],
   "source": [
    "A[::-1, 0:2] #posso eseguire lo slicing in tutte le dimensioni"
   ]
  },
  {
   "cell_type": "code",
   "execution_count": null,
   "metadata": {},
   "outputs": [
    {
     "data": {
      "text/plain": [
       "array([[-9,  4,  2],\n",
       "       [ 1,  0, -1],\n",
       "       [ 3,  4,  7],\n",
       "       [ 0,  2,  5]])"
      ]
     },
     "execution_count": 52,
     "metadata": {},
     "output_type": "execute_result"
    }
   ],
   "source": [
    "A[::-1, :]#prendo tutta la matrice facendo una riflessione verticale"
   ]
  },
  {
   "cell_type": "code",
   "execution_count": null,
   "metadata": {},
   "outputs": [],
   "source": [
    "x=np.ones(10)#costruisce di default un vettore di float pariu a 1."
   ]
  },
  {
   "cell_type": "code",
   "execution_count": null,
   "metadata": {},
   "outputs": [
    {
     "data": {
      "text/plain": [
       "array([1., 1., 1., 1., 1., 1., 1., 1., 1., 1.])"
      ]
     },
     "execution_count": 56,
     "metadata": {},
     "output_type": "execute_result"
    }
   ],
   "source": [
    "x"
   ]
  },
  {
   "cell_type": "code",
   "execution_count": null,
   "metadata": {},
   "outputs": [],
   "source": [
    "x=np.ones (10, dtype=np.int8)#posso in questo modo specificare il tipo di dato da inserire e quanti elementi inserire"
   ]
  },
  {
   "cell_type": "code",
   "execution_count": 60,
   "metadata": {},
   "outputs": [
    {
     "data": {
      "text/plain": [
       "array([1, 1, 1, 1, 1, 1, 1, 1, 1, 1], dtype=int8)"
      ]
     },
     "execution_count": 60,
     "metadata": {},
     "output_type": "execute_result"
    }
   ],
   "source": [
    "x"
   ]
  },
  {
   "cell_type": "code",
   "execution_count": null,
   "metadata": {},
   "outputs": [
    {
     "name": "stderr",
     "output_type": "stream",
     "text": [
      "/var/folders/zk/_8kgcnss2970p4t4pl1k17gm0000gn/T/ipykernel_15114/1451188793.py:1: DeprecationWarning: NumPy will stop allowing conversion of out-of-bound Python integers to integer arrays.  The conversion of 32000 to int8 will fail in the future.\n",
      "For the old behavior, usually:\n",
      "    np.array(value).astype(dtype)\n",
      "will give the desired result (the cast overflows).\n",
      "  x[0]=32000\n"
     ]
    }
   ],
   "source": [
    "x[0]=32000#dà errore in quanto avevo scelto interi di soli 8 bit che non bastano per rappresentare 32000"
   ]
  },
  {
   "cell_type": "code",
   "execution_count": null,
   "metadata": {},
   "outputs": [],
   "source": [
    "x=np.ones((4,8), dtype=np.int64)#definisco una matrice 4x8 di uni"
   ]
  },
  {
   "cell_type": "code",
   "execution_count": 63,
   "metadata": {},
   "outputs": [
    {
     "data": {
      "text/plain": [
       "array([[1, 1, 1, 1, 1, 1, 1, 1],\n",
       "       [1, 1, 1, 1, 1, 1, 1, 1],\n",
       "       [1, 1, 1, 1, 1, 1, 1, 1],\n",
       "       [1, 1, 1, 1, 1, 1, 1, 1]])"
      ]
     },
     "execution_count": 63,
     "metadata": {},
     "output_type": "execute_result"
    }
   ],
   "source": [
    "x"
   ]
  },
  {
   "cell_type": "code",
   "execution_count": null,
   "metadata": {},
   "outputs": [],
   "source": [
    "x=np.zeros((4,8))#definisco una matrice 4x8 di zeri, anche in questo caso, di default saranno float"
   ]
  },
  {
   "cell_type": "code",
   "execution_count": 65,
   "metadata": {},
   "outputs": [
    {
     "data": {
      "text/plain": [
       "array([[0., 0., 0., 0., 0., 0., 0., 0.],\n",
       "       [0., 0., 0., 0., 0., 0., 0., 0.],\n",
       "       [0., 0., 0., 0., 0., 0., 0., 0.],\n",
       "       [0., 0., 0., 0., 0., 0., 0., 0.]])"
      ]
     },
     "execution_count": 65,
     "metadata": {},
     "output_type": "execute_result"
    }
   ],
   "source": [
    "x"
   ]
  },
  {
   "cell_type": "code",
   "execution_count": null,
   "metadata": {},
   "outputs": [],
   "source": [
    "I=np.eye(10)#eye è il modo per definire la matrice identità"
   ]
  },
  {
   "cell_type": "code",
   "execution_count": 67,
   "metadata": {},
   "outputs": [
    {
     "data": {
      "text/plain": [
       "array([[1., 0., 0., 0., 0., 0., 0., 0., 0., 0.],\n",
       "       [0., 1., 0., 0., 0., 0., 0., 0., 0., 0.],\n",
       "       [0., 0., 1., 0., 0., 0., 0., 0., 0., 0.],\n",
       "       [0., 0., 0., 1., 0., 0., 0., 0., 0., 0.],\n",
       "       [0., 0., 0., 0., 1., 0., 0., 0., 0., 0.],\n",
       "       [0., 0., 0., 0., 0., 1., 0., 0., 0., 0.],\n",
       "       [0., 0., 0., 0., 0., 0., 1., 0., 0., 0.],\n",
       "       [0., 0., 0., 0., 0., 0., 0., 1., 0., 0.],\n",
       "       [0., 0., 0., 0., 0., 0., 0., 0., 1., 0.],\n",
       "       [0., 0., 0., 0., 0., 0., 0., 0., 0., 1.]])"
      ]
     },
     "execution_count": 67,
     "metadata": {},
     "output_type": "execute_result"
    }
   ],
   "source": [
    "I"
   ]
  },
  {
   "cell_type": "code",
   "execution_count": null,
   "metadata": {},
   "outputs": [],
   "source": [
    "x=np.arange(10)#in questo caso dando solo 10 dico alla arange dove arrivare, ovviamente come sempre in python si ferma a 9 non a 10"
   ]
  },
  {
   "cell_type": "code",
   "execution_count": 70,
   "metadata": {},
   "outputs": [
    {
     "data": {
      "text/plain": [
       "10"
      ]
     },
     "execution_count": 70,
     "metadata": {},
     "output_type": "execute_result"
    }
   ],
   "source": [
    "10"
   ]
  },
  {
   "cell_type": "code",
   "execution_count": 71,
   "metadata": {},
   "outputs": [],
   "source": [
    "x=np.arange(-1,13)"
   ]
  },
  {
   "cell_type": "code",
   "execution_count": 72,
   "metadata": {},
   "outputs": [
    {
     "data": {
      "text/plain": [
       "array([-1,  0,  1,  2,  3,  4,  5,  6,  7,  8,  9, 10, 11, 12])"
      ]
     },
     "execution_count": 72,
     "metadata": {},
     "output_type": "execute_result"
    }
   ],
   "source": [
    "x"
   ]
  },
  {
   "cell_type": "code",
   "execution_count": 74,
   "metadata": {},
   "outputs": [],
   "source": [
    "x=np.arange(-4, 4, 0.25)#in questo caso gli dico da dove part a dove arrivo e on che periodo mi muovo"
   ]
  },
  {
   "cell_type": "code",
   "execution_count": 75,
   "metadata": {},
   "outputs": [
    {
     "data": {
      "text/plain": [
       "array([-4.  , -3.75, -3.5 , -3.25, -3.  , -2.75, -2.5 , -2.25, -2.  ,\n",
       "       -1.75, -1.5 , -1.25, -1.  , -0.75, -0.5 , -0.25,  0.  ,  0.25,\n",
       "        0.5 ,  0.75,  1.  ,  1.25,  1.5 ,  1.75,  2.  ,  2.25,  2.5 ,\n",
       "        2.75,  3.  ,  3.25,  3.5 ,  3.75])"
      ]
     },
     "execution_count": 75,
     "metadata": {},
     "output_type": "execute_result"
    }
   ],
   "source": [
    "x"
   ]
  },
  {
   "cell_type": "code",
   "execution_count": 77,
   "metadata": {},
   "outputs": [
    {
     "data": {
      "text/plain": [
       "3.141592653589793"
      ]
     },
     "execution_count": 77,
     "metadata": {},
     "output_type": "execute_result"
    }
   ],
   "source": [
    "np.pi"
   ]
  },
  {
   "cell_type": "code",
   "execution_count": 78,
   "metadata": {},
   "outputs": [
    {
     "data": {
      "text/plain": [
       "array([-3.14159265, -2.82743339, -2.51327412, -2.19911486, -1.88495559,\n",
       "       -1.57079633, -1.25663706, -0.9424778 , -0.62831853, -0.31415927,\n",
       "        0.        ,  0.31415927,  0.62831853,  0.9424778 ,  1.25663706,\n",
       "        1.57079633,  1.88495559,  2.19911486,  2.51327412,  2.82743339])"
      ]
     },
     "execution_count": 78,
     "metadata": {},
     "output_type": "execute_result"
    }
   ],
   "source": [
    "np.arange(-np.pi, np.pi, np.pi/10) #sto prendendo i valori da meno pi greco a pi greco con uno step di pi greco decimi"
   ]
  },
  {
   "cell_type": "code",
   "execution_count": 79,
   "metadata": {},
   "outputs": [
    {
     "data": {
      "text/plain": [
       "array([-3.14159265, -3.07812614, -3.01465962, -2.9511931 , -2.88772658,\n",
       "       -2.82426006, -2.76079354, -2.69732703, -2.63386051, -2.57039399,\n",
       "       -2.50692747, -2.44346095, -2.37999443, -2.31652792, -2.2530614 ,\n",
       "       -2.18959488, -2.12612836, -2.06266184, -1.99919533, -1.93572881,\n",
       "       -1.87226229, -1.80879577, -1.74532925, -1.68186273, -1.61839622,\n",
       "       -1.5549297 , -1.49146318, -1.42799666, -1.36453014, -1.30106362,\n",
       "       -1.23759711, -1.17413059, -1.11066407, -1.04719755, -0.98373103,\n",
       "       -0.92026451, -0.856798  , -0.79333148, -0.72986496, -0.66639844,\n",
       "       -0.60293192, -0.53946541, -0.47599889, -0.41253237, -0.34906585,\n",
       "       -0.28559933, -0.22213281, -0.1586663 , -0.09519978, -0.03173326,\n",
       "        0.03173326,  0.09519978,  0.1586663 ,  0.22213281,  0.28559933,\n",
       "        0.34906585,  0.41253237,  0.47599889,  0.53946541,  0.60293192,\n",
       "        0.66639844,  0.72986496,  0.79333148,  0.856798  ,  0.92026451,\n",
       "        0.98373103,  1.04719755,  1.11066407,  1.17413059,  1.23759711,\n",
       "        1.30106362,  1.36453014,  1.42799666,  1.49146318,  1.5549297 ,\n",
       "        1.61839622,  1.68186273,  1.74532925,  1.80879577,  1.87226229,\n",
       "        1.93572881,  1.99919533,  2.06266184,  2.12612836,  2.18959488,\n",
       "        2.2530614 ,  2.31652792,  2.37999443,  2.44346095,  2.50692747,\n",
       "        2.57039399,  2.63386051,  2.69732703,  2.76079354,  2.82426006,\n",
       "        2.88772658,  2.9511931 ,  3.01465962,  3.07812614,  3.14159265])"
      ]
     },
     "execution_count": 79,
     "metadata": {},
     "output_type": "execute_result"
    }
   ],
   "source": [
    "np.linspace(-np.pi, np.pi, 100)#gli dico da dove partire a dove arrivare e gli dico quanti punti voglio \n",
    "#è L'UNICA FUNZIONE PYTHON IN CUI L'ULTIMO ELEMENTO è INCLUSO, IN QUESTO CASO IL CENTESIMO "
   ]
  },
  {
   "cell_type": "code",
   "execution_count": 80,
   "metadata": {},
   "outputs": [
    {
     "data": {
      "text/plain": [
       "array([1.e-03, 1.e-02, 1.e-01, 1.e+00, 1.e+01, 1.e+02, 1.e+03])"
      ]
     },
     "execution_count": 80,
     "metadata": {},
     "output_type": "execute_result"
    }
   ],
   "source": [
    "np.logspace(-3, 3, 7)#i punti sono equidistanziati in una scala logaritmica"
   ]
  },
  {
   "cell_type": "code",
   "execution_count": 81,
   "metadata": {},
   "outputs": [],
   "source": [
    "x=np.arange(1,13)"
   ]
  },
  {
   "cell_type": "code",
   "execution_count": 82,
   "metadata": {},
   "outputs": [
    {
     "data": {
      "text/plain": [
       "array([ 1,  2,  3,  4,  5,  6,  7,  8,  9, 10, 11, 12])"
      ]
     },
     "execution_count": 82,
     "metadata": {},
     "output_type": "execute_result"
    }
   ],
   "source": [
    "x"
   ]
  },
  {
   "cell_type": "code",
   "execution_count": 83,
   "metadata": {},
   "outputs": [
    {
     "data": {
      "text/plain": [
       "12"
      ]
     },
     "execution_count": 83,
     "metadata": {},
     "output_type": "execute_result"
    }
   ],
   "source": [
    "len(x)"
   ]
  },
  {
   "cell_type": "code",
   "execution_count": null,
   "metadata": {},
   "outputs": [],
   "source": [
    "A=x.reshape((3,4))#è importante mettere le doppie parentesi perchè reshape vuole un solo parametro \n",
    "#che in questo caso se è una tupla con numero di righe e numero di colonne, quindi bidimensionale\n",
    "#reshape cambia la forma del vettore"
   ]
  },
  {
   "cell_type": "code",
   "execution_count": 85,
   "metadata": {},
   "outputs": [
    {
     "data": {
      "text/plain": [
       "array([[ 1,  2,  3,  4],\n",
       "       [ 5,  6,  7,  8],\n",
       "       [ 9, 10, 11, 12]])"
      ]
     },
     "execution_count": 85,
     "metadata": {},
     "output_type": "execute_result"
    }
   ],
   "source": [
    "A"
   ]
  },
  {
   "cell_type": "code",
   "execution_count": 86,
   "metadata": {},
   "outputs": [],
   "source": [
    "x=np.arange(1, 501)"
   ]
  },
  {
   "cell_type": "code",
   "execution_count": 87,
   "metadata": {},
   "outputs": [],
   "source": [
    "A=x.reshape((500//25, 25))"
   ]
  },
  {
   "cell_type": "code",
   "execution_count": 88,
   "metadata": {},
   "outputs": [
    {
     "data": {
      "text/plain": [
       "array([[  1,   2,   3,   4,   5,   6,   7,   8,   9,  10,  11,  12,  13,\n",
       "         14,  15,  16,  17,  18,  19,  20,  21,  22,  23,  24,  25],\n",
       "       [ 26,  27,  28,  29,  30,  31,  32,  33,  34,  35,  36,  37,  38,\n",
       "         39,  40,  41,  42,  43,  44,  45,  46,  47,  48,  49,  50],\n",
       "       [ 51,  52,  53,  54,  55,  56,  57,  58,  59,  60,  61,  62,  63,\n",
       "         64,  65,  66,  67,  68,  69,  70,  71,  72,  73,  74,  75],\n",
       "       [ 76,  77,  78,  79,  80,  81,  82,  83,  84,  85,  86,  87,  88,\n",
       "         89,  90,  91,  92,  93,  94,  95,  96,  97,  98,  99, 100],\n",
       "       [101, 102, 103, 104, 105, 106, 107, 108, 109, 110, 111, 112, 113,\n",
       "        114, 115, 116, 117, 118, 119, 120, 121, 122, 123, 124, 125],\n",
       "       [126, 127, 128, 129, 130, 131, 132, 133, 134, 135, 136, 137, 138,\n",
       "        139, 140, 141, 142, 143, 144, 145, 146, 147, 148, 149, 150],\n",
       "       [151, 152, 153, 154, 155, 156, 157, 158, 159, 160, 161, 162, 163,\n",
       "        164, 165, 166, 167, 168, 169, 170, 171, 172, 173, 174, 175],\n",
       "       [176, 177, 178, 179, 180, 181, 182, 183, 184, 185, 186, 187, 188,\n",
       "        189, 190, 191, 192, 193, 194, 195, 196, 197, 198, 199, 200],\n",
       "       [201, 202, 203, 204, 205, 206, 207, 208, 209, 210, 211, 212, 213,\n",
       "        214, 215, 216, 217, 218, 219, 220, 221, 222, 223, 224, 225],\n",
       "       [226, 227, 228, 229, 230, 231, 232, 233, 234, 235, 236, 237, 238,\n",
       "        239, 240, 241, 242, 243, 244, 245, 246, 247, 248, 249, 250],\n",
       "       [251, 252, 253, 254, 255, 256, 257, 258, 259, 260, 261, 262, 263,\n",
       "        264, 265, 266, 267, 268, 269, 270, 271, 272, 273, 274, 275],\n",
       "       [276, 277, 278, 279, 280, 281, 282, 283, 284, 285, 286, 287, 288,\n",
       "        289, 290, 291, 292, 293, 294, 295, 296, 297, 298, 299, 300],\n",
       "       [301, 302, 303, 304, 305, 306, 307, 308, 309, 310, 311, 312, 313,\n",
       "        314, 315, 316, 317, 318, 319, 320, 321, 322, 323, 324, 325],\n",
       "       [326, 327, 328, 329, 330, 331, 332, 333, 334, 335, 336, 337, 338,\n",
       "        339, 340, 341, 342, 343, 344, 345, 346, 347, 348, 349, 350],\n",
       "       [351, 352, 353, 354, 355, 356, 357, 358, 359, 360, 361, 362, 363,\n",
       "        364, 365, 366, 367, 368, 369, 370, 371, 372, 373, 374, 375],\n",
       "       [376, 377, 378, 379, 380, 381, 382, 383, 384, 385, 386, 387, 388,\n",
       "        389, 390, 391, 392, 393, 394, 395, 396, 397, 398, 399, 400],\n",
       "       [401, 402, 403, 404, 405, 406, 407, 408, 409, 410, 411, 412, 413,\n",
       "        414, 415, 416, 417, 418, 419, 420, 421, 422, 423, 424, 425],\n",
       "       [426, 427, 428, 429, 430, 431, 432, 433, 434, 435, 436, 437, 438,\n",
       "        439, 440, 441, 442, 443, 444, 445, 446, 447, 448, 449, 450],\n",
       "       [451, 452, 453, 454, 455, 456, 457, 458, 459, 460, 461, 462, 463,\n",
       "        464, 465, 466, 467, 468, 469, 470, 471, 472, 473, 474, 475],\n",
       "       [476, 477, 478, 479, 480, 481, 482, 483, 484, 485, 486, 487, 488,\n",
       "        489, 490, 491, 492, 493, 494, 495, 496, 497, 498, 499, 500]])"
      ]
     },
     "execution_count": 88,
     "metadata": {},
     "output_type": "execute_result"
    }
   ],
   "source": [
    "A"
   ]
  },
  {
   "cell_type": "code",
   "execution_count": null,
   "metadata": {},
   "outputs": [],
   "source": [
    "A=x.reshape((-1, 25))#quando nella reshape metto -1, vuol dire metti in quella dimensione tanti elementi quanti te ne servono per finire i numeri\n",
    "#funziona perchè il vettore x ha un numero di elementi che è un multiplo di 25\n",
    "#LE FUNZIONI DI RESHAPE FUNZIONA SOLO SE LE DUE FORME HANNO LO STESSO NUMERO DI ELEMENTI"
   ]
  },
  {
   "cell_type": "code",
   "execution_count": 90,
   "metadata": {},
   "outputs": [
    {
     "data": {
      "text/plain": [
       "array([[  1,   2,   3,   4,   5,   6,   7,   8,   9,  10,  11,  12,  13,\n",
       "         14,  15,  16,  17,  18,  19,  20,  21,  22,  23,  24,  25],\n",
       "       [ 26,  27,  28,  29,  30,  31,  32,  33,  34,  35,  36,  37,  38,\n",
       "         39,  40,  41,  42,  43,  44,  45,  46,  47,  48,  49,  50],\n",
       "       [ 51,  52,  53,  54,  55,  56,  57,  58,  59,  60,  61,  62,  63,\n",
       "         64,  65,  66,  67,  68,  69,  70,  71,  72,  73,  74,  75],\n",
       "       [ 76,  77,  78,  79,  80,  81,  82,  83,  84,  85,  86,  87,  88,\n",
       "         89,  90,  91,  92,  93,  94,  95,  96,  97,  98,  99, 100],\n",
       "       [101, 102, 103, 104, 105, 106, 107, 108, 109, 110, 111, 112, 113,\n",
       "        114, 115, 116, 117, 118, 119, 120, 121, 122, 123, 124, 125],\n",
       "       [126, 127, 128, 129, 130, 131, 132, 133, 134, 135, 136, 137, 138,\n",
       "        139, 140, 141, 142, 143, 144, 145, 146, 147, 148, 149, 150],\n",
       "       [151, 152, 153, 154, 155, 156, 157, 158, 159, 160, 161, 162, 163,\n",
       "        164, 165, 166, 167, 168, 169, 170, 171, 172, 173, 174, 175],\n",
       "       [176, 177, 178, 179, 180, 181, 182, 183, 184, 185, 186, 187, 188,\n",
       "        189, 190, 191, 192, 193, 194, 195, 196, 197, 198, 199, 200],\n",
       "       [201, 202, 203, 204, 205, 206, 207, 208, 209, 210, 211, 212, 213,\n",
       "        214, 215, 216, 217, 218, 219, 220, 221, 222, 223, 224, 225],\n",
       "       [226, 227, 228, 229, 230, 231, 232, 233, 234, 235, 236, 237, 238,\n",
       "        239, 240, 241, 242, 243, 244, 245, 246, 247, 248, 249, 250],\n",
       "       [251, 252, 253, 254, 255, 256, 257, 258, 259, 260, 261, 262, 263,\n",
       "        264, 265, 266, 267, 268, 269, 270, 271, 272, 273, 274, 275],\n",
       "       [276, 277, 278, 279, 280, 281, 282, 283, 284, 285, 286, 287, 288,\n",
       "        289, 290, 291, 292, 293, 294, 295, 296, 297, 298, 299, 300],\n",
       "       [301, 302, 303, 304, 305, 306, 307, 308, 309, 310, 311, 312, 313,\n",
       "        314, 315, 316, 317, 318, 319, 320, 321, 322, 323, 324, 325],\n",
       "       [326, 327, 328, 329, 330, 331, 332, 333, 334, 335, 336, 337, 338,\n",
       "        339, 340, 341, 342, 343, 344, 345, 346, 347, 348, 349, 350],\n",
       "       [351, 352, 353, 354, 355, 356, 357, 358, 359, 360, 361, 362, 363,\n",
       "        364, 365, 366, 367, 368, 369, 370, 371, 372, 373, 374, 375],\n",
       "       [376, 377, 378, 379, 380, 381, 382, 383, 384, 385, 386, 387, 388,\n",
       "        389, 390, 391, 392, 393, 394, 395, 396, 397, 398, 399, 400],\n",
       "       [401, 402, 403, 404, 405, 406, 407, 408, 409, 410, 411, 412, 413,\n",
       "        414, 415, 416, 417, 418, 419, 420, 421, 422, 423, 424, 425],\n",
       "       [426, 427, 428, 429, 430, 431, 432, 433, 434, 435, 436, 437, 438,\n",
       "        439, 440, 441, 442, 443, 444, 445, 446, 447, 448, 449, 450],\n",
       "       [451, 452, 453, 454, 455, 456, 457, 458, 459, 460, 461, 462, 463,\n",
       "        464, 465, 466, 467, 468, 469, 470, 471, 472, 473, 474, 475],\n",
       "       [476, 477, 478, 479, 480, 481, 482, 483, 484, 485, 486, 487, 488,\n",
       "        489, 490, 491, 492, 493, 494, 495, 496, 497, 498, 499, 500]])"
      ]
     },
     "execution_count": 90,
     "metadata": {},
     "output_type": "execute_result"
    }
   ],
   "source": [
    "A"
   ]
  },
  {
   "cell_type": "code",
   "execution_count": 91,
   "metadata": {},
   "outputs": [],
   "source": [
    "A=x.reshape((10, -1))"
   ]
  },
  {
   "cell_type": "code",
   "execution_count": 92,
   "metadata": {},
   "outputs": [
    {
     "data": {
      "text/plain": [
       "array([[  1,   2,   3,   4,   5,   6,   7,   8,   9,  10,  11,  12,  13,\n",
       "         14,  15,  16,  17,  18,  19,  20,  21,  22,  23,  24,  25,  26,\n",
       "         27,  28,  29,  30,  31,  32,  33,  34,  35,  36,  37,  38,  39,\n",
       "         40,  41,  42,  43,  44,  45,  46,  47,  48,  49,  50],\n",
       "       [ 51,  52,  53,  54,  55,  56,  57,  58,  59,  60,  61,  62,  63,\n",
       "         64,  65,  66,  67,  68,  69,  70,  71,  72,  73,  74,  75,  76,\n",
       "         77,  78,  79,  80,  81,  82,  83,  84,  85,  86,  87,  88,  89,\n",
       "         90,  91,  92,  93,  94,  95,  96,  97,  98,  99, 100],\n",
       "       [101, 102, 103, 104, 105, 106, 107, 108, 109, 110, 111, 112, 113,\n",
       "        114, 115, 116, 117, 118, 119, 120, 121, 122, 123, 124, 125, 126,\n",
       "        127, 128, 129, 130, 131, 132, 133, 134, 135, 136, 137, 138, 139,\n",
       "        140, 141, 142, 143, 144, 145, 146, 147, 148, 149, 150],\n",
       "       [151, 152, 153, 154, 155, 156, 157, 158, 159, 160, 161, 162, 163,\n",
       "        164, 165, 166, 167, 168, 169, 170, 171, 172, 173, 174, 175, 176,\n",
       "        177, 178, 179, 180, 181, 182, 183, 184, 185, 186, 187, 188, 189,\n",
       "        190, 191, 192, 193, 194, 195, 196, 197, 198, 199, 200],\n",
       "       [201, 202, 203, 204, 205, 206, 207, 208, 209, 210, 211, 212, 213,\n",
       "        214, 215, 216, 217, 218, 219, 220, 221, 222, 223, 224, 225, 226,\n",
       "        227, 228, 229, 230, 231, 232, 233, 234, 235, 236, 237, 238, 239,\n",
       "        240, 241, 242, 243, 244, 245, 246, 247, 248, 249, 250],\n",
       "       [251, 252, 253, 254, 255, 256, 257, 258, 259, 260, 261, 262, 263,\n",
       "        264, 265, 266, 267, 268, 269, 270, 271, 272, 273, 274, 275, 276,\n",
       "        277, 278, 279, 280, 281, 282, 283, 284, 285, 286, 287, 288, 289,\n",
       "        290, 291, 292, 293, 294, 295, 296, 297, 298, 299, 300],\n",
       "       [301, 302, 303, 304, 305, 306, 307, 308, 309, 310, 311, 312, 313,\n",
       "        314, 315, 316, 317, 318, 319, 320, 321, 322, 323, 324, 325, 326,\n",
       "        327, 328, 329, 330, 331, 332, 333, 334, 335, 336, 337, 338, 339,\n",
       "        340, 341, 342, 343, 344, 345, 346, 347, 348, 349, 350],\n",
       "       [351, 352, 353, 354, 355, 356, 357, 358, 359, 360, 361, 362, 363,\n",
       "        364, 365, 366, 367, 368, 369, 370, 371, 372, 373, 374, 375, 376,\n",
       "        377, 378, 379, 380, 381, 382, 383, 384, 385, 386, 387, 388, 389,\n",
       "        390, 391, 392, 393, 394, 395, 396, 397, 398, 399, 400],\n",
       "       [401, 402, 403, 404, 405, 406, 407, 408, 409, 410, 411, 412, 413,\n",
       "        414, 415, 416, 417, 418, 419, 420, 421, 422, 423, 424, 425, 426,\n",
       "        427, 428, 429, 430, 431, 432, 433, 434, 435, 436, 437, 438, 439,\n",
       "        440, 441, 442, 443, 444, 445, 446, 447, 448, 449, 450],\n",
       "       [451, 452, 453, 454, 455, 456, 457, 458, 459, 460, 461, 462, 463,\n",
       "        464, 465, 466, 467, 468, 469, 470, 471, 472, 473, 474, 475, 476,\n",
       "        477, 478, 479, 480, 481, 482, 483, 484, 485, 486, 487, 488, 489,\n",
       "        490, 491, 492, 493, 494, 495, 496, 497, 498, 499, 500]])"
      ]
     },
     "execution_count": 92,
     "metadata": {},
     "output_type": "execute_result"
    }
   ],
   "source": [
    "A"
   ]
  },
  {
   "cell_type": "code",
   "execution_count": 97,
   "metadata": {},
   "outputs": [],
   "source": [
    "x=np.array([0, 4, -1, 7])"
   ]
  },
  {
   "cell_type": "code",
   "execution_count": 98,
   "metadata": {},
   "outputs": [],
   "source": [
    "xr=x.reshape ((1, -1))#questo è il modo per avere un vettore riga\n",
    "xr=x.reshape((1, len(x)))#scrittura equivalente ma non usata"
   ]
  },
  {
   "cell_type": "code",
   "execution_count": 99,
   "metadata": {},
   "outputs": [
    {
     "data": {
      "text/plain": [
       "array([[ 0,  4, -1,  7]])"
      ]
     },
     "execution_count": 99,
     "metadata": {},
     "output_type": "execute_result"
    }
   ],
   "source": [
    "xr"
   ]
  },
  {
   "cell_type": "code",
   "execution_count": 101,
   "metadata": {},
   "outputs": [],
   "source": [
    "xc=x.reshape ((-1, 1))#questo è il modo per avere un vettore colonna\n",
    "xc=x.reshape((len(x), 1))#scrittura equivalente ma non usata"
   ]
  },
  {
   "cell_type": "code",
   "execution_count": 102,
   "metadata": {},
   "outputs": [
    {
     "data": {
      "text/plain": [
       "array([[ 0],\n",
       "       [ 4],\n",
       "       [-1],\n",
       "       [ 7]])"
      ]
     },
     "execution_count": 102,
     "metadata": {},
     "output_type": "execute_result"
    }
   ],
   "source": [
    "xc"
   ]
  },
  {
   "cell_type": "code",
   "execution_count": null,
   "metadata": {},
   "outputs": [],
   "source": [
    "#piccole parentesi"
   ]
  },
  {
   "cell_type": "code",
   "execution_count": 103,
   "metadata": {},
   "outputs": [],
   "source": [
    "import sys #è una libreria di sistema "
   ]
  },
  {
   "cell_type": "code",
   "execution_count": 104,
   "metadata": {},
   "outputs": [],
   "source": [
    "x=np.ones(1000)"
   ]
  },
  {
   "cell_type": "code",
   "execution_count": 105,
   "metadata": {},
   "outputs": [
    {
     "data": {
      "text/plain": [
       "8000"
      ]
     },
     "execution_count": 105,
     "metadata": {},
     "output_type": "execute_result"
    }
   ],
   "source": [
    "x.nbytes"
   ]
  },
  {
   "cell_type": "code",
   "execution_count": 106,
   "metadata": {},
   "outputs": [
    {
     "data": {
      "text/plain": [
       "8112"
      ]
     },
     "execution_count": 106,
     "metadata": {},
     "output_type": "execute_result"
    }
   ],
   "source": [
    "sys.getsizeof(x)"
   ]
  },
  {
   "cell_type": "code",
   "execution_count": 107,
   "metadata": {},
   "outputs": [],
   "source": [
    "l=list(x)"
   ]
  },
  {
   "cell_type": "code",
   "execution_count": null,
   "metadata": {},
   "outputs": [
    {
     "data": {
      "text/plain": [
       "8056"
      ]
     },
     "execution_count": 108,
     "metadata": {},
     "output_type": "execute_result"
    }
   ],
   "source": [
    "sys.getsizeof(l)#in toeria la lista è più grande del vettore, qui ci deve essere un errore"
   ]
  },
  {
   "cell_type": "code",
   "execution_count": 109,
   "metadata": {},
   "outputs": [],
   "source": [
    "A=np.array([[1, 2, 3], [4, 5, 6]])"
   ]
  },
  {
   "cell_type": "code",
   "execution_count": 111,
   "metadata": {},
   "outputs": [],
   "source": [
    "B=A"
   ]
  },
  {
   "cell_type": "code",
   "execution_count": null,
   "metadata": {},
   "outputs": [],
   "source": [
    "B[0,0]=32 #come con le liste, modifico sia b che a proprio perchè si comportano come puntatori"
   ]
  },
  {
   "cell_type": "code",
   "execution_count": 113,
   "metadata": {},
   "outputs": [
    {
     "data": {
      "text/plain": [
       "array([[32,  2,  3],\n",
       "       [ 4,  5,  6]])"
      ]
     },
     "execution_count": 113,
     "metadata": {},
     "output_type": "execute_result"
    }
   ],
   "source": [
    "A"
   ]
  },
  {
   "cell_type": "code",
   "execution_count": null,
   "metadata": {},
   "outputs": [],
   "source": [
    "B=A[0,:].copy()#solo in questo modo creo una copia e non modifico A, altrimenti modificherei A"
   ]
  },
  {
   "cell_type": "code",
   "execution_count": null,
   "metadata": {},
   "outputs": [],
   "source": [
    "#ritorniamo all'argomento principale"
   ]
  },
  {
   "cell_type": "code",
   "execution_count": 114,
   "metadata": {},
   "outputs": [],
   "source": [
    "x=np.ones(10)\n",
    "y=np.zeros(10)\n"
   ]
  },
  {
   "cell_type": "code",
   "execution_count": null,
   "metadata": {},
   "outputs": [
    {
     "data": {
      "text/plain": [
       "array([1., 1., 1., 1., 1., 1., 1., 1., 1., 1., 0., 0., 0., 0., 0., 0., 0.,\n",
       "       0., 0., 0.])"
      ]
     },
     "execution_count": 115,
     "metadata": {},
     "output_type": "execute_result"
    }
   ],
   "source": [
    "np.concatenate((x, y))#il parametro è la tupla di oggetti che vogliamo concatenare, in questo caso sto dicendo di concatenare x e y\n",
    "#se i vettori sono monodimensionali non ha dubbi è come se facesse un append"
   ]
  },
  {
   "cell_type": "code",
   "execution_count": 116,
   "metadata": {},
   "outputs": [],
   "source": [
    "x=np.ones(10).reshape((1,-1))\n",
    "y=np.zeros(10).reshape((1,-1))\n"
   ]
  },
  {
   "cell_type": "code",
   "execution_count": 117,
   "metadata": {},
   "outputs": [
    {
     "data": {
      "text/plain": [
       "array([[1., 1., 1., 1., 1., 1., 1., 1., 1., 1.],\n",
       "       [0., 0., 0., 0., 0., 0., 0., 0., 0., 0.]])"
      ]
     },
     "execution_count": 117,
     "metadata": {},
     "output_type": "execute_result"
    }
   ],
   "source": [
    "np.concatenate((x, y), axis=0)#con vettori multidimensionali, devo specificare con axis l'asse lungo il quale incollare"
   ]
  },
  {
   "cell_type": "code",
   "execution_count": 119,
   "metadata": {},
   "outputs": [
    {
     "data": {
      "text/plain": [
       "array([[1., 1., 1., 1., 1., 1., 1., 1., 1., 1., 0., 0., 0., 0., 0., 0.,\n",
       "        0., 0., 0., 0.]])"
      ]
     },
     "execution_count": 119,
     "metadata": {},
     "output_type": "execute_result"
    }
   ],
   "source": [
    "np.concatenate((x, y), axis=1)"
   ]
  },
  {
   "cell_type": "code",
   "execution_count": 122,
   "metadata": {},
   "outputs": [],
   "source": [
    "x=np.arange(50).reshape((1, -1))#devo necessariamente rendere x bidimensionale per poterlo concatenare a I"
   ]
  },
  {
   "cell_type": "code",
   "execution_count": 123,
   "metadata": {},
   "outputs": [],
   "source": [
    "I=np.eye(50)"
   ]
  },
  {
   "cell_type": "code",
   "execution_count": 124,
   "metadata": {},
   "outputs": [
    {
     "data": {
      "text/plain": [
       "array([[ 0.,  1.,  2., ..., 47., 48., 49.],\n",
       "       [ 1.,  0.,  0., ...,  0.,  0.,  0.],\n",
       "       [ 0.,  1.,  0., ...,  0.,  0.,  0.],\n",
       "       ...,\n",
       "       [ 0.,  0.,  0., ...,  1.,  0.,  0.],\n",
       "       [ 0.,  0.,  0., ...,  0.,  1.,  0.],\n",
       "       [ 0.,  0.,  0., ...,  0.,  0.,  1.]])"
      ]
     },
     "execution_count": 124,
     "metadata": {},
     "output_type": "execute_result"
    }
   ],
   "source": [
    "np.concatenate((x, I), axis=0)"
   ]
  }
 ],
 "metadata": {
  "kernelspec": {
   "display_name": "base",
   "language": "python",
   "name": "python3"
  },
  "language_info": {
   "codemirror_mode": {
    "name": "ipython",
    "version": 3
   },
   "file_extension": ".py",
   "mimetype": "text/x-python",
   "name": "python",
   "nbconvert_exporter": "python",
   "pygments_lexer": "ipython3",
   "version": "3.12.7"
  }
 },
 "nbformat": 4,
 "nbformat_minor": 2
}
