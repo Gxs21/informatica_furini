{
 "cells": [
  {
   "cell_type": "markdown",
   "metadata": {},
   "source": [
    "Importare la libreria numpy"
   ]
  },
  {
   "cell_type": "code",
   "execution_count": 183,
   "metadata": {},
   "outputs": [],
   "source": [
    "import numpy as np"
   ]
  },
  {
   "cell_type": "markdown",
   "metadata": {},
   "source": [
    "Definire manualmente un vettore monodimensionale di 10 valori interi\n",
    "\n",
    "Scrivere le istruzioni per stampare:\n",
    "* il numero di elementi del vettore\n",
    "* il numero di dimensioni del vettore\n",
    "* la shape del vettore\n",
    "* il terzo elemento\n",
    "* il penultimo elemento"
   ]
  },
  {
   "cell_type": "code",
   "execution_count": 184,
   "metadata": {},
   "outputs": [
    {
     "name": "stdout",
     "output_type": "stream",
     "text": [
      "10 1 (10,) 3 9\n"
     ]
    }
   ],
   "source": [
    "x=np.array([1,2,3,4,5,6,7,8,9,10])\n",
    "print(x.size, x.ndim, x.shape, x[2], x[-2])"
   ]
  },
  {
   "cell_type": "markdown",
   "metadata": {},
   "source": [
    "Definire manualmente un vettore bi-dimensionale di 4 righe e 3 colonne di numeri interi\n",
    "\n",
    "Scrivere le istruzioni per stampare:\n",
    "* il numero di elementi del vettore\n",
    "* il numero di dimensioni del vettore\n",
    "* la shape del vettore\n",
    "* il numero di righe\n",
    "* il numero di colonne\n",
    "* l'elemento sulla seconda riga, prima colonna\n",
    "* la seconda riga\n",
    "* la prima colonna"
   ]
  },
  {
   "cell_type": "code",
   "execution_count": 185,
   "metadata": {},
   "outputs": [
    {
     "name": "stdout",
     "output_type": "stream",
     "text": [
      "12 2 (4, 3) 4 3 1 [1 2 3] [1 1 1 1]\n"
     ]
    }
   ],
   "source": [
    "x=np.array([[1,2,3], [1, 2, 3], [1, 2, 3], [1, 2, 3]])\n",
    "print(x.size, x.ndim, x.shape, x.shape[0], x.shape[1], x[1,0], x[1,:], x[:,0])"
   ]
  },
  {
   "cell_type": "markdown",
   "metadata": {},
   "source": [
    "* Definire un vettore x contenente i numeri interi da 0 a 20 (incluso) utilizzando la funzione np.arange\n",
    "* Definire un vettore y contenente 21 numeri equidistanti tra 0 e 1000\n",
    "* Calcolare un vettore z i cui elementi sono uguali a x\\*\\*2 + y"
   ]
  },
  {
   "cell_type": "code",
   "execution_count": 186,
   "metadata": {},
   "outputs": [
    {
     "name": "stdout",
     "output_type": "stream",
     "text": [
      "[ 0  1  2  3  4  5  6  7  8  9 10 11 12 13 14 15 16 17 18 19 20] [   0.   50.  100.  150.  200.  250.  300.  350.  400.  450.  500.  550.\n",
      "  600.  650.  700.  750.  800.  850.  900.  950. 1000.] [   0.   51.  104.  159.  216.  275.  336.  399.  464.  531.  600.  671.\n",
      "  744.  819.  896.  975. 1056. 1139. 1224. 1311. 1400.]\n"
     ]
    }
   ],
   "source": [
    "x=np.arange(21)\n",
    "y=np.linspace(0, 1000, 21)\n",
    "z=x**2+y\n",
    "print(x, y, z)"
   ]
  },
  {
   "cell_type": "markdown",
   "metadata": {},
   "source": [
    "* Calcolare un vettore z che contiene tutte le differenze tra i valori consecutivi di y"
   ]
  },
  {
   "cell_type": "code",
   "execution_count": 187,
   "metadata": {},
   "outputs": [
    {
     "name": "stdout",
     "output_type": "stream",
     "text": [
      "[50. 50. 50. 50. 50. 50. 50. 50. 50. 50. 50. 50. 50. 50. 50. 50. 50. 50.\n",
      " 50. 50.]\n"
     ]
    }
   ],
   "source": [
    "z=((y[1:])-y[:-1])\n",
    "print(z)"
   ]
  },
  {
   "cell_type": "markdown",
   "metadata": {},
   "source": [
    "* definire una matrice che ha come righe i vettori x e y definiti in precedenza\n",
    "* definire una matrice che ha come colonne i vettori x e y definiti in precedenza"
   ]
  },
  {
   "cell_type": "code",
   "execution_count": 188,
   "metadata": {},
   "outputs": [
    {
     "data": {
      "text/plain": [
       "array([[   0.,    0.],\n",
       "       [   1.,   50.],\n",
       "       [   2.,  100.],\n",
       "       [   3.,  150.],\n",
       "       [   4.,  200.],\n",
       "       [   5.,  250.],\n",
       "       [   6.,  300.],\n",
       "       [   7.,  350.],\n",
       "       [   8.,  400.],\n",
       "       [   9.,  450.],\n",
       "       [  10.,  500.],\n",
       "       [  11.,  550.],\n",
       "       [  12.,  600.],\n",
       "       [  13.,  650.],\n",
       "       [  14.,  700.],\n",
       "       [  15.,  750.],\n",
       "       [  16.,  800.],\n",
       "       [  17.,  850.],\n",
       "       [  18.,  900.],\n",
       "       [  19.,  950.],\n",
       "       [  20., 1000.]])"
      ]
     },
     "execution_count": 188,
     "metadata": {},
     "output_type": "execute_result"
    }
   ],
   "source": [
    "a=np.concatenate((x.reshape((1,-1)), y.reshape((1, -1))), axis=0)\n",
    "a\n",
    "a=np.concatenate((x.reshape((-1,1)), y.reshape((-1, 1)) ), axis=1)\n",
    "a"
   ]
  },
  {
   "cell_type": "code",
   "execution_count": null,
   "metadata": {},
   "outputs": [],
   "source": []
  },
  {
   "cell_type": "markdown",
   "metadata": {},
   "source": [
    "* Definire una matrice 4x20 le cui prime due righe sono costiuite da 0, la terza riga dai numeri interi tra 0 e 19, e la quarta riga dai numeri interi da 19 a 0"
   ]
  },
  {
   "cell_type": "code",
   "execution_count": 189,
   "metadata": {},
   "outputs": [
    {
     "data": {
      "text/plain": [
       "array([[ 0.,  0.,  0.,  0.,  0.,  0.,  0.,  0.,  0.,  0.,  0.,  0.,  0.,\n",
       "         0.,  0.,  0.,  0.,  0.,  0.,  0.],\n",
       "       [ 0.,  0.,  0.,  0.,  0.,  0.,  0.,  0.,  0.,  0.,  0.,  0.,  0.,\n",
       "         0.,  0.,  0.,  0.,  0.,  0.,  0.],\n",
       "       [ 0.,  1.,  2.,  3.,  4.,  5.,  6.,  7.,  8.,  9., 10., 11., 12.,\n",
       "        13., 14., 15., 16., 17., 18., 19.],\n",
       "       [19., 18., 17., 16., 15., 14., 13., 12., 11., 10.,  9.,  8.,  7.,\n",
       "         6.,  5.,  4.,  3.,  2.,  1.,  0.]])"
      ]
     },
     "execution_count": 189,
     "metadata": {},
     "output_type": "execute_result"
    }
   ],
   "source": [
    "a=np.array([np.zeros(20), np.zeros(20), np.arange(20), np.arange(19, -1, -1)])\n",
    "a\n",
    "#è impertante definire solo vettori dimensionali e non vettori riga altrimenti non hanno la stessa shape dei vettori monodimensionali creati con\n",
    "#arange. le parentesi quadre non servono se nella definizione della matrice sto definendo dei vettori."
   ]
  },
  {
   "cell_type": "code",
   "execution_count": 190,
   "metadata": {},
   "outputs": [
    {
     "data": {
      "text/plain": [
       "array([ 0,  1,  2,  3,  4,  5,  6,  7,  8,  9, 10, 11, 12, 13, 14, 15, 16,\n",
       "       17, 18, 19])"
      ]
     },
     "execution_count": 190,
     "metadata": {},
     "output_type": "execute_result"
    }
   ],
   "source": [
    "np.arange(20)"
   ]
  },
  {
   "cell_type": "markdown",
   "metadata": {},
   "source": [
    "* Dati i due vettori x e y definiti nel codice sottostante calcolare:\n",
    "    * il prodotto scalare\n",
    "    * la norma dei due vettori"
   ]
  },
  {
   "cell_type": "code",
   "execution_count": 191,
   "metadata": {},
   "outputs": [],
   "source": [
    "x = np.random.randint(low = 0, high = 100, size = 10)\n",
    "y = np.random.randint(low = 0, high = 100, size = 10)"
   ]
  },
  {
   "cell_type": "code",
   "execution_count": 192,
   "metadata": {},
   "outputs": [
    {
     "name": "stdout",
     "output_type": "stream",
     "text": [
      "21821\n",
      "21821\n",
      "155.52170266557656\n",
      "155.52170266557656\n"
     ]
    }
   ],
   "source": [
    "prodotto_scalare=np.sum(x*y)#riguardati il metodo sum\n",
    "print(prodotto_scalare)\n",
    "prodotto_scalare_2=np.dot(x,y)#funzione prosotto scalare\n",
    "print(prodotto_scalare_2)\n",
    "norma=np.sqrt(np.sum(x**2))\n",
    "print(norma)\n",
    "norma_2=np.linalg.norm((x))\n",
    "print(norma_2)\n"
   ]
  },
  {
   "cell_type": "markdown",
   "metadata": {},
   "source": [
    "* Utilizzando gli stessi vettore x e y del punto precedente calcolare la matrice 10 x 10 contenente nella posizione i, j il valore assoluto della differenza tra x\\[i\\] e y\\[j\\]"
   ]
  },
  {
   "cell_type": "code",
   "execution_count": 193,
   "metadata": {},
   "outputs": [
    {
     "name": "stdout",
     "output_type": "stream",
     "text": [
      "[38 56  2 12 17 19 90 32 73 66]\n",
      "[68 28 68 17 83 62 80 92  6 63]\n",
      "[[30 12 66 56 51 49 22 36  5  2]\n",
      " [10 28 26 16 11  9 62  4 45 38]\n",
      " [30 12 66 56 51 49 22 36  5  2]\n",
      " [21 39 15  5  0  2 73 15 56 49]\n",
      " [45 27 81 71 66 64  7 51 10 17]\n",
      " [24  6 60 50 45 43 28 30 11  4]\n",
      " [42 24 78 68 63 61 10 48  7 14]\n",
      " [54 36 90 80 75 73  2 60 19 26]\n",
      " [32 50  4  6 11 13 84 26 67 60]\n",
      " [25  7 61 51 46 44 27 31 10  3]]\n"
     ]
    }
   ],
   "source": [
    "print(x)\n",
    "print(y)\n",
    "a=np.abs(x.reshape(1,-1)-y.reshape(-1,1))\n",
    "print(a)"
   ]
  },
  {
   "cell_type": "markdown",
   "metadata": {},
   "source": [
    "* Contare il numero di elementi positivi nelle ultime due colonne della matrice A"
   ]
  },
  {
   "cell_type": "code",
   "execution_count": 194,
   "metadata": {},
   "outputs": [],
   "source": [
    "A = np.random.randint(low = -10, high = 11, size = (5,4))"
   ]
  },
  {
   "cell_type": "code",
   "execution_count": 195,
   "metadata": {},
   "outputs": [
    {
     "name": "stdout",
     "output_type": "stream",
     "text": [
      "[[ -7   6]\n",
      " [  6  -8]\n",
      " [ -9   7]\n",
      " [  8 -10]\n",
      " [ -8   2]]\n"
     ]
    },
    {
     "data": {
      "text/plain": [
       "array([1, 1, 1, 1, 1])"
      ]
     },
     "execution_count": 195,
     "metadata": {},
     "output_type": "execute_result"
    }
   ],
   "source": [
    "count=0\n",
    "print(A[:,-2:])\n",
    "count=np.sum(A[:,-2:]>0, axis=1)#anche alla sum posso dare un asse per dire come socorrere contare gli elementi\n",
    "count\n"
   ]
  }
 ],
 "metadata": {
  "kernelspec": {
   "display_name": "base",
   "language": "python",
   "name": "python3"
  },
  "language_info": {
   "codemirror_mode": {
    "name": "ipython",
    "version": 3
   },
   "file_extension": ".py",
   "mimetype": "text/x-python",
   "name": "python",
   "nbconvert_exporter": "python",
   "pygments_lexer": "ipython3",
   "version": "3.12.7"
  }
 },
 "nbformat": 4,
 "nbformat_minor": 4
}
