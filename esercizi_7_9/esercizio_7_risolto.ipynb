{
 "cells": [
  {
   "cell_type": "markdown",
   "metadata": {},
   "source": [
    "Importare la libreria numpy"
   ]
  },
  {
   "cell_type": "code",
   "execution_count": 2,
   "metadata": {},
   "outputs": [],
   "source": [
    "import numpy as np"
   ]
  },
  {
   "cell_type": "markdown",
   "metadata": {},
   "source": [
    "Definire manualmente un vettore monodimensionale di 10 valori interi\n",
    "\n",
    "Scrivere le istruzioni per stampare:\n",
    "* il numero di elementi del vettore\n",
    "* il numero di dimensioni del vettore\n",
    "* la shape del vettore\n",
    "* il terzo elemento\n",
    "* il penultimo elemento"
   ]
  },
  {
   "cell_type": "code",
   "execution_count": 3,
   "metadata": {},
   "outputs": [
    {
     "name": "stdout",
     "output_type": "stream",
     "text": [
      "10\n",
      "1\n",
      "(10,)\n",
      "7\n",
      "1\n"
     ]
    }
   ],
   "source": [
    "x = np.array([9, 8, 7, 6, 5, 4, 3, 2, 1, 0])\n",
    "\n",
    "print(len(x))\n",
    "print(x.ndim)\n",
    "print(x.shape)\n",
    "print(x[2])\n",
    "print(x[-2])"
   ]
  },
  {
   "cell_type": "markdown",
   "metadata": {},
   "source": [
    "Definire manualmente un vettore bi-dimensionale di 4 righe e 3 colonne di numeri interi\n",
    "\n",
    "Scrivere le istruzioni per stampare:\n",
    "* il numero di elementi del vettore\n",
    "* il numero di dimensioni del vettore\n",
    "* la shape del vettore\n",
    "* il numero di righe\n",
    "* il numero di colonne\n",
    "* l'elemento sulla seconda riga, prima colonna\n",
    "* la seconda riga\n",
    "* la prima colonna"
   ]
  },
  {
   "cell_type": "code",
   "execution_count": 4,
   "metadata": {},
   "outputs": [
    {
     "name": "stdout",
     "output_type": "stream",
     "text": [
      "4\n",
      "2\n",
      "(4, 3)\n",
      "4\n",
      "3\n",
      "3\n",
      "[3 4 5]\n",
      "[0 3 6 9]\n"
     ]
    }
   ],
   "source": [
    "A = np.array([\n",
    "    [0,1,2],\n",
    "    [3,4,5],\n",
    "    [6,7,8],\n",
    "    [9,10,11],\n",
    "])\n",
    "\n",
    "print(len(A))\n",
    "print(A.ndim)\n",
    "print(A.shape)\n",
    "print(A.shape[0])\n",
    "print(A.shape[1])\n",
    "print(A[1,0])\n",
    "print(A[1,:])\n",
    "print(A[:,0])"
   ]
  },
  {
   "cell_type": "markdown",
   "metadata": {},
   "source": [
    "* Definire un vettore x contenente i numeri interi da 0 a 20 (incluso) utilizzando la funzione np.arange\n",
    "* Definire un vettore y contenente 21 numeri equidistanti tra 0 e 1000 utilizzando la funzione np.linspace\n",
    "* Calcolare un vettore z i cui elementi sono uguali a x\\*\\*2 + y"
   ]
  },
  {
   "cell_type": "code",
   "execution_count": 5,
   "metadata": {},
   "outputs": [
    {
     "name": "stdout",
     "output_type": "stream",
     "text": [
      "[   0.   51.  104.  159.  216.  275.  336.  399.  464.  531.  600.  671.\n",
      "  744.  819.  896.  975. 1056. 1139. 1224. 1311. 1400.]\n"
     ]
    }
   ],
   "source": [
    "x = np.arange(0,21)\n",
    "y = np.linspace(0,1000,21)\n",
    "z = x**2 + y\n",
    "print(z)"
   ]
  },
  {
   "cell_type": "markdown",
   "metadata": {},
   "source": [
    "* Calcolare un vettore z che contiene tutte le differenze tra i valori consecutivi di y (z\\[i\\] = y\\[i+1\\] - y\\[i\\])"
   ]
  },
  {
   "cell_type": "code",
   "execution_count": 6,
   "metadata": {},
   "outputs": [],
   "source": [
    "# soluzione con ciclo --> pessima implementazione\n",
    "z = np.zeros(len(x)-1)\n",
    "for i in range(len(z)):\n",
    "    z[i] = y[i+1] - y[i]"
   ]
  },
  {
   "cell_type": "code",
   "execution_count": 7,
   "metadata": {},
   "outputs": [],
   "source": [
    "# soluzione senza ciclo --> piu' efficient\n",
    "z = y[1:] - y[:-1]"
   ]
  },
  {
   "cell_type": "markdown",
   "metadata": {},
   "source": [
    "* definire una matrice che ha come righe i vettori x e y definiti in precedenza\n",
    "* definire una matrice che ha come colonne i vettori x e y definiti in precedenza"
   ]
  },
  {
   "cell_type": "code",
   "execution_count": 8,
   "metadata": {},
   "outputs": [
    {
     "name": "stdout",
     "output_type": "stream",
     "text": [
      "[[   0.    1.    2.    3.    4.    5.    6.    7.    8.    9.   10.   11.\n",
      "    12.   13.   14.   15.   16.   17.   18.   19.   20.]\n",
      " [   0.   50.  100.  150.  200.  250.  300.  350.  400.  450.  500.  550.\n",
      "   600.  650.  700.  750.  800.  850.  900.  950. 1000.]]\n"
     ]
    }
   ],
   "source": [
    "A = np.concatenate((x.reshape((1,-1)), y.reshape((1,-1))), axis = 0)\n",
    "print(A)"
   ]
  },
  {
   "cell_type": "code",
   "execution_count": 9,
   "metadata": {},
   "outputs": [
    {
     "name": "stdout",
     "output_type": "stream",
     "text": [
      "[[   0.    0.]\n",
      " [   1.   50.]\n",
      " [   2.  100.]\n",
      " [   3.  150.]\n",
      " [   4.  200.]\n",
      " [   5.  250.]\n",
      " [   6.  300.]\n",
      " [   7.  350.]\n",
      " [   8.  400.]\n",
      " [   9.  450.]\n",
      " [  10.  500.]\n",
      " [  11.  550.]\n",
      " [  12.  600.]\n",
      " [  13.  650.]\n",
      " [  14.  700.]\n",
      " [  15.  750.]\n",
      " [  16.  800.]\n",
      " [  17.  850.]\n",
      " [  18.  900.]\n",
      " [  19.  950.]\n",
      " [  20. 1000.]]\n"
     ]
    }
   ],
   "source": [
    "B = np.concatenate((x.reshape((-1,1)), y.reshape((-1,1))), axis = 1)\n",
    "print(B)"
   ]
  },
  {
   "cell_type": "markdown",
   "metadata": {},
   "source": [
    "* Definire una matrice 20 x 4 le cui prime due righe sono costiuite da 0, la terza riga dai numeri interi tra 0 e 19, e la quarta riga dai numeri interi da 19 a 0"
   ]
  },
  {
   "cell_type": "code",
   "execution_count": 10,
   "metadata": {},
   "outputs": [
    {
     "name": "stdout",
     "output_type": "stream",
     "text": [
      "[[ 0.  0.  0.  0.  0.  0.  0.  0.  0.  0.  0.  0.  0.  0.  0.  0.  0.  0.\n",
      "   0.  0.]\n",
      " [ 0.  0.  0.  0.  0.  0.  0.  0.  0.  0.  0.  0.  0.  0.  0.  0.  0.  0.\n",
      "   0.  0.]\n",
      " [ 0.  1.  2.  3.  4.  5.  6.  7.  8.  9. 10. 11. 12. 13. 14. 15. 16. 17.\n",
      "  18. 19.]\n",
      " [19. 18. 17. 16. 15. 14. 13. 12. 11. 10.  9.  8.  7.  6.  5.  4.  3.  2.\n",
      "   1.  0.]]\n"
     ]
    }
   ],
   "source": [
    "r_1_2 = np.zeros(20)\n",
    "r3 = np.arange(0,20)\n",
    "r4 = np.arange(19,-1,-1)\n",
    "C = np.concatenate((r_1_2.reshape((1,-1)), r_1_2.reshape((1,-1)), r3.reshape((1,-1)), r4.reshape((1,-1))), axis = 0)\n",
    "print(C)"
   ]
  },
  {
   "cell_type": "markdown",
   "metadata": {},
   "source": [
    "* Dati i due vettore x e y definiti nel codice sottostante calcolare:\n",
    "    * il prodotto scalare\n",
    "    * la norma dei due vettori"
   ]
  },
  {
   "cell_type": "code",
   "execution_count": 11,
   "metadata": {},
   "outputs": [],
   "source": [
    "x = np.random.randint(low = 0, high = 100, size = 10)\n",
    "y = np.random.randint(low = 0, high = 100, size = 10)"
   ]
  },
  {
   "cell_type": "code",
   "execution_count": 12,
   "metadata": {},
   "outputs": [
    {
     "name": "stdout",
     "output_type": "stream",
     "text": [
      "23956\n",
      "135.39202339872168\n",
      "215.20223047171234\n"
     ]
    }
   ],
   "source": [
    "print(np.sum(x*y))\n",
    "print(np.sqrt(np.sum(x*x)))\n",
    "print(np.sqrt(np.sum(y*y)))"
   ]
  },
  {
   "cell_type": "markdown",
   "metadata": {},
   "source": [
    "* Utilizzando gli stessi vettore x e y del punto precedente calcolare la matrice 10 x 10 contenente nella posizione i, j il valore assoluto della differenza tra x\\[i\\] e y\\[j\\]\n",
    "* Suggerimento: la funzione np.abs calcola il valore assoluto"
   ]
  },
  {
   "cell_type": "code",
   "execution_count": 13,
   "metadata": {},
   "outputs": [],
   "source": [
    "# soluzione formalmente corretta ma inefficiente\n",
    "A = np.zeros((len(x), len(y)))\n",
    "for i in range(len(x)):\n",
    "    for j in range(len(y)):\n",
    "        A[i,j] = np.abs(x[i] - y[j])"
   ]
  },
  {
   "cell_type": "code",
   "execution_count": 14,
   "metadata": {},
   "outputs": [],
   "source": [
    "# soluzione senza cicli --> piu' efficiente\n",
    "A = np.abs(x.reshape((1,-1)) - y.reshape((-1,1)))"
   ]
  },
  {
   "cell_type": "markdown",
   "metadata": {},
   "source": [
    "* Data la matrice A definita nel codice sottostante, scrivere le istruzioni per stampare gli elementi della seconda colonna di A solo per le righe in cui la prima colonna contiene valori positivi"
   ]
  },
  {
   "cell_type": "code",
   "execution_count": 15,
   "metadata": {},
   "outputs": [
    {
     "name": "stdout",
     "output_type": "stream",
     "text": [
      "[[ -7  -5 -10  -6]\n",
      " [  7  10  -1   8]\n",
      " [  5   7   3   6]\n",
      " [  1   4  -6  -5]\n",
      " [  3   4   4  10]]\n"
     ]
    }
   ],
   "source": [
    "A = np.random.randint(low = -10, high = 11, size = (5,4))\n",
    "print(A)"
   ]
  },
  {
   "cell_type": "code",
   "execution_count": 16,
   "metadata": {},
   "outputs": [
    {
     "name": "stdout",
     "output_type": "stream",
     "text": [
      "10\n",
      "7\n",
      "4\n",
      "4\n"
     ]
    }
   ],
   "source": [
    "# soluzione formalmente corretta ma inefficiente\n",
    "for i in range(A.shape[0]):\n",
    "    if A[i,0] > 0:\n",
    "        print(A[i,1])"
   ]
  },
  {
   "cell_type": "code",
   "execution_count": 17,
   "metadata": {},
   "outputs": [
    {
     "name": "stdout",
     "output_type": "stream",
     "text": [
      "[10  7  4  4]\n"
     ]
    }
   ],
   "source": [
    "print(A[A[:,0]>0,1]) # soluzione corretta"
   ]
  },
  {
   "cell_type": "markdown",
   "metadata": {},
   "source": [
    "* Contare il numero di elementi positivi nelle ultime due colonne della matrice A"
   ]
  },
  {
   "cell_type": "code",
   "execution_count": 18,
   "metadata": {},
   "outputs": [],
   "source": [
    "# soluzione formalmente corretta ma inefficiente\n",
    "n = 0\n",
    "for j in [-1, -2]:\n",
    "    for i in range(A.shape[0]):\n",
    "        if A[i,j] > 0:\n",
    "            n += 1"
   ]
  },
  {
   "cell_type": "code",
   "execution_count": 19,
   "metadata": {},
   "outputs": [],
   "source": [
    "n = np.sum(A[:,[-2,-1]] > 0) # soluzione corretta"
   ]
  }
 ],
 "metadata": {
  "kernelspec": {
   "display_name": "base",
   "language": "python",
   "name": "python3"
  },
  "language_info": {
   "codemirror_mode": {
    "name": "ipython",
    "version": 3
   },
   "file_extension": ".py",
   "mimetype": "text/x-python",
   "name": "python",
   "nbconvert_exporter": "python",
   "pygments_lexer": "ipython3",
   "version": "3.12.7"
  }
 },
 "nbformat": 4,
 "nbformat_minor": 4
}
