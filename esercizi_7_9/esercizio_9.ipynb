{
 "cells": [
  {
   "cell_type": "code",
   "execution_count": null,
   "metadata": {},
   "outputs": [],
   "source": [
    "import numpy as np\n",
    "import matplotlib.pyplot as plt"
   ]
  },
  {
   "cell_type": "markdown",
   "metadata": {},
   "source": [
    "* Creare un vettore x di 1000 punti equidistanti nel range -5*pi:5*pi\n",
    "* Calcolare un vettore y definito come sin(x)/x\n",
    "* Fare il grafico di y in funzione di x"
   ]
  },
  {
   "cell_type": "code",
   "execution_count": null,
   "metadata": {},
   "outputs": [],
   "source": []
  },
  {
   "cell_type": "markdown",
   "metadata": {},
   "source": [
    "* L'istruzione sottostante legge la matrice A dal file dati_9_1.npy [fare attenzione che il file si trovi nella cartella corrente]. La matrice A ha la seguente struttura:\n",
    "    * la prima colonna corrisponde all'eta' del paziente\n",
    "    * la seconda colonna corrisponde alla pressione distolica\n",
    "    * la terza colonna corrisponde alla pressione sistolica\n",
    "* Fare un grafico dei valori di pressione diastolica/sistolica in funzione dell'eta'. Usare simboli diveri per i valori sistolici/diastolici"
   ]
  },
  {
   "cell_type": "code",
   "execution_count": null,
   "metadata": {},
   "outputs": [],
   "source": [
    "A = np.load('dati_9_1.npy')"
   ]
  },
  {
   "cell_type": "code",
   "execution_count": null,
   "metadata": {},
   "outputs": [],
   "source": []
  },
  {
   "cell_type": "markdown",
   "metadata": {},
   "source": [
    "* Il file dati_9_2.txt ha il seguente formato:\n",
    "    * colonna 0 = numero intero che indica l'indice della popolazione cellulare\n",
    "    * colonna 1 = numero intero uguale a 0/1 se la riga contiene rispettivamente dato di fluorescenza rossa/verde\n",
    "    * colonna 2 = la fluorescenza misurata (float)\n",
    "* Definire due dizionari G/R che contengono le fluorescenze medie verde/rossa nelle varie popolazioni (la chiave dei dizionari deve essere l'indice di popolazione).\n",
    "* Suggerimento: usare la funzione np.unique per trovare l'insieme dei possibili indici\n",
    "* Fare 2 grafici a barre che riportano la fluorescenza media verde/rossa nelle diverse popolazioni"
   ]
  },
  {
   "cell_type": "code",
   "execution_count": null,
   "metadata": {},
   "outputs": [],
   "source": []
  }
 ],
 "metadata": {
  "kernelspec": {
   "display_name": "Python 3 (ipykernel)",
   "language": "python",
   "name": "python3"
  },
  "language_info": {
   "codemirror_mode": {
    "name": "ipython",
    "version": 3
   },
   "file_extension": ".py",
   "mimetype": "text/x-python",
   "name": "python",
   "nbconvert_exporter": "python",
   "pygments_lexer": "ipython3",
   "version": "3.12.4"
  }
 },
 "nbformat": 4,
 "nbformat_minor": 4
}
