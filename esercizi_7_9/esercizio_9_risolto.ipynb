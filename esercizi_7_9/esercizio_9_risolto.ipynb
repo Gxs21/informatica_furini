{
 "cells": [
  {
   "cell_type": "markdown",
   "metadata": {},
   "source": [
    "* Il seguente blocco di codice importa le librerie necessarie"
   ]
  },
  {
   "cell_type": "code",
   "execution_count": null,
   "metadata": {},
   "outputs": [],
   "source": [
    "import numpy as np\n",
    "import matplotlib.pyplot as plt"
   ]
  },
  {
   "cell_type": "markdown",
   "metadata": {},
   "source": [
    "* Creare un vettore x di 1000 punti equidistanti nel range -5*pi:5*pi\n",
    "* Calcolare un vettore y definito come sin(x)/x, usando una linea per il plot\n",
    "* Fare il grafico di y in funzione di x"
   ]
  },
  {
   "cell_type": "code",
   "execution_count": null,
   "metadata": {},
   "outputs": [],
   "source": [
    "x = np.linspace(-5*np.pi, 5*np.pi, 1000)\n",
    "y = np.sin(x)/x\n",
    "f = plt.figure()\n",
    "ax = f.add_subplot(1,1,1)\n",
    "ax.plot(x, y, '-b')\n",
    "ax.set_xlabel('x')\n",
    "ax.set_ylabel('y')\n",
    "ax.set_title('sin(x)/x')"
   ]
  },
  {
   "cell_type": "markdown",
   "metadata": {},
   "source": [
    "* Il file dati_9_1.npy contiene la matrice A con il seguente formato\n",
    "    * la prima colonna corrisponde all'eta' del paziente\n",
    "    * la seconda colonna corrisponde alla pressione distolica\n",
    "    * la terza colonna corrisponde alla pressione sistolica\n",
    "* Fare un grafico dei valori di pressione diastolica/sistolica in funzione dell'eta'. Usare simboli diveri per i valori sistolici/diastolici"
   ]
  },
  {
   "cell_type": "code",
   "execution_count": null,
   "metadata": {},
   "outputs": [],
   "source": [
    "A = np.load('dati_9_1.npy')\n",
    "f = plt.figure()\n",
    "ax = f.add_subplot(1,1,1)\n",
    "ax.plot(A[:,0], A[:,1], 'xb')\n",
    "ax.plot(A[:,0], A[:,2], '+r')"
   ]
  },
  {
   "cell_type": "markdown",
   "metadata": {},
   "source": [
    "* Il file dati_9_2.txt ha il seguente formato:\n",
    "    * colonna 0 = numero intero che indica l'indice della popolazione cellulare\n",
    "    * colonna 1 = numero intero uguale a 0/1 se la riga contiene rispettivamente dato di fluorescenza rossa/verde\n",
    "    * colonna 2 = la fluorescenza misurata (float)\n",
    "* Definire due dizionari G/R che contengono le fluorescenze medie verde/rossa nelle varie popolazioni (la chiave dei dizionari deve essere l'indice di popolazione).\n",
    "* Suggerimento: usare la funzione np.unique per trovare l'insieme dei possibili indici\n",
    "* Fare 2 grafici a barre che riportano la fluorescenza media verde/rossa nelle diverse popolazioni"
   ]
  },
  {
   "cell_type": "code",
   "execution_count": null,
   "metadata": {},
   "outputs": [],
   "source": [
    "B = np.genfromtxt('dati_9_2.txt')\n",
    "G = {}\n",
    "R = {}\n",
    "for i in np.unique(B[:,0]):\n",
    "    R[i] = np.mean(B[np.logical_and(B[:,0]==i,B[:,1]==0),2])\n",
    "    G[i] = np.mean(B[np.logical_and(B[:,0]==i,B[:,1]==1),2])\n",
    "f = plt.figure()\n",
    "ax1 = f.add_subplot(2,1,1)\n",
    "ax2 = f.add_subplot(2,1,2)\n",
    "ax1.bar(R.keys(), R.values())\n",
    "ax2.bar(R.keys(), G.values())"
   ]
  }
 ],
 "metadata": {
  "kernelspec": {
   "display_name": "Python 3 (ipykernel)",
   "language": "python",
   "name": "python3"
  },
  "language_info": {
   "codemirror_mode": {
    "name": "ipython",
    "version": 3
   },
   "file_extension": ".py",
   "mimetype": "text/x-python",
   "name": "python",
   "nbconvert_exporter": "python",
   "pygments_lexer": "ipython3",
   "version": "3.12.4"
  }
 },
 "nbformat": 4,
 "nbformat_minor": 4
}
