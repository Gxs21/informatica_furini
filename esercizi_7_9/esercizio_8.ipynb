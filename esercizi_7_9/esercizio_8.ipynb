{
 "cells": [
  {
   "cell_type": "code",
   "execution_count": 384,
   "id": "ef22325b-de00-43dc-9ca6-cd7ea1f8a05d",
   "metadata": {},
   "outputs": [],
   "source": [
    "import numpy as np"
   ]
  },
  {
   "cell_type": "markdown",
   "id": "eeafa2f2-17f4-4d96-9a9c-ec4610f6a9d7",
   "metadata": {},
   "source": [
    "Scrivere una funzione che riceve in ingresso:\n",
    "* una matrice Nx3 contenene le coordinate di una serie di carica puntiformi (X)\n",
    "* un vettore di N elementi contenente le rispettive cariche elettriche (Q)\n",
    "* un vettore di 3 elementi contenente le coordinate di un punto (x)\n",
    "\n",
    "e resituisce il potenziale elettrostatico nel punto x"
   ]
  },
  {
   "cell_type": "code",
   "execution_count": 385,
   "id": "1ab847a1-8f31-4ef2-a835-b8278716f375",
   "metadata": {},
   "outputs": [],
   "source": [
    "def distanza(A, y):\n",
    "    dis=(np.sqrt(np.sum((A-y)**2, axis=1)))#ricordati sempre di specificare l'asse nella somma quando si tratta di coordinate, devi sommare x con x\n",
    "    return dis\n",
    "def potenziale(A, x, y):\n",
    "    pot=(1/(4*np.pi*(8.854*10**-12)))*np.sum(x/distanza(A,y))\n",
    "    return pot"
   ]
  },
  {
   "cell_type": "markdown",
   "id": "1059cb43-c92d-4d71-8493-a0fc4ea6eb5b",
   "metadata": {},
   "source": [
    "Testare la funzione usando i valori di input definiti dal codice sottostante per calcolare il potenziale nell'origine"
   ]
  },
  {
   "cell_type": "code",
   "execution_count": 386,
   "id": "7ea067c1-5c3b-4f08-850d-fb653472917c",
   "metadata": {},
   "outputs": [],
   "source": [
    "N = 100\n",
    "X = np.random.uniform(-10, 10, size = (N, 3))\n",
    "Q = np.random.normal(loc = 0, scale = 1, size = (N,))"
   ]
  },
  {
   "cell_type": "code",
   "execution_count": 387,
   "id": "c4e43992-73c2-4e5d-8df0-6bfe4c9ddb04",
   "metadata": {},
   "outputs": [
    {
     "name": "stdout",
     "output_type": "stream",
     "text": [
      "[12.70993876 12.1751374   9.86128907  8.38246227 10.65138968 10.01089416\n",
      "  8.13201355 13.2592606   7.88933071 10.00482565  9.75691798  8.48402697\n",
      " 12.2964483  11.2117478   9.80852755 13.91937768 10.60846784  9.73141644\n",
      "  7.14339835 10.33367793 10.43629238 13.57030192 11.34367501 11.66783732\n",
      " 11.30499346  7.21675446 11.51189424 12.35853989 10.2421059   4.64248951\n",
      " 11.43873071  6.28567551  8.53224671 11.54866823 11.71575575 12.95452358\n",
      " 11.78748255 12.38683125 12.5925564  12.21551818  9.20584918  6.07493696\n",
      " 11.2706053   9.27406609 10.18046438 11.57443427  2.01012921  9.63281998\n",
      " 14.07477675  7.48341199  7.51182052  7.63294394 11.85301622  8.95703448\n",
      "  6.85317692  6.07167568  2.53050792  8.84657097 14.4896145   8.07643089\n",
      " 10.37129765 14.68397211  9.19585588 10.36309082  5.38746864 13.39204497\n",
      " 12.12509937  9.92891532  9.60766558  8.24494296 12.6032098  14.39447578\n",
      "  8.26600678  9.49267574 15.15479355  5.70809316  8.77088535  9.0753967\n",
      "  9.02898559 10.4445856  13.48294878 12.26621777  5.8421876   6.96094376\n",
      "  7.95630548  9.00417302  4.05418557  8.80576569  7.57727301 11.66512881\n",
      "  9.42076211 12.10619643  4.81339242 13.14624028  9.33928594 10.78213141\n",
      " 11.27128925 14.06724765 12.52063229 15.25574692]\n",
      "100\n",
      "-14570766055.53986\n"
     ]
    }
   ],
   "source": [
    "print(distanza(X,np.array([0,0,0])))\n",
    "a=(distanza(X,np.array([0,0,0])))\n",
    "print(a.size)\n",
    "print(potenziale(X,Q,np.array([0,0,0])))"
   ]
  },
  {
   "cell_type": "markdown",
   "id": "835618de-e398-4c11-957c-c82fcb84aed0",
   "metadata": {},
   "source": [
    "Scrivere una funzione che riceve in ingresso:\n",
    "\n",
    "* una matrice Nx3 contenente le coordinate atomiche di una proteina A (crd_A)\n",
    "* una matrice Mx3 contenente le coordinate atomiche di una proteina B (crd_B)\n",
    "\n",
    "e restituisce la distanza tra i centri geometrici delle due molecole"
   ]
  },
  {
   "cell_type": "code",
   "execution_count": 388,
   "id": "dba9b1f5-be7d-418e-a6b8-9f7dd366d7c4",
   "metadata": {},
   "outputs": [],
   "source": [
    "def centro_geometrico(C):\n",
    "    centre=np.sum(C, axis=0)\n",
    "    centre=centre/C.shape[0]\n",
    "    return centre\n",
    "\n",
    "def distanza(A, B):\n",
    "    dis=np.sqrt(np.sum((A-B)**2))\n",
    "    return dis"
   ]
  },
  {
   "cell_type": "markdown",
   "id": "47dd4e49-e51b-48e3-a623-b8e61085c929",
   "metadata": {},
   "source": [
    "Testare la funzione usando i dati generati dal codice sottostante"
   ]
  },
  {
   "cell_type": "code",
   "execution_count": 389,
   "id": "5d390c47-c023-46ce-ba66-2a5aaf41fb18",
   "metadata": {},
   "outputs": [],
   "source": [
    "import numpy as np\n",
    "N = 10\n",
    "M = 20\n",
    "crd_A = np.random.normal(loc = -0.5, scale = 1.0, size = (N, 3))\n",
    "crd_B = np.random.normal(loc = 0.5, scale = 1.0, size = (M, 3))"
   ]
  },
  {
   "cell_type": "code",
   "execution_count": 390,
   "id": "6a4b7bfc-7cd0-4e58-bb42-d080ade15b4f",
   "metadata": {},
   "outputs": [
    {
     "name": "stdout",
     "output_type": "stream",
     "text": [
      "[[-2.47464302 -1.11026337 -0.18566007]\n",
      " [-0.63185907 -0.01133767 -0.0446283 ]\n",
      " [-0.43762833 -1.12898737 -1.61470384]\n",
      " [-0.49106211 -0.16125603  0.4176208 ]\n",
      " [ 0.10078293 -1.98250741 -3.24528443]\n",
      " [-0.78572549 -0.96864163 -1.69115067]\n",
      " [ 0.76093527 -0.54889153 -2.1420521 ]\n",
      " [-0.92581878  0.88774198 -1.28131618]\n",
      " [-0.36447791 -0.40159676 -1.00968389]\n",
      " [ 0.82565313 -0.82891704 -1.0433651 ]]\n",
      "il centro geometrico ha come coordinate:  [-0.44238434 -0.62546568 -1.18402238]\n",
      "la distanza tra i centri geometrici vale: 2.313355218843334\n"
     ]
    }
   ],
   "source": [
    "print (crd_A)\n",
    "print (\"il centro geometrico ha come coordinate: \",centro_geometrico(crd_A))\n",
    "print(\"la distanza tra i centri geometrici vale:\", distanza(centro_geometrico(crd_A), centro_geometrico(crd_B)))"
   ]
  },
  {
   "cell_type": "markdown",
   "id": "19f9f897-3770-4beb-a57a-0903f949f640",
   "metadata": {},
   "source": [
    "Scrivere una funzione che prende in ingresso:\n",
    "\n",
    "* una matrice Nx3 contenente le coordinate atomiche di una proteina A (crd_A)\n",
    "* un vettore di N elementi contenente le masse degli atomi della proteina A (m_A)\n",
    "* una matrice Mx3 contenente le coordinate atomiche di una proteina B (crd_B)\n",
    "* un vettore di M elementi contenente le masse degli atomi della proteina A (m_A)\n",
    "\n",
    "e restituisce la distanza tra i centri di massa delle due molecole"
   ]
  },
  {
   "cell_type": "code",
   "execution_count": 391,
   "id": "5aaeca2a-dbeb-4395-9963-05b8553fc4dd",
   "metadata": {},
   "outputs": [],
   "source": [
    "'''def centri_massa(crd_A, m_A, crd_B, m_B):\n",
    "    distanza((sum(crd_A*m_A.reshape(100,-1), axis=1)), (sum(crd_B*m_B.reshape(100,-1), axis=1)))'''\n",
    "def centro_massa(crd_A, m_A):\n",
    "    centro=(np.sum(crd_A*m_A.reshape(m_A.shape[0],-1), axis=0)/np.sum(m_A))\n",
    "    return centro\n",
    "def distanza(C, D):\n",
    "    dis=np.sqrt(np.sum((C-D)**2))\n",
    "    return dis"
   ]
  },
  {
   "cell_type": "markdown",
   "id": "4cf21b56-05e0-4f6c-9d71-efa6ee605eec",
   "metadata": {},
   "source": [
    "Testare la funzione usando i dati generati dal codice sottostante"
   ]
  },
  {
   "cell_type": "code",
   "execution_count": 392,
   "id": "d681aeb1-f66a-4857-87fe-bce1f339fe0b",
   "metadata": {},
   "outputs": [],
   "source": [
    "N = 100\n",
    "M = 200\n",
    "crd_A = np.random.normal(loc = -0.5, scale = 1.0, size = (N, 3))\n",
    "m_A = np.random.uniform(1, 10, size = (N,))\n",
    "crd_B = np.random.normal(loc = 0.5, scale = 1.0, size = (M, 3))\n",
    "m_B = np.random.uniform(1, 10, size = (M,))"
   ]
  },
  {
   "cell_type": "code",
   "execution_count": 393,
   "id": "095ad4a0-b144-44e9-a776-cad7c9a4ca81",
   "metadata": {},
   "outputs": [
    {
     "name": "stdout",
     "output_type": "stream",
     "text": [
      "[-0.41974585 -0.31002771 -0.45554815]\n",
      "[-0.41974585 -0.31002771 -0.45554815] [0.51490476 0.53123508 0.476074  ]\n",
      "1.5649967046478854\n"
     ]
    }
   ],
   "source": [
    "#print(centri_massa(crd_A, m_A, crd_B, m_B))\n",
    "print(centro_massa(crd_A, m_A))\n",
    "centro_1=centro_massa(crd_A, m_A)\n",
    "centro_2=centro_massa(crd_B, m_B)\n",
    "print(centro_1, centro_2)\n",
    "\n",
    "print(distanza(centro_massa(crd_A, m_A), centro_massa(crd_B, m_B)))"
   ]
  },
  {
   "cell_type": "markdown",
   "id": "400d3266-b7bf-4713-a7ba-7b0cafb67e98",
   "metadata": {},
   "source": [
    "Scrivere una funzione che prende in ingresso:\n",
    "* una matrice NxM contenente le coordinate di N punti in uno spazio ad M dimensioni\n",
    "* un vettore contenente le coordinate di un punto A in uno spazio ad M dimensioni\n",
    "* un vettore contenente le coordinate di un punto B in uno spazio ad M dimensioni\n",
    "\n",
    "e restituisce un vettore di N booleani il cui elemento i e' uguale a True se il punto i-esimo della matrice di input e' piu' vicino al punto A che al punto B, False viceversa."
   ]
  },
  {
   "cell_type": "code",
   "execution_count": 394,
   "id": "6aa11a0d-9f7c-4f60-9706-f6776df6ca8f",
   "metadata": {},
   "outputs": [],
   "source": [
    "def vicino (A, crd_A, crd_B):\n",
    "    delta=A-crd_A.reshape(1,-1)\n",
    "    dist_A=(np.sum(delta**2, axis=1)**0.5)\n",
    "    delta=A-crd_B.reshape(1,-1)\n",
    "    dist_b=(np.sum(delta**2, axis=1)**0.5)\n",
    "    return dist_A>dist_b"
   ]
  },
  {
   "cell_type": "markdown",
   "id": "4c786c25-5916-41d2-a897-bcdd09017b2c",
   "metadata": {},
   "source": [
    "Applicare la funzione per calcolare quanti punti della proteina A dell'esercizio sono piu' vicini al centro di massa della proteina B che al centro di massa della proteina A"
   ]
  },
  {
   "cell_type": "code",
   "execution_count": 395,
   "id": "3a7f67e7-8fce-401b-bf76-ef1dde185f54",
   "metadata": {},
   "outputs": [
    {
     "name": "stdout",
     "output_type": "stream",
     "text": [
      "78\n"
     ]
    }
   ],
   "source": [
    "flag=(vicino(crd_A, centro_2, centro_1))\n",
    "print(np.sum(flag))"
   ]
  },
  {
   "cell_type": "markdown",
   "id": "a912f1e5-b501-482a-951c-d9d8238d7d08",
   "metadata": {},
   "source": [
    "Scrivere una funzione che prende in ingresso due matrici 2xN, contenenti le coordinate di una serie di N punti in uno spazio bidimensionale in due diversi istanti di tempo successivi. La funzione deve restituire l'indice del punto che ha subito il maggiore spostamento lungo l'asse x tra i due istanti temporali. [Suggerimento: utilizzare la funzione np.argsort]\n",
    "\n",
    "Applicare la funzione alle matrici X e Y definite nel codice sottostante. Fare un grafico dei punti che utilizza due simboli diversi per i due istanti temporali, ed un colore diverso per il punto selezionato dalla funzione. Non sono consentiti cicli."
   ]
  },
  {
   "cell_type": "code",
   "execution_count": 396,
   "id": "0a167597-9d15-451a-85ba-2800a8c4a2d5",
   "metadata": {},
   "outputs": [],
   "source": [
    "N = 100\n",
    "X = np.random.normal(size = (2, N))\n",
    "Y = np.random.normal(size = (2, N))"
   ]
  },
  {
   "cell_type": "code",
   "execution_count": null,
   "id": "6f0369dc-cebf-4ae6-93d3-39250e4919c2",
   "metadata": {},
   "outputs": [
    {
     "name": "stdout",
     "output_type": "stream",
     "text": [
      "5\n"
     ]
    }
   ],
   "source": [
    "def spostamento(X,Y):\n",
    "    np.abs(delta=(Y-X))#occhio sempre ai valori assoluti quando prendi delle distanze\n",
    "    ord=np.argsort(delta[0])\n",
    "    return ord[-1]\n",
    "print(spostamento(X,Y))\n"
   ]
  },
  {
   "cell_type": "markdown",
   "id": "1c047f81-19a4-4794-8b60-fc4f3cfae1f8",
   "metadata": {},
   "source": [
    "La matrice A definita nel codice sottostante contiene le coordinate di un insiemi di punti organizzati per colonne (la prima colonna di A corrispondende alle coordinate x,y,z di un punto, e cosi via). Scrivere una funzione che prende in ingresso una matrice di punti con la struttura definita per la matrice A e restituisce 3 valori rispettivamente uguali allo spostamento totale lungo gli assi x, y, e z. Per spostamento totale si intende la somma degli spostamenti tra due punti consecutivi.\n",
    "\n",
    "Esempio. Se la matrice di input e' uguale a:\n",
    "\n",
    "0 1 2\n",
    "\n",
    "5 2 4\n",
    "\n",
    "1 7 2\n",
    "\n",
    "Il risultato della funzione deve essere: 1+1 (spostamento da 0 a 1 + spostamento da 1 a 2), 3+2 (spostamento da 5 a 2 + spostamento da 2 a 4), 6+5 (spostamento da 1 a 7 + spostamento da 7 a 2)\n",
    "\n",
    "Applicare la funzione alla matrice A e mostrare a monitor il risultato."
   ]
  },
  {
   "cell_type": "code",
   "execution_count": 398,
   "id": "14774a31-c72f-4cfe-921b-0cde871380ee",
   "metadata": {},
   "outputs": [
    {
     "ename": "SyntaxError",
     "evalue": "incomplete input (4157789926.py, line 2)",
     "output_type": "error",
     "traceback": [
      "  \u001b[36mCell\u001b[39m\u001b[36m \u001b[39m\u001b[32mIn[398]\u001b[39m\u001b[32m, line 2\u001b[39m\n\u001b[31m    \u001b[39m\u001b[31mA = np.random.normal(size = (3, N)\u001b[39m\n                                      ^\n\u001b[31mSyntaxError\u001b[39m\u001b[31m:\u001b[39m incomplete input\n"
     ]
    }
   ],
   "source": [
    "N = 1000\n",
    "A = np.random.normal(size = (3, N)"
   ]
  },
  {
   "cell_type": "code",
   "execution_count": null,
   "id": "12d0612b-43fc-48d8-9dde-a4841995b279",
   "metadata": {},
   "outputs": [],
   "source": []
  }
 ],
 "metadata": {
  "kernelspec": {
   "display_name": "Python 3",
   "language": "python",
   "name": "python3"
  },
  "language_info": {
   "codemirror_mode": {
    "name": "ipython",
    "version": 3
   },
   "file_extension": ".py",
   "mimetype": "text/x-python",
   "name": "python",
   "nbconvert_exporter": "python",
   "pygments_lexer": "ipython3",
   "version": "3.11.9"
  }
 },
 "nbformat": 4,
 "nbformat_minor": 5
}
