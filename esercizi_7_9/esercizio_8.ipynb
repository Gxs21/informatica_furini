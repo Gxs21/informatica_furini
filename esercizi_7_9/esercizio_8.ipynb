{
 "cells": [
  {
   "cell_type": "code",
   "execution_count": 209,
   "id": "ef22325b-de00-43dc-9ca6-cd7ea1f8a05d",
   "metadata": {},
   "outputs": [],
   "source": [
    "import numpy as np"
   ]
  },
  {
   "cell_type": "markdown",
   "id": "eeafa2f2-17f4-4d96-9a9c-ec4610f6a9d7",
   "metadata": {},
   "source": [
    "Scrivere una funzione che riceve in ingresso:\n",
    "* una matrice Nx3 contenene le coordinate di una serie di carica puntiformi (X)\n",
    "* un vettore di N elementi contenente le rispettive cariche elettriche (Q)\n",
    "* un vettore di 3 elementi contenente le coordinate di un punto (x)\n",
    "\n",
    "e resituisce il potenziale elettrostatico nel punto x"
   ]
  },
  {
   "cell_type": "code",
   "execution_count": 210,
   "id": "1ab847a1-8f31-4ef2-a835-b8278716f375",
   "metadata": {},
   "outputs": [],
   "source": [
    "def distanza(A, y):\n",
    "    dis=(np.sqrt(np.sum((A-y)**2, axis=1)))#ricordati sempre di specificare l'asse nella somma quando si tratta di coordinate, devi sommare x con x\n",
    "    return dis\n",
    "def potenziale(A, x, y):\n",
    "    pot=(1/(4*np.pi*(8.854*10**-12)))*np.sum(x/distanza(A,y))\n",
    "    return pot"
   ]
  },
  {
   "cell_type": "markdown",
   "id": "1059cb43-c92d-4d71-8493-a0fc4ea6eb5b",
   "metadata": {},
   "source": [
    "Testare la funzione usando i valori di input definiti dal codice sottostante per calcolare il potenziale nell'origine"
   ]
  },
  {
   "cell_type": "code",
   "execution_count": 211,
   "id": "7ea067c1-5c3b-4f08-850d-fb653472917c",
   "metadata": {},
   "outputs": [],
   "source": [
    "N = 100\n",
    "X = np.random.uniform(-10, 10, size = (N, 3))\n",
    "Q = np.random.normal(loc = 0, scale = 1, size = (N,))"
   ]
  },
  {
   "cell_type": "code",
   "execution_count": 212,
   "id": "c4e43992-73c2-4e5d-8df0-6bfe4c9ddb04",
   "metadata": {},
   "outputs": [
    {
     "name": "stdout",
     "output_type": "stream",
     "text": [
      "[11.93008393 11.9354939   8.61373266 10.93589453 13.28906393 10.84071973\n",
      " 12.9658187   7.69589508  6.62073954 15.77534652 10.76022017  9.34613814\n",
      "  8.74304261  5.85259038  8.01588134  9.89834256  6.21136203  4.43248362\n",
      " 13.2186602  10.98119403 15.23942658 11.67958879  8.49959206  6.74201199\n",
      " 12.78040719  7.43428182  5.40454422 13.58839587  9.96318726  4.68790528\n",
      "  9.22401775 12.12360215  9.8875326   9.16703555  6.54231033  6.46294448\n",
      "  8.9197293  10.29065695 14.20629922  8.21265834  8.70149775 11.33195789\n",
      "  4.54529798  4.53666165 11.85032211  6.02289199 12.96922776  9.65815437\n",
      " 12.32923071  9.27347799 10.7842186   8.85877653  6.4437435   8.32393474\n",
      "  7.98530471 14.17664853  9.88540583 11.21380129  6.65797768 11.11075509\n",
      " 12.50938755  9.10527324  1.55225228  5.27897203  8.44210384 10.36818784\n",
      " 13.61782725 11.33569738  8.13690227 12.15619918 13.00499294  3.62377856\n",
      "  9.72455413 12.41871418  5.97821223 14.30705726 12.32387627  5.81141301\n",
      " 12.72876599 11.40554669  9.71825113  6.77054722 12.44573644 11.11926737\n",
      "  6.48643902  5.99894199 11.7894708  13.31971491 12.09661812 11.19339877\n",
      " 10.76071958  7.06061298  9.46805967  3.9642016   5.63153638  8.07302382\n",
      "  6.89682334  8.42462005 10.9476284  12.20382825]\n",
      "100\n",
      "-3518415329.206712\n"
     ]
    }
   ],
   "source": [
    "print(distanza(X,np.array([0,0,0])))\n",
    "a=(distanza(X,np.array([0,0,0])))\n",
    "print(a.size)\n",
    "print(potenziale(X,Q,np.array([0,0,0])))"
   ]
  },
  {
   "cell_type": "markdown",
   "id": "835618de-e398-4c11-957c-c82fcb84aed0",
   "metadata": {},
   "source": [
    "Scrivere una funzione che riceve in ingresso:\n",
    "\n",
    "* una matrice Nx3 contenente le coordinate atomiche di una proteina A (crd_A)\n",
    "* una matrice Mx3 contenente le coordinate atomiche di una proteina B (crd_B)\n",
    "\n",
    "e restituisce la distanza tra i centri geometrici delle due molecole"
   ]
  },
  {
   "cell_type": "code",
   "execution_count": 213,
   "id": "dba9b1f5-be7d-418e-a6b8-9f7dd366d7c4",
   "metadata": {},
   "outputs": [],
   "source": [
    "def centro_geometrico(C):\n",
    "    centre=np.sum(C, axis=0)\n",
    "    centre=centre/C.shape[0]\n",
    "    return centre\n",
    "\n",
    "def distanza(A, B):\n",
    "    dis=np.sqrt(np.sum((A-B)**2))\n",
    "    return dis"
   ]
  },
  {
   "cell_type": "markdown",
   "id": "47dd4e49-e51b-48e3-a623-b8e61085c929",
   "metadata": {},
   "source": [
    "Testare la funzione usando i dati generati dal codice sottostante"
   ]
  },
  {
   "cell_type": "code",
   "execution_count": 214,
   "id": "5d390c47-c023-46ce-ba66-2a5aaf41fb18",
   "metadata": {},
   "outputs": [],
   "source": [
    "import numpy as np\n",
    "N = 10\n",
    "M = 20\n",
    "crd_A = np.random.normal(loc = -0.5, scale = 1.0, size = (N, 3))\n",
    "crd_B = np.random.normal(loc = 0.5, scale = 1.0, size = (M, 3))"
   ]
  },
  {
   "cell_type": "code",
   "execution_count": 215,
   "id": "6a4b7bfc-7cd0-4e58-bb42-d080ade15b4f",
   "metadata": {},
   "outputs": [
    {
     "name": "stdout",
     "output_type": "stream",
     "text": [
      "[[-2.25272025  0.54340025 -1.42046609]\n",
      " [-0.91264301 -1.46405511 -0.30917981]\n",
      " [-0.51051073 -0.97480525 -2.33132104]\n",
      " [-1.27567536 -0.61238245  0.29448322]\n",
      " [-0.60838607  0.91672742 -0.7019294 ]\n",
      " [-1.32539689 -0.91972324 -2.10443476]\n",
      " [ 0.93092436 -0.04763918 -0.42922352]\n",
      " [-0.1105398   1.72016375 -2.50781022]\n",
      " [-0.28452913  0.57272269  0.13294698]\n",
      " [-0.00337126  0.51353089  0.4253992 ]]\n",
      "il centro geometrico ha come coordinate:  [-0.63528482  0.02479398 -0.89515354]\n",
      "la distanza tra i centri geometrici vale: 2.1001821253692023\n"
     ]
    }
   ],
   "source": [
    "print (crd_A)\n",
    "print (\"il centro geometrico ha come coordinate: \",centro_geometrico(crd_A))\n",
    "print(\"la distanza tra i centri geometrici vale:\", distanza(centro_geometrico(crd_A), centro_geometrico(crd_B)))"
   ]
  },
  {
   "cell_type": "markdown",
   "id": "19f9f897-3770-4beb-a57a-0903f949f640",
   "metadata": {},
   "source": [
    "Scrivere una funzione che prende in ingresso:\n",
    "\n",
    "* una matrice Nx3 contenente le coordinate atomiche di una proteina A (crd_A)\n",
    "* un vettore di N elementi contenente le masse degli atomi della proteina A (m_A)\n",
    "* una matrice Mx3 contenente le coordinate atomiche di una proteina B (crd_B)\n",
    "* un vettore di M elementi contenente le masse degli atomi della proteina A (m_A)\n",
    "\n",
    "e restituisce la distanza tra i centri di massa delle due molecole"
   ]
  },
  {
   "cell_type": "code",
   "execution_count": 216,
   "id": "5aaeca2a-dbeb-4395-9963-05b8553fc4dd",
   "metadata": {},
   "outputs": [],
   "source": [
    "'''def centri_massa(crd_A, m_A, crd_B, m_B):\n",
    "    distanza((sum(crd_A*m_A.reshape(100,-1), axis=1)), (sum(crd_B*m_B.reshape(100,-1), axis=1)))'''\n",
    "def centro_massa(crd_A, m_A):\n",
    "    centro=(np.sum(crd_A*m_A.reshape(m_A.shape[0],-1), axis=0)/np.sum(m_A))\n",
    "    return centro\n",
    "def distanza(C, D):\n",
    "    dis=np.sqrt(np.sum((C-D)**2))\n",
    "    return dis"
   ]
  },
  {
   "cell_type": "markdown",
   "id": "4cf21b56-05e0-4f6c-9d71-efa6ee605eec",
   "metadata": {},
   "source": [
    "Testare la funzione usando i dati generati dal codice sottostante"
   ]
  },
  {
   "cell_type": "code",
   "execution_count": 217,
   "id": "d681aeb1-f66a-4857-87fe-bce1f339fe0b",
   "metadata": {},
   "outputs": [],
   "source": [
    "N = 100\n",
    "M = 200\n",
    "crd_A = np.random.normal(loc = -0.5, scale = 1.0, size = (N, 3))\n",
    "m_A = np.random.uniform(1, 10, size = (N,))\n",
    "crd_B = np.random.normal(loc = 0.5, scale = 1.0, size = (M, 3))\n",
    "m_B = np.random.uniform(1, 10, size = (M,))"
   ]
  },
  {
   "cell_type": "code",
   "execution_count": 218,
   "id": "095ad4a0-b144-44e9-a776-cad7c9a4ca81",
   "metadata": {},
   "outputs": [
    {
     "name": "stdout",
     "output_type": "stream",
     "text": [
      "[-0.59842293 -0.47081354 -0.38227911]\n",
      "[-0.59842293 -0.47081354 -0.38227911] [0.50066393 0.29911616 0.6171005 ]\n",
      "1.6731835761095153\n"
     ]
    }
   ],
   "source": [
    "#print(centri_massa(crd_A, m_A, crd_B, m_B))\n",
    "print(centro_massa(crd_A, m_A))\n",
    "centro_1=centro_massa(crd_A, m_A)\n",
    "centro_2=centro_massa(crd_B, m_B)\n",
    "print(centro_1, centro_2)\n",
    "\n",
    "print(distanza(centro_massa(crd_A, m_A), centro_massa(crd_B, m_B)))"
   ]
  },
  {
   "cell_type": "markdown",
   "id": "400d3266-b7bf-4713-a7ba-7b0cafb67e98",
   "metadata": {},
   "source": [
    "Scrivere una funzione che prende in ingresso:\n",
    "* una matrice NxM contenente le coordinate di N punti in uno spazio ad M dimensioni\n",
    "* un vettore contenente le coordinate di un punto A in uno spazio ad M dimensioni\n",
    "* un vettore contenente le coordinate di un punto B in uno spazio ad M dimensioni\n",
    "\n",
    "e restituisce un vettore di N booleani il cui elemento i e' uguale a True se il punto i-esimo della matrice di input e' piu' vicino al punto A che al punto B, False viceversa."
   ]
  },
  {
   "cell_type": "code",
   "execution_count": 219,
   "id": "6aa11a0d-9f7c-4f60-9706-f6776df6ca8f",
   "metadata": {},
   "outputs": [],
   "source": [
    "def vicino (A, crd_A, crd_B):\n",
    "    delta=A-crd_A.reshape(1,-1)\n",
    "    dist_A=(np.sum(delta**2, axis=1)**0.5)\n",
    "    delta=A-crd_B.reshape(1,-1)\n",
    "    dist_b=(np.sum(delta**2, axis=1)**0.5)\n",
    "    return dist_A>dist_b"
   ]
  },
  {
   "cell_type": "markdown",
   "id": "4c786c25-5916-41d2-a897-bcdd09017b2c",
   "metadata": {},
   "source": [
    "Applicare la funzione per calcolare quanti punti della proteina A dell'esercizio sono piu' vicini al centro di massa della proteina B che al centro di massa della proteina A"
   ]
  },
  {
   "cell_type": "code",
   "execution_count": 220,
   "id": "3a7f67e7-8fce-401b-bf76-ef1dde185f54",
   "metadata": {},
   "outputs": [
    {
     "name": "stdout",
     "output_type": "stream",
     "text": [
      "79\n"
     ]
    }
   ],
   "source": [
    "flag=(vicino(crd_A, centro_2, centro_1))\n",
    "print(np.sum(flag))"
   ]
  },
  {
   "cell_type": "markdown",
   "id": "a912f1e5-b501-482a-951c-d9d8238d7d08",
   "metadata": {},
   "source": [
    "Scrivere una funzione che prende in ingresso due matrici 2xN, contenenti le coordinate di una serie di N punti in uno spazio bidimensionale in due diversi istanti di tempo successivi. La funzione deve restituire l'indice del punto che ha subito il maggiore spostamento lungo l'asse x tra i due istanti temporali. [Suggerimento: utilizzare la funzione np.argsort]\n",
    "\n",
    "Applicare la funzione alle matrici X e Y definite nel codice sottostante. Fare un grafico dei punti che utilizza due simboli diversi per i due istanti temporali, ed un colore diverso per il punto selezionato dalla funzione. Non sono consentiti cicli."
   ]
  },
  {
   "cell_type": "code",
   "execution_count": 221,
   "id": "0a167597-9d15-451a-85ba-2800a8c4a2d5",
   "metadata": {},
   "outputs": [],
   "source": [
    "N = 100\n",
    "X = np.random.normal(size = (2, N))\n",
    "Y = np.random.normal(size = (2, N))"
   ]
  },
  {
   "cell_type": "code",
   "execution_count": 222,
   "id": "ca2bba0c",
   "metadata": {},
   "outputs": [],
   "source": [
    "import matplotlib.pyplot as plt"
   ]
  },
  {
   "cell_type": "code",
   "execution_count": null,
   "id": "6f0369dc-cebf-4ae6-93d3-39250e4919c2",
   "metadata": {},
   "outputs": [
    {
     "name": "stdout",
     "output_type": "stream",
     "text": [
      "35\n"
     ]
    },
    {
     "data": {
      "text/plain": [
       "[<matplotlib.lines.Line2D at 0x10ef8bb60>]"
      ]
     },
     "execution_count": 223,
     "metadata": {},
     "output_type": "execute_result"
    },
    {
     "data": {
      "image/png": "[encoded data removed]",
      "text/plain": [
       "<Figure size 640x480 with 1 Axes>"
      ]
     },
     "metadata": {},
     "output_type": "display_data"
    }
   ],
   "source": [
    "def spostamento(X,Y):\n",
    "    delta=np.abs((Y-X))#occhio sempre ai valori assoluti quando prendi delle distanze\n",
    "    ord=np.argsort(delta[0])\n",
    "    return ord[-1]\n",
    "print(spostamento(X,Y))\n",
    "f=plt.figure()\n",
    "ax=f.add_subplot(1,1,1)\n",
    "ax.plot(X[0],X[1],'bx')\n",
    "ax.plot(Y[0],Y[1], 'ro')\n",
    "ax.plot()\n"
   ]
  },
  {
   "cell_type": "markdown",
   "id": "1c047f81-19a4-4794-8b60-fc4f3cfae1f8",
   "metadata": {},
   "source": [
    "La matrice A definita nel codice sottostante contiene le coordinate di un insiemi di punti organizzati per colonne (la prima colonna di A corrispondende alle coordinate x,y,z di un punto, e cosi via). Scrivere una funzione che prende in ingresso una matrice di punti con la struttura definita per la matrice A e restituisce 3 valori rispettivamente uguali allo spostamento totale lungo gli assi x, y, e z. Per spostamento totale si intende la somma degli spostamenti tra due punti consecutivi.\n",
    "\n",
    "Esempio. Se la matrice di input e' uguale a:\n",
    "\n",
    "0 1 2\n",
    "\n",
    "5 2 4\n",
    "\n",
    "1 7 2\n",
    "\n",
    "Il risultato della funzione deve essere: 1+1 (spostamento da 0 a 1 + spostamento da 1 a 2), 3+2 (spostamento da 5 a 2 + spostamento da 2 a 4), 6+5 (spostamento da 1 a 7 + spostamento da 7 a 2)\n",
    "\n",
    "Applicare la funzione alla matrice A e mostrare a monitor il risultato."
   ]
  },
  {
   "cell_type": "code",
   "execution_count": 224,
   "id": "14774a31-c72f-4cfe-921b-0cde871380ee",
   "metadata": {},
   "outputs": [],
   "source": [
    "N = 1000\n",
    "A = np.random.normal(size = (3, N))"
   ]
  },
  {
   "cell_type": "code",
   "execution_count": 225,
   "id": "12d0612b-43fc-48d8-9dde-a4841995b279",
   "metadata": {},
   "outputs": [
    {
     "name": "stdout",
     "output_type": "stream",
     "text": [
      "[31.99114238 32.17030936 30.75170218]\n"
     ]
    }
   ],
   "source": [
    "def spostamento(A):\n",
    "    spostamento=(np.sqrt(np.sum(A**2, axis=1)))\n",
    "    return spostamento\n",
    "print(spostamento(A))"
   ]
  }
 ],
 "metadata": {
  "kernelspec": {
   "display_name": "base",
   "language": "python",
   "name": "python3"
  },
  "language_info": {
   "codemirror_mode": {
    "name": "ipython",
    "version": 3
   },
   "file_extension": ".py",
   "mimetype": "text/x-python",
   "name": "python",
   "nbconvert_exporter": "python",
   "pygments_lexer": "ipython3",
   "version": "3.12.7"
  }
 },
 "nbformat": 4,
 "nbformat_minor": 5
}
