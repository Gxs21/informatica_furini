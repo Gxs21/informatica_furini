{
 "cells": [
  {
   "cell_type": "code",
   "execution_count": 115,
   "id": "ef22325b-de00-43dc-9ca6-cd7ea1f8a05d",
   "metadata": {},
   "outputs": [],
   "source": [
    "import numpy as np"
   ]
  },
  {
   "cell_type": "markdown",
   "id": "eeafa2f2-17f4-4d96-9a9c-ec4610f6a9d7",
   "metadata": {},
   "source": [
    "Scrivere una funzione che riceve in ingresso:\n",
    "* una matrice Nx3 contenene le coordinate di una serie di carica puntiformi (X)\n",
    "* un vettore di N elementi contenente le rispettive cariche elettriche (Q)\n",
    "* un vettore di 3 elementi contenente le coordinate di un punto (x)\n",
    "\n",
    "e resituisce il potenziale elettrostatico nel punto x"
   ]
  },
  {
   "cell_type": "code",
   "execution_count": 116,
   "id": "1ab847a1-8f31-4ef2-a835-b8278716f375",
   "metadata": {},
   "outputs": [],
   "source": [
    "def distanza(A, y):\n",
    "    dis=(np.sqrt(np.sum((A-y)**2, axis=1)))#ricordati sempre di specificare l'asse nella somma quando si tratta di coordinate, devi sommare x con x\n",
    "    return dis\n",
    "def potenziale(A, x, y):\n",
    "    pot=(1/(4*np.pi*(8.854*10**-12)))*np.sum(x/distanza(A,y))\n",
    "    return pot"
   ]
  },
  {
   "cell_type": "markdown",
   "id": "1059cb43-c92d-4d71-8493-a0fc4ea6eb5b",
   "metadata": {},
   "source": [
    "Testare la funzione usando i valori di input definiti dal codice sottostante per calcolare il potenziale nell'origine"
   ]
  },
  {
   "cell_type": "code",
   "execution_count": 117,
   "id": "7ea067c1-5c3b-4f08-850d-fb653472917c",
   "metadata": {},
   "outputs": [],
   "source": [
    "N = 100\n",
    "X = np.random.uniform(-10, 10, size = (N, 3))\n",
    "Q = np.random.normal(loc = 0, scale = 1, size = (N,))"
   ]
  },
  {
   "cell_type": "code",
   "execution_count": 118,
   "id": "c4e43992-73c2-4e5d-8df0-6bfe4c9ddb04",
   "metadata": {},
   "outputs": [
    {
     "name": "stdout",
     "output_type": "stream",
     "text": [
      "[12.42493025 11.02328564 10.32078806  8.79086618  4.17543581  9.66861706\n",
      " 11.22116823 15.81455777  9.56840674 13.25466413  5.52860787 10.09490778\n",
      " 14.91355967 10.73558601  6.88508458 10.62488429 12.29751038 13.26194197\n",
      " 11.92137336  4.73148304  8.77181115 13.95828838 11.39651321 10.74438331\n",
      " 12.0269547   6.95288394  4.97204868  7.53960479  9.76039021 11.40958385\n",
      "  7.69461978  9.07831864  9.58952707  7.88405757 10.87332922  5.97175751\n",
      " 12.75894897  6.19927309  9.28755072  9.70335956  9.22015553  9.63009692\n",
      "  6.68964882 11.28176714  8.77053968  3.74753377 10.2824886   8.51697776\n",
      " 11.56484021  9.9256214   2.85766338  9.44447559  8.58000105 10.18999741\n",
      " 11.05637981  8.46376453 10.15334646  9.44797842 11.70792329 13.97425128\n",
      "  6.4083657  12.1899674  10.78398828 12.09468575 10.82682263 10.84452477\n",
      " 10.93019971  5.89176531 10.73596059  6.04780469 10.24255272  8.41996103\n",
      "  6.60171178  9.41062393  8.07180597  6.91538661 10.26664056  9.17356438\n",
      " 10.55400096 11.30531279 14.54884627 10.68205793  9.24586822  5.9822211\n",
      "  8.98320189 10.18175331  9.28780028 14.39670173 10.49803093  8.41496933\n",
      " 12.41592319 12.3461481   7.10385191 11.92755043  3.46391032 10.50742399\n",
      " 11.27504326  5.37721485 11.50084656  4.62496133]\n",
      "100\n",
      "-2537084975.7449236\n"
     ]
    }
   ],
   "source": [
    "print(distanza(X,np.array([0,0,0])))\n",
    "a=(distanza(X,np.array([0,0,0])))\n",
    "print(a.size)\n",
    "print(potenziale(X,Q,np.array([0,0,0])))"
   ]
  },
  {
   "cell_type": "markdown",
   "id": "835618de-e398-4c11-957c-c82fcb84aed0",
   "metadata": {},
   "source": [
    "Scrivere una funzione che riceve in ingresso:\n",
    "\n",
    "* una matrice Nx3 contenente le coordinate atomiche di una proteina A (crd_A)\n",
    "* una matrice Mx3 contenente le coordinate atomiche di una proteina B (crd_B)\n",
    "\n",
    "e restituisce la distanza tra i centri geometrici delle due molecole"
   ]
  },
  {
   "cell_type": "code",
   "execution_count": 119,
   "id": "dba9b1f5-be7d-418e-a6b8-9f7dd366d7c4",
   "metadata": {},
   "outputs": [],
   "source": [
    "def centro_geometrico(C):\n",
    "    centre=np.sum(C, axis=0)\n",
    "    centre=centre/C.shape[0]\n",
    "    return centre\n",
    "\n",
    "def distanza(A, B):\n",
    "    dis=np.sqrt(np.sum((A-B)**2))\n",
    "    return dis"
   ]
  },
  {
   "cell_type": "markdown",
   "id": "47dd4e49-e51b-48e3-a623-b8e61085c929",
   "metadata": {},
   "source": [
    "Testare la funzione usando i dati generati dal codice sottostante"
   ]
  },
  {
   "cell_type": "code",
   "execution_count": 120,
   "id": "5d390c47-c023-46ce-ba66-2a5aaf41fb18",
   "metadata": {},
   "outputs": [],
   "source": [
    "import numpy as np\n",
    "N = 10\n",
    "M = 20\n",
    "crd_A = np.random.normal(loc = -0.5, scale = 1.0, size = (N, 3))\n",
    "crd_B = np.random.normal(loc = 0.5, scale = 1.0, size = (M, 3))"
   ]
  },
  {
   "cell_type": "code",
   "execution_count": 121,
   "id": "6a4b7bfc-7cd0-4e58-bb42-d080ade15b4f",
   "metadata": {},
   "outputs": [
    {
     "name": "stdout",
     "output_type": "stream",
     "text": [
      "[[-1.04862253  0.89168259 -1.30541475]\n",
      " [-1.86090808  0.20104807 -0.69257465]\n",
      " [-1.81686638 -1.89797506 -2.62687325]\n",
      " [ 0.52686897 -0.41336726 -0.93999024]\n",
      " [-1.121304   -2.38680024  1.10055157]\n",
      " [-0.98182127 -1.11806829 -0.15514139]\n",
      " [-1.13590494 -0.40614916 -0.092697  ]\n",
      " [-1.61687681 -2.74764238 -0.66192253]\n",
      " [-0.03707731  0.34595942 -2.21334973]\n",
      " [ 0.79906643 -0.61564573 -0.75978465]]\n",
      "il centro geometrico ha come coordinate:  [-0.82934459 -0.8146958  -0.83471966]\n",
      "la distanza tra i centri geometrici vale: 2.787133811512513\n"
     ]
    }
   ],
   "source": [
    "print (crd_A)\n",
    "print (\"il centro geometrico ha come coordinate: \",centro_geometrico(crd_A))\n",
    "print(\"la distanza tra i centri geometrici vale:\", distanza(centro_geometrico(crd_A), centro_geometrico(crd_B)))"
   ]
  },
  {
   "cell_type": "markdown",
   "id": "19f9f897-3770-4beb-a57a-0903f949f640",
   "metadata": {},
   "source": [
    "Scrivere una funzione che prende in ingresso:\n",
    "\n",
    "* una matrice Nx3 contenente le coordinate atomiche di una proteina A (crd_A)\n",
    "* un vettore di N elementi contenente le masse degli atomi della proteina A (m_A)\n",
    "* una matrice Mx3 contenente le coordinate atomiche di una proteina B (crd_B)\n",
    "* un vettore di M elementi contenente le masse degli atomi della proteina A (m_A)\n",
    "\n",
    "e restituisce la distanza tra i centri di massa delle due molecole"
   ]
  },
  {
   "cell_type": "code",
   "execution_count": 122,
   "id": "5aaeca2a-dbeb-4395-9963-05b8553fc4dd",
   "metadata": {},
   "outputs": [],
   "source": [
    "'''def centri_massa(crd_A, m_A, crd_B, m_B):\n",
    "    distanza((sum(crd_A*m_A.reshape(100,-1), axis=1)), (sum(crd_B*m_B.reshape(100,-1), axis=1)))'''\n",
    "def centro_massa(crd_A, m_A):\n",
    "    centro=(np.sum(crd_A*m_A.reshape(m_A.shape[0],-1), axis=0)/np.sum(m_A))\n",
    "    return centro\n",
    "def distanza(C, D):\n",
    "    dis=np.sqrt(np.sum((C-D)**2))\n",
    "    return dis"
   ]
  },
  {
   "cell_type": "markdown",
   "id": "4cf21b56-05e0-4f6c-9d71-efa6ee605eec",
   "metadata": {},
   "source": [
    "Testare la funzione usando i dati generati dal codice sottostante"
   ]
  },
  {
   "cell_type": "code",
   "execution_count": 123,
   "id": "d681aeb1-f66a-4857-87fe-bce1f339fe0b",
   "metadata": {},
   "outputs": [],
   "source": [
    "N = 100\n",
    "M = 200\n",
    "crd_A = np.random.normal(loc = -0.5, scale = 1.0, size = (N, 3))\n",
    "m_A = np.random.uniform(1, 10, size = (N,))\n",
    "crd_B = np.random.normal(loc = 0.5, scale = 1.0, size = (M, 3))\n",
    "m_B = np.random.uniform(1, 10, size = (M,))"
   ]
  },
  {
   "cell_type": "code",
   "execution_count": 124,
   "id": "095ad4a0-b144-44e9-a776-cad7c9a4ca81",
   "metadata": {},
   "outputs": [
    {
     "name": "stdout",
     "output_type": "stream",
     "text": [
      "[-0.64206566 -0.49231504 -0.28968491]\n",
      "[-0.64206566 -0.49231504 -0.28968491] [0.51885403 0.56180949 0.37064713]\n",
      "1.7014556895131412\n"
     ]
    }
   ],
   "source": [
    "#print(centri_massa(crd_A, m_A, crd_B, m_B))\n",
    "print(centro_massa(crd_A, m_A))\n",
    "centro_1=centro_massa(crd_A, m_A)\n",
    "centro_2=centro_massa(crd_B, m_B)\n",
    "print(centro_1, centro_2)\n",
    "\n",
    "print(distanza(centro_massa(crd_A, m_A), centro_massa(crd_B, m_B)))"
   ]
  },
  {
   "cell_type": "markdown",
   "id": "400d3266-b7bf-4713-a7ba-7b0cafb67e98",
   "metadata": {},
   "source": [
    "Scrivere una funzione che prende in ingresso:\n",
    "* una matrice NxM contenente le coordinate di N punti in uno spazio ad M dimensioni\n",
    "* un vettore contenente le coordinate di un punto A in uno spazio ad M dimensioni\n",
    "* un vettore contenente le coordinate di un punto B in uno spazio ad M dimensioni\n",
    "\n",
    "e restituisce un vettore di N booleani il cui elemento i e' uguale a True se il punto i-esimo della matrice di input e' piu' vicino al punto A che al punto B, False viceversa."
   ]
  },
  {
   "cell_type": "code",
   "execution_count": 125,
   "id": "6aa11a0d-9f7c-4f60-9706-f6776df6ca8f",
   "metadata": {},
   "outputs": [],
   "source": [
    "def vicino (A, crd_A, crd_B):\n",
    "    delta=A-crd_A.reshape(1,-1)\n",
    "    dist_A=(np.sum(delta**2, axis=1)**0.5)\n",
    "    delta=A-crd_B.reshape(1,-1)\n",
    "    dist_b=(np.sum(delta**2, axis=1)**0.5)\n",
    "    return dist_A>dist_b"
   ]
  },
  {
   "cell_type": "markdown",
   "id": "4c786c25-5916-41d2-a897-bcdd09017b2c",
   "metadata": {},
   "source": [
    "Applicare la funzione per calcolare quanti punti della proteina A dell'esercizio sono piu' vicini al centro di massa della proteina B che al centro di massa della proteina A"
   ]
  },
  {
   "cell_type": "code",
   "execution_count": 126,
   "id": "3a7f67e7-8fce-401b-bf76-ef1dde185f54",
   "metadata": {},
   "outputs": [
    {
     "name": "stdout",
     "output_type": "stream",
     "text": [
      "83\n"
     ]
    }
   ],
   "source": [
    "flag=(vicino(crd_A, centro_2, centro_1))\n",
    "print(np.sum(flag))"
   ]
  },
  {
   "cell_type": "markdown",
   "id": "a912f1e5-b501-482a-951c-d9d8238d7d08",
   "metadata": {},
   "source": [
    "Scrivere una funzione che prende in ingresso due matrici 2xN, contenenti le coordinate di una serie di N punti in uno spazio bidimensionale in due diversi istanti di tempo successivi. La funzione deve restituire l'indice del punto che ha subito il maggiore spostamento lungo l'asse x tra i due istanti temporali. [Suggerimento: utilizzare la funzione np.argsort]\n",
    "\n",
    "Applicare la funzione alle matrici X e Y definite nel codice sottostante. Fare un grafico dei punti che utilizza due simboli diversi per i due istanti temporali, ed un colore diverso per il punto selezionato dalla funzione. Non sono consentiti cicli."
   ]
  },
  {
   "cell_type": "code",
   "execution_count": 127,
   "id": "0a167597-9d15-451a-85ba-2800a8c4a2d5",
   "metadata": {},
   "outputs": [],
   "source": [
    "N = 100\n",
    "X = np.random.normal(size = (2, N))\n",
    "Y = np.random.normal(size = (2, N))"
   ]
  },
  {
   "cell_type": "code",
   "execution_count": null,
   "id": "6f0369dc-cebf-4ae6-93d3-39250e4919c2",
   "metadata": {},
   "outputs": [],
   "source": [
    "def spostamento(X,Y):\n",
    "    tempo_1_max=np.argsort(M[-1,0])\n",
    "    tempo_2_max"
   ]
  },
  {
   "cell_type": "markdown",
   "id": "1c047f81-19a4-4794-8b60-fc4f3cfae1f8",
   "metadata": {},
   "source": [
    "La matrice A definita nel codice sottostante contiene le coordinate di un insiemi di punti organizzati per colonne (la prima colonna di A corrispondende alle coordinate x,y,z di un punto, e cosi via). Scrivere una funzione che prende in ingresso una matrice di punti con la struttura definita per la matrice A e restituisce 3 valori rispettivamente uguali allo spostamento totale lungo gli assi x, y, e z. Per spostamento totale si intende la somma degli spostamenti tra due punti consecutivi.\n",
    "\n",
    "Esempio. Se la matrice di input e' uguale a:\n",
    "\n",
    "0 1 2\n",
    "\n",
    "5 2 4\n",
    "\n",
    "1 7 2\n",
    "\n",
    "Il risultato della funzione deve essere: 1+1 (spostamento da 0 a 1 + spostamento da 1 a 2), 3+2 (spostamento da 5 a 2 + spostamento da 2 a 4), 6+5 (spostamento da 1 a 7 + spostamento da 7 a 2)\n",
    "\n",
    "Applicare la funzione alla matrice A e mostrare a monitor il risultato."
   ]
  },
  {
   "cell_type": "code",
   "execution_count": 128,
   "id": "14774a31-c72f-4cfe-921b-0cde871380ee",
   "metadata": {},
   "outputs": [
    {
     "ename": "SyntaxError",
     "evalue": "incomplete input (4157789926.py, line 2)",
     "output_type": "error",
     "traceback": [
      "  \u001b[36mCell\u001b[39m\u001b[36m \u001b[39m\u001b[32mIn[128]\u001b[39m\u001b[32m, line 2\u001b[39m\n\u001b[31m    \u001b[39m\u001b[31mA = np.random.normal(size = (3, N)\u001b[39m\n                                      ^\n\u001b[31mSyntaxError\u001b[39m\u001b[31m:\u001b[39m incomplete input\n"
     ]
    }
   ],
   "source": [
    "N = 1000\n",
    "A = np.random.normal(size = (3, N)"
   ]
  },
  {
   "cell_type": "code",
   "execution_count": null,
   "id": "12d0612b-43fc-48d8-9dde-a4841995b279",
   "metadata": {},
   "outputs": [],
   "source": []
  }
 ],
 "metadata": {
  "kernelspec": {
   "display_name": "Python 3",
   "language": "python",
   "name": "python3"
  },
  "language_info": {
   "codemirror_mode": {
    "name": "ipython",
    "version": 3
   },
   "file_extension": ".py",
   "mimetype": "text/x-python",
   "name": "python",
   "nbconvert_exporter": "python",
   "pygments_lexer": "ipython3",
   "version": "3.11.9"
  }
 },
 "nbformat": 4,
 "nbformat_minor": 5
}
