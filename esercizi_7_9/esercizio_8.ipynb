{
 "cells": [
  {
   "cell_type": "code",
   "execution_count": 647,
   "id": "ef22325b-de00-43dc-9ca6-cd7ea1f8a05d",
   "metadata": {},
   "outputs": [],
   "source": [
    "import numpy as np"
   ]
  },
  {
   "cell_type": "markdown",
   "id": "eeafa2f2-17f4-4d96-9a9c-ec4610f6a9d7",
   "metadata": {},
   "source": [
    "Scrivere una funzione che riceve in ingresso:\n",
    "* una matrice Nx3 contenene le coordinate di una serie di carica puntiformi (X)\n",
    "* un vettore di N elementi contenente le rispettive cariche elettriche (Q)\n",
    "* un vettore di 3 elementi contenente le coordinate di un punto (x)\n",
    "\n",
    "e resituisce il potenziale elettrostatico nel punto x"
   ]
  },
  {
   "cell_type": "code",
   "execution_count": 648,
   "id": "1ab847a1-8f31-4ef2-a835-b8278716f375",
   "metadata": {},
   "outputs": [],
   "source": [
    "def distanza(A, y):\n",
    "    dis=(np.sqrt(np.sum((A-y)**2, axis=1)))#ricordati sempre di specificare l'asse nella somma quando si tratta di coordinate, devi sommare x con x\n",
    "    return dis\n",
    "def potenziale(A, x, y):\n",
    "    pot=(1/(4*np.pi*(8.854*10**-12)))*np.sum(x/distanza(A,y))\n",
    "    return pot"
   ]
  },
  {
   "cell_type": "markdown",
   "id": "1059cb43-c92d-4d71-8493-a0fc4ea6eb5b",
   "metadata": {},
   "source": [
    "Testare la funzione usando i valori di input definiti dal codice sottostante per calcolare il potenziale nell'origine"
   ]
  },
  {
   "cell_type": "code",
   "execution_count": 649,
   "id": "7ea067c1-5c3b-4f08-850d-fb653472917c",
   "metadata": {},
   "outputs": [],
   "source": [
    "N = 100\n",
    "X = np.random.uniform(-10, 10, size = (N, 3))\n",
    "Q = np.random.normal(loc = 0, scale = 1, size = (N,))"
   ]
  },
  {
   "cell_type": "code",
   "execution_count": 650,
   "id": "c4e43992-73c2-4e5d-8df0-6bfe4c9ddb04",
   "metadata": {},
   "outputs": [
    {
     "name": "stdout",
     "output_type": "stream",
     "text": [
      "[ 6.49921103 11.7658457   3.83215322 14.07828796  3.64987756  9.67403378\n",
      "  8.34921698  8.51271539  6.5723783   9.98514379  6.49974285 10.00803148\n",
      " 11.07026276 13.26299894 11.38197586 10.55063258 12.65798672  9.49500264\n",
      "  9.87215191  8.11526721 11.96402768 13.60974934 11.10731732  8.33575643\n",
      "  6.93035959 10.02850313  9.87952614  6.16130397  8.56553782 15.10708965\n",
      "  7.35327939 10.30936857  6.36940647 14.73901766  5.92107484  9.68185569\n",
      "  8.68703272 10.58636869 10.07901328 10.65024738  8.01259983  7.06482992\n",
      "  5.98952019 11.85235893 10.22728661  8.84481026 12.55032774 13.60527071\n",
      " 10.15175939 11.96581675  9.86847736 12.40569565 10.4027501  10.57550139\n",
      " 11.49228416 12.24735694 12.01038863  8.33796872  4.31579194  7.31300951\n",
      " 11.16222696  7.49695639  6.19097197 11.5512919   5.7682418  10.04990715\n",
      "  5.58680471  6.44071746 10.48155008 13.09878304 13.81119128  7.96556688\n",
      " 10.50949045 12.73198786  8.77345355  8.3898361   8.54692334 11.02214841\n",
      "  8.90644859  8.72242692  9.09846939  4.53784142 10.52167951  7.91632632\n",
      " 14.70494724 10.16762035 11.14710371 11.35035136  5.70318824  7.67225112\n",
      " 12.28772732  9.67212918 10.46775768  5.57844178 14.21249404  7.73350538\n",
      "  8.9110117   5.82136807  7.73207845  8.61122006]\n",
      "100\n",
      "11405737206.634249\n"
     ]
    }
   ],
   "source": [
    "print(distanza(X,np.array([0,0,0])))\n",
    "a=(distanza(X,np.array([0,0,0])))\n",
    "print(a.size)\n",
    "print(potenziale(X,Q,np.array([0,0,0])))"
   ]
  },
  {
   "cell_type": "markdown",
   "id": "835618de-e398-4c11-957c-c82fcb84aed0",
   "metadata": {},
   "source": [
    "Scrivere una funzione che riceve in ingresso:\n",
    "\n",
    "* una matrice Nx3 contenente le coordinate atomiche di una proteina A (crd_A)\n",
    "* una matrice Mx3 contenente le coordinate atomiche di una proteina B (crd_B)\n",
    "\n",
    "e restituisce la distanza tra i centri geometrici delle due molecole"
   ]
  },
  {
   "cell_type": "code",
   "execution_count": 651,
   "id": "dba9b1f5-be7d-418e-a6b8-9f7dd366d7c4",
   "metadata": {},
   "outputs": [],
   "source": [
    "def centro_geometrico(C):\n",
    "    centre=np.sum(C, axis=0)\n",
    "    centre=centre/C.shape[0]\n",
    "    return centre\n",
    "\n",
    "def distanza(A, B):\n",
    "    dis=np.sqrt(np.sum((A-B)**2))\n",
    "    return dis"
   ]
  },
  {
   "cell_type": "markdown",
   "id": "47dd4e49-e51b-48e3-a623-b8e61085c929",
   "metadata": {},
   "source": [
    "Testare la funzione usando i dati generati dal codice sottostante"
   ]
  },
  {
   "cell_type": "code",
   "execution_count": 652,
   "id": "5d390c47-c023-46ce-ba66-2a5aaf41fb18",
   "metadata": {},
   "outputs": [],
   "source": [
    "import numpy as np\n",
    "N = 10\n",
    "M = 20\n",
    "crd_A = np.random.normal(loc = -0.5, scale = 1.0, size = (N, 3))\n",
    "crd_B = np.random.normal(loc = 0.5, scale = 1.0, size = (M, 3))"
   ]
  },
  {
   "cell_type": "code",
   "execution_count": 653,
   "id": "6a4b7bfc-7cd0-4e58-bb42-d080ade15b4f",
   "metadata": {},
   "outputs": [
    {
     "name": "stdout",
     "output_type": "stream",
     "text": [
      "[[-0.464441   -0.32995256 -0.55938682]\n",
      " [-0.66657495 -0.81156212 -0.15642075]\n",
      " [-0.07828289 -1.48868767 -0.72170186]\n",
      " [-0.12519198  0.72475178 -0.87589074]\n",
      " [-1.85194816 -1.17177657  0.4246719 ]\n",
      " [ 0.18671267 -1.04513594  0.30074169]\n",
      " [ 1.40707112 -1.73852338  1.0288108 ]\n",
      " [ 0.85721377 -1.78890868 -0.84716216]\n",
      " [ 0.30127556 -1.4756834  -1.26242296]\n",
      " [-1.50365632 -0.26190214  0.14480542]]\n",
      "il centro geometrico ha come coordinate:  [-0.19378222 -0.93873807 -0.25239555]\n",
      "la distanza tra i centri geometrici vale: 1.7530232030359043\n"
     ]
    }
   ],
   "source": [
    "print (crd_A)\n",
    "print (\"il centro geometrico ha come coordinate: \",centro_geometrico(crd_A))\n",
    "print(\"la distanza tra i centri geometrici vale:\", distanza(centro_geometrico(crd_A), centro_geometrico(crd_B)))"
   ]
  },
  {
   "cell_type": "markdown",
   "id": "19f9f897-3770-4beb-a57a-0903f949f640",
   "metadata": {},
   "source": [
    "Scrivere una funzione che prende in ingresso:\n",
    "\n",
    "* una matrice Nx3 contenente le coordinate atomiche di una proteina A (crd_A)\n",
    "* un vettore di N elementi contenente le masse degli atomi della proteina A (m_A)\n",
    "* una matrice Mx3 contenente le coordinate atomiche di una proteina B (crd_B)\n",
    "* un vettore di M elementi contenente le masse degli atomi della proteina A (m_A)\n",
    "\n",
    "e restituisce la distanza tra i centri di massa delle due molecole"
   ]
  },
  {
   "cell_type": "code",
   "execution_count": 654,
   "id": "5aaeca2a-dbeb-4395-9963-05b8553fc4dd",
   "metadata": {},
   "outputs": [],
   "source": [
    "'''def centri_massa(crd_A, m_A, crd_B, m_B):\n",
    "    distanza((sum(crd_A*m_A.reshape(100,-1), axis=1)), (sum(crd_B*m_B.reshape(100,-1), axis=1)))'''\n",
    "def centro_massa(crd_A, m_A):\n",
    "    centro=(np.sum(crd_A*m_A.reshape(m_A.shape[0],-1), axis=0)/np.sum(m_A))\n",
    "    return centro\n",
    "def distanza(C, D):\n",
    "    dis=np.sqrt(np.sum((C-D)**2))\n",
    "    return dis"
   ]
  },
  {
   "cell_type": "markdown",
   "id": "4cf21b56-05e0-4f6c-9d71-efa6ee605eec",
   "metadata": {},
   "source": [
    "Testare la funzione usando i dati generati dal codice sottostante"
   ]
  },
  {
   "cell_type": "code",
   "execution_count": 655,
   "id": "d681aeb1-f66a-4857-87fe-bce1f339fe0b",
   "metadata": {},
   "outputs": [],
   "source": [
    "N = 100\n",
    "M = 200\n",
    "crd_A = np.random.normal(loc = -0.5, scale = 1.0, size = (N, 3))\n",
    "m_A = np.random.uniform(1, 10, size = (N,))\n",
    "crd_B = np.random.normal(loc = 0.5, scale = 1.0, size = (M, 3))\n",
    "m_B = np.random.uniform(1, 10, size = (M,))"
   ]
  },
  {
   "cell_type": "code",
   "execution_count": 656,
   "id": "095ad4a0-b144-44e9-a776-cad7c9a4ca81",
   "metadata": {},
   "outputs": [
    {
     "name": "stdout",
     "output_type": "stream",
     "text": [
      "[-0.37035083 -0.57991553 -0.65120505]\n",
      "[-0.37035083 -0.57991553 -0.65120505] [0.38258857 0.54761615 0.48772881]\n",
      "1.7707105216270482\n"
     ]
    }
   ],
   "source": [
    "#print(centri_massa(crd_A, m_A, crd_B, m_B))\n",
    "print(centro_massa(crd_A, m_A))\n",
    "centro_1=centro_massa(crd_A, m_A)\n",
    "centro_2=centro_massa(crd_B, m_B)\n",
    "print(centro_1, centro_2)\n",
    "\n",
    "print(distanza(centro_massa(crd_A, m_A), centro_massa(crd_B, m_B)))"
   ]
  },
  {
   "cell_type": "markdown",
   "id": "400d3266-b7bf-4713-a7ba-7b0cafb67e98",
   "metadata": {},
   "source": [
    "Scrivere una funzione che prende in ingresso:\n",
    "* una matrice NxM contenente le coordinate di N punti in uno spazio ad M dimensioni\n",
    "* un vettore contenente le coordinate di un punto A in uno spazio ad M dimensioni\n",
    "* un vettore contenente le coordinate di un punto B in uno spazio ad M dimensioni\n",
    "\n",
    "e restituisce un vettore di N booleani il cui elemento i e' uguale a True se il punto i-esimo della matrice di input e' piu' vicino al punto A che al punto B, False viceversa."
   ]
  },
  {
   "cell_type": "code",
   "execution_count": null,
   "id": "6aa11a0d-9f7c-4f60-9706-f6776df6ca8f",
   "metadata": {},
   "outputs": [],
   "source": []
  },
  {
   "cell_type": "markdown",
   "id": "4c786c25-5916-41d2-a897-bcdd09017b2c",
   "metadata": {},
   "source": [
    "Applicare la funzione per calcolare quanti punti della proteina A dell'esercizio sono piu' vicini al centro di massa della proteina B che al centro di massa della proteina A"
   ]
  },
  {
   "cell_type": "code",
   "execution_count": null,
   "id": "3a7f67e7-8fce-401b-bf76-ef1dde185f54",
   "metadata": {},
   "outputs": [],
   "source": []
  },
  {
   "cell_type": "markdown",
   "id": "a912f1e5-b501-482a-951c-d9d8238d7d08",
   "metadata": {},
   "source": [
    "Scrivere una funzione che prende in ingresso due matrici 2xN, contenenti le coordinate di una serie di N punti in uno spazio bidimensionale in due diversi istanti di tempo successivi. La funzione deve restituire l'indice del punto che ha subito il maggiore spostamento lungo l'asse x tra i due istanti temporali. [Suggerimento: utilizzare la funzione np.argsort]\n",
    "\n",
    "Applicare la funzione alle matrici X e Y definite nel codice sottostante. Fare un grafico dei punti che utilizza due simboli diversi per i due istanti temporali, ed un colore diverso per il punto selezionato dalla funzione. Non sono consentiti cicli."
   ]
  },
  {
   "cell_type": "code",
   "execution_count": 657,
   "id": "0a167597-9d15-451a-85ba-2800a8c4a2d5",
   "metadata": {},
   "outputs": [],
   "source": [
    "N = 100\n",
    "X = np.random.normal(size = (2, N))\n",
    "Y = np.random.normal(size = (2, N))"
   ]
  },
  {
   "cell_type": "code",
   "execution_count": null,
   "id": "6f0369dc-cebf-4ae6-93d3-39250e4919c2",
   "metadata": {},
   "outputs": [],
   "source": []
  },
  {
   "cell_type": "markdown",
   "id": "1c047f81-19a4-4794-8b60-fc4f3cfae1f8",
   "metadata": {},
   "source": [
    "La matrice A definita nel codice sottostante contiene le coordinate di un insiemi di punti organizzati per colonne (la prima colonna di A corrispondende alle coordinate x,y,z di un punto, e cosi via). Scrivere una funzione che prende in ingresso una matrice di punti con la struttura definita per la matrice A e restituisce 3 valori rispettivamente uguali allo spostamento totale lungo gli assi x, y, e z. Per spostamento totale si intende la somma degli spostamenti tra due punti consecutivi.\n",
    "\n",
    "Esempio. Se la matrice di input e' uguale a:\n",
    "\n",
    "0 1 2\n",
    "\n",
    "5 2 4\n",
    "\n",
    "1 7 2\n",
    "\n",
    "Il risultato della funzione deve essere: 1+1 (spostamento da 0 a 1 + spostamento da 1 a 2), 3+2 (spostamento da 5 a 2 + spostamento da 2 a 4), 6+5 (spostamento da 1 a 7 + spostamento da 7 a 2)\n",
    "\n",
    "Applicare la funzione alla matrice A e mostrare a monitor il risultato."
   ]
  },
  {
   "cell_type": "code",
   "execution_count": 658,
   "id": "14774a31-c72f-4cfe-921b-0cde871380ee",
   "metadata": {},
   "outputs": [
    {
     "ename": "SyntaxError",
     "evalue": "incomplete input (4157789926.py, line 2)",
     "output_type": "error",
     "traceback": [
      "\u001b[0;36m  Cell \u001b[0;32mIn[658], line 2\u001b[0;36m\u001b[0m\n\u001b[0;31m    A = np.random.normal(size = (3, N)\u001b[0m\n\u001b[0m                                      ^\u001b[0m\n\u001b[0;31mSyntaxError\u001b[0m\u001b[0;31m:\u001b[0m incomplete input\n"
     ]
    }
   ],
   "source": [
    "N = 1000\n",
    "A = np.random.normal(size = (3, N)"
   ]
  },
  {
   "cell_type": "code",
   "execution_count": null,
   "id": "12d0612b-43fc-48d8-9dde-a4841995b279",
   "metadata": {},
   "outputs": [],
   "source": []
  }
 ],
 "metadata": {
  "kernelspec": {
   "display_name": "base",
   "language": "python",
   "name": "python3"
  },
  "language_info": {
   "codemirror_mode": {
    "name": "ipython",
    "version": 3
   },
   "file_extension": ".py",
   "mimetype": "text/x-python",
   "name": "python",
   "nbconvert_exporter": "python",
   "pygments_lexer": "ipython3",
   "version": "3.12.7"
  }
 },
 "nbformat": 4,
 "nbformat_minor": 5
}
