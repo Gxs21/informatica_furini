{
 "cells": [
  {
   "cell_type": "code",
   "execution_count": 95,
   "id": "ef22325b-de00-43dc-9ca6-cd7ea1f8a05d",
   "metadata": {},
   "outputs": [],
   "source": [
    "import numpy as np"
   ]
  },
  {
   "cell_type": "markdown",
   "id": "eeafa2f2-17f4-4d96-9a9c-ec4610f6a9d7",
   "metadata": {},
   "source": [
    "Scrivere una funzione che riceve in ingresso:\n",
    "* una matrice Nx3 contenene le coordinate di una serie di carica puntiformi (X)\n",
    "* un vettore di N elementi contenente le rispettive cariche elettriche (Q)\n",
    "* un vettore di 3 elementi contenente le coordinate di un punto (x)\n",
    "\n",
    "e resituisce il potenziale elettrostatico nel punto x"
   ]
  },
  {
   "cell_type": "code",
   "execution_count": 96,
   "id": "1ab847a1-8f31-4ef2-a835-b8278716f375",
   "metadata": {},
   "outputs": [],
   "source": [
    "def distanza(A, y):\n",
    "    dis=(np.sqrt(np.sum((A-y)**2, axis=1)))#ricordati sempre di specificare l'asse nella somma quando si tratta di coordinate, devi sommare x con x\n",
    "    return dis\n",
    "def potenziale(A, x, y):\n",
    "    pot=(1/(4*np.pi*(8.854*10**-12)))*np.sum(x/distanza(A,y))\n",
    "    return pot"
   ]
  },
  {
   "cell_type": "markdown",
   "id": "1059cb43-c92d-4d71-8493-a0fc4ea6eb5b",
   "metadata": {},
   "source": [
    "Testare la funzione usando i valori di input definiti dal codice sottostante per calcolare il potenziale nell'origine"
   ]
  },
  {
   "cell_type": "code",
   "execution_count": 97,
   "id": "7ea067c1-5c3b-4f08-850d-fb653472917c",
   "metadata": {},
   "outputs": [],
   "source": [
    "N = 100\n",
    "X = np.random.uniform(-10, 10, size = (N, 3))\n",
    "Q = np.random.normal(loc = 0, scale = 1, size = (N,))"
   ]
  },
  {
   "cell_type": "code",
   "execution_count": 98,
   "id": "c4e43992-73c2-4e5d-8df0-6bfe4c9ddb04",
   "metadata": {},
   "outputs": [
    {
     "name": "stdout",
     "output_type": "stream",
     "text": [
      "[10.77515845 15.65010737  6.31185193  9.29615379 10.1437235   9.02816599\n",
      " 10.65647109  9.39899596 13.56841398 11.45257016  3.97155407  3.66741765\n",
      " 10.10529825  8.54522479  5.98669764 10.57887982 12.38338758 14.14768967\n",
      " 11.14513066 12.43214097 13.64837307  8.98507197  8.18318868  9.85995166\n",
      "  5.50172719  8.76676    10.15780931  9.30682879  5.56573754 12.60172829\n",
      " 12.6267115   7.7681148  12.05797364  7.14874642  9.79619766  7.18288541\n",
      " 15.78708455 12.57144819  4.99108482 13.18109919 13.54451075  9.28281024\n",
      "  7.65935389 15.16287644 13.58042781 12.0397577   2.76078508  7.31628143\n",
      "  9.5239761   8.84757801 12.64209268  4.40823654 10.37638379  8.19662541\n",
      " 12.0686385  10.43331976 12.86141151 10.03836015  7.80134354 14.06796964\n",
      " 12.03988391  8.71110191 10.16135468  5.27947334 11.25503796  9.5654782\n",
      "  6.98965458 10.57756955  6.25837426  6.49798415 10.25938609  8.15022086\n",
      " 10.78106285 13.40012065 12.44483564  6.90582831  5.81199262  9.70435381\n",
      "  5.19929509  9.06774041  9.35601965 15.33816721  4.90797711 10.62449658\n",
      " 10.03871202 10.27691741 10.29019672 15.38008426  9.74573778  8.65339435\n",
      "  7.18489163  7.00035708  8.4554457  10.33476431  5.75223766  8.79643184\n",
      " 10.04061444 11.20717432 12.87640315 10.82758317]\n",
      "100\n",
      "26933677487.795425\n"
     ]
    }
   ],
   "source": [
    "print(distanza(X,np.array([0,0,0])))\n",
    "a=(distanza(X,np.array([0,0,0])))\n",
    "print(a.size)\n",
    "print(potenziale(X,Q,np.array([0,0,0])))"
   ]
  },
  {
   "cell_type": "markdown",
   "id": "835618de-e398-4c11-957c-c82fcb84aed0",
   "metadata": {},
   "source": [
    "Scrivere una funzione che riceve in ingresso:\n",
    "\n",
    "* una matrice Nx3 contenente le coordinate atomiche di una proteina A (crd_A)\n",
    "* una matrice Mx3 contenente le coordinate atomiche di una proteina B (crd_B)\n",
    "\n",
    "e restituisce la distanza tra i centri geometrici delle due molecole"
   ]
  },
  {
   "cell_type": "code",
   "execution_count": 99,
   "id": "dba9b1f5-be7d-418e-a6b8-9f7dd366d7c4",
   "metadata": {},
   "outputs": [],
   "source": [
    "def centro_geometrico(C):\n",
    "    centre=np.sum(C, axis=0)\n",
    "    centre=centre/C.shape[0]\n",
    "    return centre\n",
    "\n",
    "def distanza(A, B):\n",
    "    dis=np.sqrt(np.sum((A-B)**2))\n",
    "    return dis"
   ]
  },
  {
   "cell_type": "markdown",
   "id": "47dd4e49-e51b-48e3-a623-b8e61085c929",
   "metadata": {},
   "source": [
    "Testare la funzione usando i dati generati dal codice sottostante"
   ]
  },
  {
   "cell_type": "code",
   "execution_count": 100,
   "id": "5d390c47-c023-46ce-ba66-2a5aaf41fb18",
   "metadata": {},
   "outputs": [],
   "source": [
    "import numpy as np\n",
    "N = 10\n",
    "M = 20\n",
    "crd_A = np.random.normal(loc = -0.5, scale = 1.0, size = (N, 3))\n",
    "crd_B = np.random.normal(loc = 0.5, scale = 1.0, size = (M, 3))"
   ]
  },
  {
   "cell_type": "code",
   "execution_count": 101,
   "id": "6a4b7bfc-7cd0-4e58-bb42-d080ade15b4f",
   "metadata": {},
   "outputs": [
    {
     "name": "stdout",
     "output_type": "stream",
     "text": [
      "[[ 1.11006694 -2.96049373 -1.11235924]\n",
      " [ 0.26305568 -0.24623844 -0.65219967]\n",
      " [-1.48094794 -0.44050847 -1.63223213]\n",
      " [-1.11806392 -0.84708257 -1.03639272]\n",
      " [-0.84780166 -0.05480213  0.54781018]\n",
      " [-1.06903905 -0.28549276 -1.39106385]\n",
      " [-0.40690667 -0.13373528 -0.6349997 ]\n",
      " [-0.69986883 -0.37174469 -0.25344026]\n",
      " [-2.37761119 -2.39165387 -1.49190864]\n",
      " [-1.11838202  0.05842002  1.0873833 ]]\n",
      "il centro geometrico ha come coordinate:  [-0.77454987 -0.76733319 -0.65694028]\n",
      "la distanza tra i centri geometrici vale: 2.046521927090696\n"
     ]
    }
   ],
   "source": [
    "print (crd_A)\n",
    "print (\"il centro geometrico ha come coordinate: \",centro_geometrico(crd_A))\n",
    "print(\"la distanza tra i centri geometrici vale:\", distanza(centro_geometrico(crd_A), centro_geometrico(crd_B)))"
   ]
  },
  {
   "cell_type": "markdown",
   "id": "19f9f897-3770-4beb-a57a-0903f949f640",
   "metadata": {},
   "source": [
    "Scrivere una funzione che prende in ingresso:\n",
    "\n",
    "* una matrice Nx3 contenente le coordinate atomiche di una proteina A (crd_A)\n",
    "* un vettore di N elementi contenente le masse degli atomi della proteina A (m_A)\n",
    "* una matrice Mx3 contenente le coordinate atomiche di una proteina B (crd_B)\n",
    "* un vettore di M elementi contenente le masse degli atomi della proteina A (m_A)\n",
    "\n",
    "e restituisce la distanza tra i centri di massa delle due molecole"
   ]
  },
  {
   "cell_type": "code",
   "execution_count": 102,
   "id": "5aaeca2a-dbeb-4395-9963-05b8553fc4dd",
   "metadata": {},
   "outputs": [],
   "source": [
    "'''def centri_massa(crd_A, m_A, crd_B, m_B):\n",
    "    distanza((sum(crd_A*m_A.reshape(100,-1), axis=1)), (sum(crd_B*m_B.reshape(100,-1), axis=1)))'''\n",
    "def centro_massa(crd_A, m_A):\n",
    "    centro=(np.sum(crd_A*m_A.reshape(m_A.shape[0],-1), axis=0)/np.sum(m_A))\n",
    "    return centro\n",
    "def distanza(C, D):\n",
    "    dis=np.sqrt(np.sum((C-D)**2))\n",
    "    return dis"
   ]
  },
  {
   "cell_type": "markdown",
   "id": "4cf21b56-05e0-4f6c-9d71-efa6ee605eec",
   "metadata": {},
   "source": [
    "Testare la funzione usando i dati generati dal codice sottostante"
   ]
  },
  {
   "cell_type": "code",
   "execution_count": 103,
   "id": "d681aeb1-f66a-4857-87fe-bce1f339fe0b",
   "metadata": {},
   "outputs": [],
   "source": [
    "N = 100\n",
    "M = 200\n",
    "crd_A = np.random.normal(loc = -0.5, scale = 1.0, size = (N, 3))\n",
    "m_A = np.random.uniform(1, 10, size = (N,))\n",
    "crd_B = np.random.normal(loc = 0.5, scale = 1.0, size = (M, 3))\n",
    "m_B = np.random.uniform(1, 10, size = (M,))"
   ]
  },
  {
   "cell_type": "code",
   "execution_count": 104,
   "id": "095ad4a0-b144-44e9-a776-cad7c9a4ca81",
   "metadata": {},
   "outputs": [
    {
     "name": "stdout",
     "output_type": "stream",
     "text": [
      "[-0.39555656 -0.34976653 -0.6567969 ]\n",
      "[-0.39555656 -0.34976653 -0.6567969 ] [0.48564716 0.54682181 0.56246157]\n",
      "1.7512800667586657\n"
     ]
    }
   ],
   "source": [
    "#print(centri_massa(crd_A, m_A, crd_B, m_B))\n",
    "print(centro_massa(crd_A, m_A))\n",
    "centro_1=centro_massa(crd_A, m_A)\n",
    "centro_2=centro_massa(crd_B, m_B)\n",
    "print(centro_1, centro_2)\n",
    "\n",
    "print(distanza(centro_massa(crd_A, m_A), centro_massa(crd_B, m_B)))"
   ]
  },
  {
   "cell_type": "markdown",
   "id": "400d3266-b7bf-4713-a7ba-7b0cafb67e98",
   "metadata": {},
   "source": [
    "Scrivere una funzione che prende in ingresso:\n",
    "* una matrice NxM contenente le coordinate di N punti in uno spazio ad M dimensioni\n",
    "* un vettore contenente le coordinate di un punto A in uno spazio ad M dimensioni\n",
    "* un vettore contenente le coordinate di un punto B in uno spazio ad M dimensioni\n",
    "\n",
    "e restituisce un vettore di N booleani il cui elemento i e' uguale a True se il punto i-esimo della matrice di input e' piu' vicino al punto A che al punto B, False viceversa."
   ]
  },
  {
   "cell_type": "code",
   "execution_count": 105,
   "id": "6aa11a0d-9f7c-4f60-9706-f6776df6ca8f",
   "metadata": {},
   "outputs": [],
   "source": [
    "def vicino (A, crd_A, crd_B):\n",
    "    delta=A-crd_A.reshape(1,-1)\n",
    "    dist_A=(np.sum(delta**2, axis=1)**0.5)\n",
    "    delta=A-crd_B.reshape(1,-1)\n",
    "    dist_b=(np.sum(delta**2, axis=1)**0.5)\n",
    "    return dist_A>dist_b"
   ]
  },
  {
   "cell_type": "markdown",
   "id": "4c786c25-5916-41d2-a897-bcdd09017b2c",
   "metadata": {},
   "source": [
    "Applicare la funzione per calcolare quanti punti della proteina A dell'esercizio sono piu' vicini al centro di massa della proteina B che al centro di massa della proteina A"
   ]
  },
  {
   "cell_type": "code",
   "execution_count": 106,
   "id": "3a7f67e7-8fce-401b-bf76-ef1dde185f54",
   "metadata": {},
   "outputs": [
    {
     "name": "stdout",
     "output_type": "stream",
     "text": [
      "82\n"
     ]
    }
   ],
   "source": [
    "flag=(vicino(crd_A, centro_2, centro_1))\n",
    "print(np.sum(flag))"
   ]
  },
  {
   "cell_type": "markdown",
   "id": "a912f1e5-b501-482a-951c-d9d8238d7d08",
   "metadata": {},
   "source": [
    "Scrivere una funzione che prende in ingresso due matrici 2xN, contenenti le coordinate di una serie di N punti in uno spazio bidimensionale in due diversi istanti di tempo successivi. La funzione deve restituire l'indice del punto che ha subito il maggiore spostamento lungo l'asse x tra i due istanti temporali. [Suggerimento: utilizzare la funzione np.argsort]\n",
    "\n",
    "Applicare la funzione alle matrici X e Y definite nel codice sottostante. Fare un grafico dei punti che utilizza due simboli diversi per i due istanti temporali, ed un colore diverso per il punto selezionato dalla funzione. Non sono consentiti cicli."
   ]
  },
  {
   "cell_type": "code",
   "execution_count": 107,
   "id": "0a167597-9d15-451a-85ba-2800a8c4a2d5",
   "metadata": {},
   "outputs": [],
   "source": [
    "N = 100\n",
    "X = np.random.normal(size = (2, N))\n",
    "Y = np.random.normal(size = (2, N))"
   ]
  },
  {
   "cell_type": "code",
   "execution_count": 108,
   "id": "6f0369dc-cebf-4ae6-93d3-39250e4919c2",
   "metadata": {},
   "outputs": [
    {
     "name": "stdout",
     "output_type": "stream",
     "text": [
      "14\n"
     ]
    }
   ],
   "source": [
    "def spostamento(X,Y):\n",
    "    delta=np.abs((Y-X))#occhio sempre ai valori assoluti quando prendi delle distanze\n",
    "    ord=np.argsort(delta[0])\n",
    "    return ord[-1]\n",
    "print(spostamento(X,Y))\n"
   ]
  },
  {
   "cell_type": "markdown",
   "id": "1c047f81-19a4-4794-8b60-fc4f3cfae1f8",
   "metadata": {},
   "source": [
    "La matrice A definita nel codice sottostante contiene le coordinate di un insiemi di punti organizzati per colonne (la prima colonna di A corrispondende alle coordinate x,y,z di un punto, e cosi via). Scrivere una funzione che prende in ingresso una matrice di punti con la struttura definita per la matrice A e restituisce 3 valori rispettivamente uguali allo spostamento totale lungo gli assi x, y, e z. Per spostamento totale si intende la somma degli spostamenti tra due punti consecutivi.\n",
    "\n",
    "Esempio. Se la matrice di input e' uguale a:\n",
    "\n",
    "0 1 2\n",
    "\n",
    "5 2 4\n",
    "\n",
    "1 7 2\n",
    "\n",
    "Il risultato della funzione deve essere: 1+1 (spostamento da 0 a 1 + spostamento da 1 a 2), 3+2 (spostamento da 5 a 2 + spostamento da 2 a 4), 6+5 (spostamento da 1 a 7 + spostamento da 7 a 2)\n",
    "\n",
    "Applicare la funzione alla matrice A e mostrare a monitor il risultato."
   ]
  },
  {
   "cell_type": "code",
   "execution_count": 109,
   "id": "14774a31-c72f-4cfe-921b-0cde871380ee",
   "metadata": {},
   "outputs": [],
   "source": [
    "N = 1000\n",
    "A = np.random.normal(size = (3, N))"
   ]
  },
  {
   "cell_type": "code",
   "execution_count": 110,
   "id": "12d0612b-43fc-48d8-9dde-a4841995b279",
   "metadata": {},
   "outputs": [
    {
     "name": "stdout",
     "output_type": "stream",
     "text": [
      "[31.37014461 31.40824496 31.55069927]\n"
     ]
    }
   ],
   "source": [
    "def spostamento(A):\n",
    "    spostamento=(np.sqrt(np.sum(A**2, axis=1)))\n",
    "    return spostamento\n",
    "print(spostamento(A))"
   ]
  }
 ],
 "metadata": {
  "kernelspec": {
   "display_name": "base",
   "language": "python",
   "name": "python3"
  },
  "language_info": {
   "codemirror_mode": {
    "name": "ipython",
    "version": 3
   },
   "file_extension": ".py",
   "mimetype": "text/x-python",
   "name": "python",
   "nbconvert_exporter": "python",
   "pygments_lexer": "ipython3",
   "version": "3.12.7"
  }
 },
 "nbformat": 4,
 "nbformat_minor": 5
}
