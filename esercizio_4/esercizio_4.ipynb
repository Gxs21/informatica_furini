{
 "cells": [
  {
   "cell_type": "markdown",
   "metadata": {},
   "source": [
    "Scrivere un programma che legge stringhe da tastiera con la funzione input e le scrive in un file di testo denominato tmp.txt. Il programma deve terminare quando la stringa letta da tastiera e' vuota."
   ]
  },
  {
   "cell_type": "code",
   "execution_count": 14,
   "metadata": {},
   "outputs": [],
   "source": [
    "f=open('tmp.txt', 'w+t')\n",
    "s1='0'\n",
    "while s1!='':\n",
    "    s1=input()\n",
    "    f.write(s1+'\\n')\n",
    "l=f.readline()\n",
    "while l:\n",
    "    l=l.strip()\n",
    "    print (l)\n",
    "    l=f.readline()\n",
    "f.close() "
   ]
  },
  {
   "cell_type": "markdown",
   "metadata": {},
   "source": [
    "Scrivere un programma che legge il file scritto in precedenza e mostra a monitor le righe una per una."
   ]
  },
  {
   "cell_type": "code",
   "execution_count": null,
   "metadata": {},
   "outputs": [],
   "source": []
  },
  {
   "cell_type": "markdown",
   "metadata": {},
   "source": [
    "Il file dati_4_1.txt contiene dati di una serie di esperimenti secondo il formato:\n",
    "id   giorno    ora    x   y\n",
    "Dove:\n",
    "* id e' una stringa che individua in modo univoco un campione\n",
    "* giorno corrisponde al giorno della settimana (intero tra 0 e 6)\n",
    "* ora corrisponde ad un intero tra 0 e 23\n",
    "* x e y sono due float\n",
    "Le diverse righe corrispondono a diversi campioni.\n",
    "\n",
    "Scrivere un programma che legge il file e crea una lista con il seguente formato:\n",
    "\n",
    "\\[ \\[giorno, ora, x, y], ... \\]\n",
    "\n",
    "Ad esempio se il contenuto del file e' il seguente:\n",
    "\n",
    "m1  0   3   1.2   6.7\n",
    "\n",
    "f1  1   4   1.4   1.3\n",
    "\n",
    "f2  2   22  1.7   4.7\n",
    "\n",
    "La lista deve essere:\n",
    "\\[ \\['m1', 0, 3, 1.2, 6.7\\], \\['f1', 1, 4, 1.4, 1.3\\], \\['f2', 2, 22, 1.7, 4.7\\], \\]\n"
   ]
  },
  {
   "cell_type": "code",
   "execution_count": null,
   "metadata": {},
   "outputs": [],
   "source": []
  },
  {
   "cell_type": "markdown",
   "metadata": {},
   "source": [
    "Mostrare a monitor i valori x,y del campione con codice 'f1'"
   ]
  },
  {
   "cell_type": "code",
   "execution_count": null,
   "metadata": {},
   "outputs": [],
   "source": []
  },
  {
   "cell_type": "markdown",
   "metadata": {},
   "source": [
    "Riscrivere il programma in modo da creare invece della lista un dizionario con chiave il codice del paziente. Ciascun elemento del dizionario deve essere a sua volta un dizionario con chiavi giorno, ora, x, y e rispettivi valori.\n",
    "\n",
    "Nell'esempio precedente il dizionario deve essere:\n",
    "{\n",
    " 'm1':{'giorno':0, 'ora':3, 'x':1.2, y:6.7},\n",
    " 'f1':{'giorno':1, 'ora':4, 'x':1.4, y:1.3},\n",
    " 'f2':{'giorno:2, 'ora':22, 'x':1.7, y:4.7}, \n",
    "}"
   ]
  },
  {
   "cell_type": "code",
   "execution_count": null,
   "metadata": {},
   "outputs": [],
   "source": []
  },
  {
   "cell_type": "markdown",
   "metadata": {},
   "source": [
    "Mostrare a monitor i valori x,y del campione con codice 'f1'"
   ]
  },
  {
   "cell_type": "code",
   "execution_count": null,
   "metadata": {},
   "outputs": [],
   "source": []
  },
  {
   "cell_type": "markdown",
   "metadata": {},
   "source": [
    "Scrivere un programma che:\n",
    "\n",
    "* leggi i dati dal file dati_4_1.txt\n",
    "* calcola la media su tutti i campioni del valore x \n",
    "* calcola la media su tutti i campioni del valore y\n",
    "\n",
    "Organizzare il programma in funzioni"
   ]
  },
  {
   "cell_type": "code",
   "execution_count": null,
   "metadata": {},
   "outputs": [],
   "source": []
  },
  {
   "cell_type": "markdown",
   "metadata": {},
   "source": [
    "Il file dati_4_2.txt ha lo stesso formato del file analizzato in precedenza, ma alcune righe contengo dati sbagliati. Esempio: giorni della settimana esterni all'intervallo \\[0,7\\]. Modificare la funzione scritta in precedenza per leggere i dati in modo che generi un'eccezione ValueError in caso di riga con dati sbagliati. Testare la funzione con il file dati_4_1.txt e dati_4_2.txt."
   ]
  },
  {
   "cell_type": "code",
   "execution_count": null,
   "metadata": {},
   "outputs": [],
   "source": []
  },
  {
   "cell_type": "code",
   "execution_count": null,
   "metadata": {},
   "outputs": [],
   "source": []
  }
 ],
 "metadata": {
  "kernelspec": {
   "display_name": "base",
   "language": "python",
   "name": "python3"
  },
  "language_info": {
   "codemirror_mode": {
    "name": "ipython",
    "version": 3
   },
   "file_extension": ".py",
   "mimetype": "text/x-python",
   "name": "python",
   "nbconvert_exporter": "python",
   "pygments_lexer": "ipython3",
   "version": "3.12.7"
  }
 },
 "nbformat": 4,
 "nbformat_minor": 4
}
