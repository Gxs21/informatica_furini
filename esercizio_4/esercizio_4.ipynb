{
 "cells": [
  {
   "cell_type": "markdown",
   "metadata": {},
   "source": [
    "Scrivere un programma che legge stringhe da tastiera con la funzione input e le scrive in un file di testo denominato tmp.txt. Il programma deve terminare quando la stringa letta da tastiera e' vuota."
   ]
  },
  {
   "cell_type": "code",
   "execution_count": 129,
   "metadata": {},
   "outputs": [
    {
     "name": "stdout",
     "output_type": "stream",
     "text": [
      "\n"
     ]
    }
   ],
   "source": [
    "f=open('tmp.txt', 'w+t') #ricorda che w+ e r+ scrivono e leggono\n",
    "s1='0'\n",
    "while s1!='':\n",
    "    s1=input()\n",
    "    f.write(s1+'\\n')\n",
    "f.seek(0)#se dopo aver scritto un file devi leggerlo dall'inizio, devi riportare la posizione all'inizio del file\n",
    "l=f.readline()\n",
    "while l:\n",
    "    l=l.strip() #il metodo strip rimuove tutti gli spazi prima e dopo una stringa\n",
    "    print (l)\n",
    "    l=f.readline()\n",
    "f.close() "
   ]
  },
  {
   "cell_type": "markdown",
   "metadata": {},
   "source": [
    "Scrivere un programma che legge il file scritto in precedenza e mostra a monitor le righe una per una."
   ]
  },
  {
   "cell_type": "code",
   "execution_count": 130,
   "metadata": {},
   "outputs": [
    {
     "name": "stdout",
     "output_type": "stream",
     "text": [
      "\n"
     ]
    }
   ],
   "source": [
    "f=open('tmp.txt', 'w+t') #ricorda che w+ e r+ scrivono e leggono\n",
    "s1='0'\n",
    "while s1!='':\n",
    "    s1=input()\n",
    "    f.write(s1+'\\n')\n",
    "f.seek(0)#se dopo aver scritto un file devi leggerlo dall'inizio, devi riportare la posizione all'inizio del file\n",
    "l=f.readline()\n",
    "while l:\n",
    "    l=l.strip() #il metodo strip rimuove tutti gli spazi prima e dopo una stringa\n",
    "    print (l)\n",
    "    l=f.readline()\n",
    "f.close() "
   ]
  },
  {
   "cell_type": "markdown",
   "metadata": {},
   "source": [
    "Il file dati_4_1.txt contiene dati di una serie di esperimenti secondo il formato:\n",
    "id   giorno    ora    x   y\n",
    "Dove:\n",
    "* id e' una stringa che individua in modo univoco un campione\n",
    "* giorno corrisponde al giorno della settimana (intero tra 0 e 6)\n",
    "* ora corrisponde ad un intero tra 0 e 23\n",
    "* x e y sono due float\n",
    "Le diverse righe corrispondono a diversi campioni.\n",
    "\n",
    "Scrivere un programma che legge il file e crea una lista con il seguente formato:\n",
    "\n",
    "\\[ \\[giorno, ora, x, y], ... \\]\n",
    "\n",
    "Ad esempio se il contenuto del file e' il seguente:\n",
    "\n",
    "m1  0   3   1.2   6.7\n",
    "\n",
    "f1  1   4   1.4   1.3\n",
    "\n",
    "f2  2   22  1.7   4.7\n",
    "\n",
    "La lista deve essere:\n",
    "\\[ \\['m1', 0, 3, 1.2, 6.7\\], \\['f1', 1, 4, 1.4, 1.3\\], \\['f2', 2, 22, 1.7, 4.7\\], \\]\n"
   ]
  },
  {
   "cell_type": "code",
   "execution_count": 131,
   "metadata": {},
   "outputs": [
    {
     "name": "stdout",
     "output_type": "stream",
     "text": [
      "[['m1', '3', '22', '7.1', '1.3'], ['m2', '5', '21', '7.2', '2.7'], ['f1', '1', '20', '7.8', '0.3'], ['f4', '0', '17', '7.5', '1.4'], ['f7', '4', '18', '4.8', '5.2'], ['m3', '4', '4', '2.8', '1.3'], ['m5', '5', '22', '1.8', '3.6'], ['f6', '6', '1', '7.4', '1.3']]\n"
     ]
    }
   ],
   "source": [
    "f=open('dati_4_1.txt','rt')\n",
    "l=f.readline()\n",
    "lista=[]\n",
    "while l:\n",
    "    l=l.strip()\n",
    "    l=l.split()\n",
    "    lista.append(list(l))\n",
    "    l=f.readline()\n",
    "print (lista)\n",
    "f.close()"
   ]
  },
  {
   "cell_type": "markdown",
   "metadata": {},
   "source": [
    "Mostrare a monitor i valori x,y del campione con codice 'f1'"
   ]
  },
  {
   "cell_type": "code",
   "execution_count": 132,
   "metadata": {},
   "outputs": [
    {
     "name": "stdout",
     "output_type": "stream",
     "text": [
      "7.8 0.3\n"
     ]
    }
   ],
   "source": [
    "for index in lista:\n",
    "    if index[0]=='f1':\n",
    "        print (index[3], index[4])\n"
   ]
  },
  {
   "cell_type": "markdown",
   "metadata": {},
   "source": [
    "Riscrivere il programma in modo da creare invece della lista un dizionario con chiave il codice del paziente. Ciascun elemento del dizionario deve essere a sua volta un dizionario con chiavi giorno, ora, x, y e rispettivi valori.\n",
    "\n",
    "Nell'esempio precedente il dizionario deve essere:\n",
    "{\n",
    " 'm1':{'giorno':0, 'ora':3, 'x':1.2, y:6.7},\n",
    " 'f1':{'giorno':1, 'ora':4, 'x':1.4, y:1.3},\n",
    " 'f2':{'giorno:2, 'ora':22, 'x':1.7, y:4.7}, \n",
    "}"
   ]
  },
  {
   "cell_type": "code",
   "execution_count": 133,
   "metadata": {},
   "outputs": [
    {
     "data": {
      "text/plain": [
       "{'m1': {'giorno': 3, 'ora': 22, 'x': 7.1, 'y': 1.3},\n",
       " 'm2': {'giorno': 5, 'ora': 21, 'x': 7.2, 'y': 2.7},\n",
       " 'f1': {'giorno': 1, 'ora': 20, 'x': 7.8, 'y': 0.3},\n",
       " 'f4': {'giorno': 0, 'ora': 17, 'x': 7.5, 'y': 1.4},\n",
       " 'f7': {'giorno': 4, 'ora': 18, 'x': 4.8, 'y': 5.2},\n",
       " 'm3': {'giorno': 4, 'ora': 4, 'x': 2.8, 'y': 1.3},\n",
       " 'm5': {'giorno': 5, 'ora': 22, 'x': 1.8, 'y': 3.6},\n",
       " 'f6': {'giorno': 6, 'ora': 1, 'x': 7.4, 'y': 1.3}}"
      ]
     },
     "execution_count": 133,
     "metadata": {},
     "output_type": "execute_result"
    }
   ],
   "source": [
    "dict={}\n",
    "f=open('dati_4_1.txt', 'rt')\n",
    "l=f.readline()\n",
    "while l:#continua finchè trova righe non vuote\n",
    "    l=l.strip()#elimino spazi all'inizio e alla fine\n",
    "    if l:#questo ulteriore if di controllo serve a evitare righe contenentui solo spazi bianchi\n",
    "        ls=l.split()#splitto la riga in modo da poterla legere come lista di stringhe\n",
    "        codice=ls[0]\n",
    "        giorno=int(ls[1])\n",
    "        ora=int(ls[2])\n",
    "        x=float(ls[3])\n",
    "        y=float(ls[4])\n",
    "        dict[codice]={'giorno':giorno, 'ora':ora, 'x':x, 'y':y}\n",
    "        l=f.readline()\n",
    "\n",
    "f.close()\n",
    "\n",
    "dict\n",
    "\n"
   ]
  },
  {
   "cell_type": "markdown",
   "metadata": {},
   "source": [
    "Mostrare a monitor i valori x,y del campione con codice 'f1'"
   ]
  },
  {
   "cell_type": "code",
   "execution_count": 134,
   "metadata": {},
   "outputs": [
    {
     "name": "stdout",
     "output_type": "stream",
     "text": [
      "7.8 0.3\n"
     ]
    }
   ],
   "source": [
    "print( dict['f1']['x'], dict['f1']['y'])#bisogna mettere le due chiavi tra parentesi graffe affiancate, non annidate"
   ]
  },
  {
   "cell_type": "markdown",
   "metadata": {},
   "source": [
    "Scrivere un programma che:\n",
    "\n",
    "* leggi i dati dal file dati_4_1.txt\n",
    "* calcola la media su tutti i campioni del valore x \n",
    "* calcola la media su tutti i campioni del valore y\n",
    "\n",
    "Organizzare il programma in funzioni"
   ]
  },
  {
   "cell_type": "code",
   "execution_count": null,
   "metadata": {},
   "outputs": [
    {
     "name": "stdout",
     "output_type": "stream",
     "text": [
      "5.799999999999999\n",
      "2.1374999999999997\n"
     ]
    }
   ],
   "source": [
    "def media_x(f):\n",
    "    l=f.readline()\n",
    "    somma=0\n",
    "    lines=0\n",
    "    while l:\n",
    "        l=l.strip()\n",
    "        if l:\n",
    "            ls=l.split()\n",
    "            somma+=float(ls[3])\n",
    "            lines+=1\n",
    "            l=f.readline()\n",
    "    media_x=somma/lines            \n",
    "    return media_x\n",
    "\n",
    "def media_y(f):\n",
    "    l=f.readline()\n",
    "    somma=0\n",
    "    lines=0\n",
    "    while l:\n",
    "        l=l.strip()\n",
    "        if l:\n",
    "            ls=l.split()\n",
    "            somma+=float(ls[4])\n",
    "            lines+=1\n",
    "            l=f.readline()\n",
    "    media_y=somma/lines            \n",
    "    return media_y\n",
    "f=open('dati_4_1.txt', 'rt')\n",
    "print(media_x(f))\n",
    "f=open('dati_4_1.txt', 'rt')\n",
    "print(media_y(f))\n",
    "f.close()"
   ]
  },
  {
   "cell_type": "markdown",
   "metadata": {},
   "source": [
    "Il file dati_4_2.txt ha lo stesso formato del file analizzato in precedenza, ma alcune righe contengo dati sbagliati. Esempio: giorni della settimana esterni all'intervallo \\[0,7\\]. Modificare la funzione scritta in precedenza per leggere i dati in modo che generi un'eccezione ValueError in caso di riga con dati sbagliati. Testare la funzione con il file dati_4_1.txt e dati_4_2.txt."
   ]
  },
  {
   "cell_type": "code",
   "execution_count": null,
   "metadata": {},
   "outputs": [],
   "source": []
  },
  {
   "cell_type": "code",
   "execution_count": null,
   "metadata": {},
   "outputs": [],
   "source": []
  }
 ],
 "metadata": {
  "kernelspec": {
   "display_name": "base",
   "language": "python",
   "name": "python3"
  },
  "language_info": {
   "codemirror_mode": {
    "name": "ipython",
    "version": 3
   },
   "file_extension": ".py",
   "mimetype": "text/x-python",
   "name": "python",
   "nbconvert_exporter": "python",
   "pygments_lexer": "ipython3",
   "version": "3.12.7"
  }
 },
 "nbformat": 4,
 "nbformat_minor": 4
}
