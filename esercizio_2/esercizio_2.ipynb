{
 "cells": [
  {
   "cell_type": "markdown",
   "metadata": {},
   "source": [
    "Definire un lista L di elementi di tipo diverso. Scrivere un programma che calcola la somma dei soli elementi di tipo intero contenenti un numero positivo.\n",
    "\n",
    "Esempio: Se la lista e' \\[1, '1', 'a', 5, -4\\], il risultato deve essere 6"
   ]
  },
  {
   "cell_type": "code",
   "execution_count": 7,
   "metadata": {},
   "outputs": [
    {
     "name": "stdout",
     "output_type": "stream",
     "text": [
      "6\n"
     ]
    }
   ],
   "source": [
    "S=[1, '1', 'a', 5, -4]\n",
    "somma=0\n",
    "i=0\n",
    "while i<len(S):\n",
    "    if isinstance(S[i], int):\n",
    "        if S[i]>0:\n",
    "            somma+=S[i]\n",
    "    i+=1\n",
    "print (somma)\n",
    "\n",
    "\n"
   ]
  },
  {
   "cell_type": "markdown",
   "metadata": {},
   "source": [
    "Definire una lista contenente solo numeri (int e float). Scrivere un programma che ne calcola la mediana. La mediana e' definita come il valore X per cui meta' dei componente di L sono inferiori a X, e meta' superiori. Ipotesi semplificatica: la lista ha un numero dispari di elementi."
   ]
  },
  {
   "cell_type": "code",
   "execution_count": 21,
   "metadata": {},
   "outputs": [
    {
     "name": "stdout",
     "output_type": "stream",
     "text": [
      "[5, 5.0, 7, 95.9, 8, 0.5]\n",
      "[0.5, 5, 5.0, 7, 8, 95.9]\n",
      "5.0\n"
     ]
    }
   ],
   "source": [
    "l=[5, 5.0, 7, 95.9, 8, 0.5]\n",
    "s=l.copy()\n",
    "s.sort()\n",
    "print(l)\n",
    "print (s)\n",
    "print(s[int((len(s)/2)-1)])"
   ]
  },
  {
   "cell_type": "markdown",
   "metadata": {},
   "source": [
    "Scrivere un programma che crea una lista contenente i primi 20 termini della successione di fibonacci. I primi due elementi della successione di fibonacci sono 0 e 1, l'elemento di indice n e' definito come la somma dell'elemento di indice n-1 e n-2."
   ]
  },
  {
   "cell_type": "code",
   "execution_count": 52,
   "metadata": {},
   "outputs": [
    {
     "name": "stdout",
     "output_type": "stream",
     "text": [
      "0 1\n",
      "1 2\n",
      "1 3\n",
      "2 4\n",
      "3 5\n",
      "5 6\n",
      "8 7\n",
      "13 8\n",
      "21 9\n",
      "34 10\n",
      "55 11\n",
      "89 12\n",
      "144 13\n",
      "233 14\n",
      "377 15\n",
      "610 16\n",
      "987 17\n",
      "1597 18\n",
      "2584 19\n",
      "4181 20\n",
      "[0, 1, 1, 2, 3, 5, 8, 13, 21, 34, 55, 89, 144, 233, 377, 610, 987, 1597, 2584, 4181]\n"
     ]
    }
   ],
   "source": [
    "s=[0,1]\n",
    "i=1\n",
    "print (s[0],1)\n",
    "while i<20:\n",
    "    s.append(s[i]+s[i-1])\n",
    "    print (s[i],i+1)\n",
    "    i+=1\n",
    "\n",
    "#oppure:\n",
    "s=[0,1]\n",
    "while len(s)<20:\n",
    "    s.append(s[-1]+s[-2])\n",
    "print (s)\n",
    "    "
   ]
  },
  {
   "cell_type": "markdown",
   "metadata": {},
   "source": [
    "Definire una lista contenente solo numeri di tipo float. Scrivere un programma che modifica tutti gli elementi di una lista di float nel rispettivo intero."
   ]
  },
  {
   "cell_type": "code",
   "execution_count": 57,
   "metadata": {},
   "outputs": [
    {
     "name": "stdout",
     "output_type": "stream",
     "text": [
      "[5, 6, 90, 8]\n"
     ]
    }
   ],
   "source": [
    "l=[5.7, 6.7, 90.0, 8.9]\n",
    "i=0\n",
    "while i<len(l):\n",
    "    l[i]=int(l[i])\n",
    "    i+=1\n",
    "print (l)"
   ]
  },
  {
   "cell_type": "markdown",
   "metadata": {},
   "source": [
    "Il dizionario luogo_nascita contiene l'informazione sul luogo di nascita di una serie di persone. Aggiungete al dizionario il vostro nome e luogo di nascita. Scrivere un programma che calcola il numero di persone nate a Bologna."
   ]
  },
  {
   "cell_type": "code",
   "execution_count": null,
   "metadata": {},
   "outputs": [],
   "source": [
    "luogo_nascita = {\n",
    "    'Paolo': 'Milano',\n",
    "    'Maria': 'Napoli',\n",
    "    'Roberto': 'Bologna',\n",
    "    'Mirco': 'Milano',\n",
    "    'Gennaro': 'Bologna',\n",
    "    'Giorgia': 'Bologna'\n",
    "}"
   ]
  },
  {
   "cell_type": "code",
   "execution_count": null,
   "metadata": {},
   "outputs": [
    {
     "name": "stdout",
     "output_type": "stream",
     "text": [
      "dict_values(['Milano', 'Napoli', 'Bologna', 'Milano', 'Bologna', 'Bologna', 'gallipoli'])\n",
      "3\n"
     ]
    }
   ],
   "source": [
    "luogo_nascita = {\n",
    "    'Paolo': 'Milano',\n",
    "    'Maria': 'Napoli',\n",
    "    'Roberto': 'Bologna',\n",
    "    'Mirco': 'Milano',\n",
    "    'Gennaro': 'Bologna',\n",
    "    'Giorgia': 'Bologna'\n",
    "}\n",
    "count=0\n",
    "luogo_nascita['giulio']='gallipoli'\n",
    "s=luogo_nascita.values()\n",
    "i=0\n",
    "print (s)\n",
    "for luogo in s: #riguarda bene il for, in python fa assumere alla variabile che scrivi dopo for tutti i valori della lista che scrivi dopo in\n",
    "    if luogo=='Bologna':\n",
    "        count+=1\n",
    "print (count)\n"
   ]
  }
 ],
 "metadata": {
  "kernelspec": {
   "display_name": "base",
   "language": "python",
   "name": "python3"
  },
  "language_info": {
   "codemirror_mode": {
    "name": "ipython",
    "version": 3
   },
   "file_extension": ".py",
   "mimetype": "text/x-python",
   "name": "python",
   "nbconvert_exporter": "python",
   "pygments_lexer": "ipython3",
   "version": "3.12.7"
  }
 },
 "nbformat": 4,
 "nbformat_minor": 4
}
