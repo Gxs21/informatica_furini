{
 "cells": [
  {
   "cell_type": "code",
   "execution_count": 7,
   "metadata": {},
   "outputs": [],
   "source": [
    "def somma (x1, x2=1):\n",
    "    \"\"\"\n",
    "    funzione per somma tra due numeri\n",
    "    input: x1, x2: i due numeri da sommare\n",
    "    return: la somma dei due numeri\n",
    "    \"\"\"\n",
    "    z = x1+x2\n",
    "    return z\n"
   ]
  },
  {
   "cell_type": "code",
   "execution_count": 4,
   "metadata": {},
   "outputs": [
    {
     "name": "stdout",
     "output_type": "stream",
     "text": [
      "5\n"
     ]
    }
   ],
   "source": [
    "print (somma(2,3))"
   ]
  },
  {
   "cell_type": "code",
   "execution_count": null,
   "metadata": {},
   "outputs": [
    {
     "name": "stdout",
     "output_type": "stream",
     "text": [
      "3\n"
     ]
    }
   ],
   "source": [
    "print (somma(2)) ##avendo ridefinito il secondo parametro, avendolo posto =1, di default somma uno"
   ]
  },
  {
   "cell_type": "code",
   "execution_count": null,
   "metadata": {},
   "outputs": [
    {
     "name": "stdout",
     "output_type": "stream",
     "text": [
      "8\n",
      "2\n"
     ]
    }
   ],
   "source": [
    "def funzione_inutile():\n",
    "    a=7\n",
    "    \n",
    "    print (a) \n",
    "a=2\n",
    "funzione_inutile()\n",
    "print (a)\n",
    "##la funzione vede le variabili globali al contrario di altri lunguaggi di programmazione,\n",
    "##ma le variabili locali hanno la priorità rispetto alle variabili globali!!!"
   ]
  },
  {
   "cell_type": "code",
   "execution_count": null,
   "metadata": {},
   "outputs": [
    {
     "ename": "UnboundLocalError",
     "evalue": "cannot access local variable 'a' where it is not associated with a value",
     "output_type": "error",
     "traceback": [
      "\u001b[0;31m---------------------------------------------------------------------------\u001b[0m",
      "\u001b[0;31mUnboundLocalError\u001b[0m                         Traceback (most recent call last)",
      "Cell \u001b[0;32mIn[12], line 6\u001b[0m\n\u001b[1;32m      4\u001b[0m     \u001b[38;5;28mprint\u001b[39m (a) \n\u001b[1;32m      5\u001b[0m a\u001b[38;5;241m=\u001b[39m\u001b[38;5;241m2\u001b[39m\n\u001b[0;32m----> 6\u001b[0m funzione_inutile()\n\u001b[1;32m      7\u001b[0m \u001b[38;5;28mprint\u001b[39m (a)\n",
      "Cell \u001b[0;32mIn[12], line 2\u001b[0m, in \u001b[0;36mfunzione_inutile\u001b[0;34m()\u001b[0m\n\u001b[1;32m      1\u001b[0m \u001b[38;5;28;01mdef\u001b[39;00m \u001b[38;5;21mfunzione_inutile\u001b[39m():\n\u001b[0;32m----> 2\u001b[0m     a\u001b[38;5;241m=\u001b[39ma\u001b[38;5;241m+\u001b[39m\u001b[38;5;241m1\u001b[39m\n\u001b[1;32m      4\u001b[0m     \u001b[38;5;28mprint\u001b[39m (a)\n",
      "\u001b[0;31mUnboundLocalError\u001b[0m: cannot access local variable 'a' where it is not associated with a value"
     ]
    }
   ],
   "source": [
    "def funzione_inutile():\n",
    "    a=a+1\n",
    "    \n",
    "    print (a) \n",
    "a=2\n",
    "funzione_inutile()\n",
    "print (a)\n",
    "#l'errore è dovuto al fatto che il programma non sa se fare riferimento alla variabile locale che \n",
    "# sto inizializzando o a quella globale"
   ]
  },
  {
   "cell_type": "code",
   "execution_count": 16,
   "metadata": {},
   "outputs": [
    {
     "name": "stdout",
     "output_type": "stream",
     "text": [
      "0 7\n",
      "1 2\n",
      "2 3\n",
      "[7, 2, 3]\n"
     ]
    }
   ],
   "source": [
    "def stampa_lista(l):\n",
    "    i=0\n",
    "    l[0]=7\n",
    "    while i<len(l):\n",
    "        print(i, l[i])\n",
    "        i+=1\n",
    "l = [1, 2, 3]\n",
    "stampa_lista(l)\n",
    "print(l)"
   ]
  },
  {
   "cell_type": "code",
   "execution_count": 29,
   "metadata": {},
   "outputs": [],
   "source": [
    "def allineamento (s1, s2):\n",
    "    \"\"\"\n",
    "    trova la posizione relativa delle due stringe che massimixxa il numero di caratteri uguali\n",
    "    input: s1, s2:str\n",
    "    return: int di quanto spostare la stringa più corta per allinearla allas tringa più lunga \n",
    "    \"\"\"\n",
    "    n_max=0\n",
    "    if len(s1)>len(s2):\n",
    "        sl=s1\n",
    "        sc=s2\n",
    "    else:\n",
    "        sl=s2\n",
    "        sc=s1\n",
    "    i=0\n",
    "    while i<(len(sl) - len(sc)+1):\n",
    "        print (sl)\n",
    "        print (i * \" \" + sc)\n",
    "        n=0\n",
    "        j=0\n",
    "        while j<len(sc):\n",
    "            if (sc[j]==sl[j+i]):\n",
    "                n+=1\n",
    "            j+=1\n",
    "        if n>n_max:\n",
    "            n_max=n\n",
    "            i_best=i\n",
    "        print (n)\n",
    "        i+=1\n",
    "    return i_best\n",
    "\n"
   ]
  },
  {
   "cell_type": "code",
   "execution_count": null,
   "metadata": {},
   "outputs": [],
   "source": []
  },
  {
   "cell_type": "code",
   "execution_count": 30,
   "metadata": {},
   "outputs": [
    {
     "name": "stdout",
     "output_type": "stream",
     "text": [
      "ATCGATCACGTACATGACTAGACGTATGA\n",
      "CGTAC\n",
      "0\n",
      "ATCGATCACGTACATGACTAGACGTATGA\n",
      " CGTAC\n",
      "1\n",
      "ATCGATCACGTACATGACTAGACGTATGA\n",
      "  CGTAC\n",
      "3\n",
      "ATCGATCACGTACATGACTAGACGTATGA\n",
      "   CGTAC\n",
      "1\n",
      "ATCGATCACGTACATGACTAGACGTATGA\n",
      "    CGTAC\n",
      "2\n",
      "ATCGATCACGTACATGACTAGACGTATGA\n",
      "     CGTAC\n",
      "0\n",
      "ATCGATCACGTACATGACTAGACGTATGA\n",
      "      CGTAC\n",
      "1\n",
      "ATCGATCACGTACATGACTAGACGTATGA\n",
      "       CGTAC\n",
      "0\n",
      "ATCGATCACGTACATGACTAGACGTATGA\n",
      "        CGTAC\n",
      "5\n",
      "ATCGATCACGTACATGACTAGACGTATGA\n",
      "         CGTAC\n",
      "0\n",
      "ATCGATCACGTACATGACTAGACGTATGA\n",
      "          CGTAC\n",
      "1\n",
      "ATCGATCACGTACATGACTAGACGTATGA\n",
      "           CGTAC\n",
      "0\n",
      "ATCGATCACGTACATGACTAGACGTATGA\n",
      "            CGTAC\n",
      "2\n",
      "ATCGATCACGTACATGACTAGACGTATGA\n",
      "             CGTAC\n",
      "2\n",
      "ATCGATCACGTACATGACTAGACGTATGA\n",
      "              CGTAC\n",
      "1\n",
      "ATCGATCACGTACATGACTAGACGTATGA\n",
      "               CGTAC\n",
      "0\n",
      "ATCGATCACGTACATGACTAGACGTATGA\n",
      "                CGTAC\n",
      "2\n",
      "ATCGATCACGTACATGACTAGACGTATGA\n",
      "                 CGTAC\n",
      "1\n",
      "ATCGATCACGTACATGACTAGACGTATGA\n",
      "                  CGTAC\n",
      "2\n",
      "ATCGATCACGTACATGACTAGACGTATGA\n",
      "                   CGTAC\n",
      "1\n",
      "ATCGATCACGTACATGACTAGACGTATGA\n",
      "                    CGTAC\n",
      "0\n",
      "ATCGATCACGTACATGACTAGACGTATGA\n",
      "                     CGTAC\n",
      "0\n",
      "ATCGATCACGTACATGACTAGACGTATGA\n",
      "                      CGTAC\n",
      "4\n",
      "ATCGATCACGTACATGACTAGACGTATGA\n",
      "                       CGTAC\n",
      "0\n",
      "ATCGATCACGTACATGACTAGACGTATGA\n",
      "                        CGTAC\n",
      "1\n"
     ]
    },
    {
     "data": {
      "text/plain": [
       "8"
      ]
     },
     "execution_count": 30,
     "metadata": {},
     "output_type": "execute_result"
    }
   ],
   "source": [
    "s1 = 'ATCGATCACGTACATGACTAGACGTATGA'\n",
    "s2 = 'CGTAC'\n",
    "allineamento(s1, s2)"
   ]
  },
  {
   "cell_type": "code",
   "execution_count": 31,
   "metadata": {},
   "outputs": [
    {
     "name": "stdout",
     "output_type": "stream",
     "text": [
      "Help on built-in function sort:\n",
      "\n",
      "sort(*, key=None, reverse=False) method of builtins.list instance\n",
      "    Sort the list in ascending order and return None.\n",
      "\n",
      "    The sort is in-place (i.e. the list itself is modified) and stable (i.e. the\n",
      "    order of two equal elements is maintained).\n",
      "\n",
      "    If a key function is given, apply it once to each list item and sort them,\n",
      "    ascending or descending, according to their function values.\n",
      "\n",
      "    The reverse flag can be set to sort in descending order.\n",
      "\n"
     ]
    }
   ],
   "source": [
    "help(l.sort)"
   ]
  },
  {
   "cell_type": "code",
   "execution_count": 44,
   "metadata": {},
   "outputs": [],
   "source": [
    "f=open('esempio_A_nuvola.txt', 'wt')\n",
    "f.write ('linea 1\\n')\n",
    "f.close()"
   ]
  },
  {
   "cell_type": "code",
   "execution_count": null,
   "metadata": {},
   "outputs": [
    {
     "name": "stdout",
     "output_type": "stream",
     "text": [
      "linea 1\n",
      "\n"
     ]
    }
   ],
   "source": [
    "f = open('esempio_A_nuvola.txt', 'rt')\n",
    "s=f.read()\n",
    "f.close()\n",
    "print(s) #ciao stellinaaa come vaaaa bene tu?tutto beneee, il mio unibro non mi parla e mi odia ma a parte questo tutto okkkk"
   ]
  },
  {
   "cell_type": "code",
   "execution_count": 46,
   "metadata": {},
   "outputs": [
    {
     "name": "stdout",
     "output_type": "stream",
     "text": [
      "linea 1\n",
      "\n"
     ]
    }
   ],
   "source": [
    "f=open('esempio_A_nuvola.txt', 'rt')\n",
    "for l in f.readlines():\n",
    "    print(l)\n",
    "f.close()"
   ]
  },
  {
   "cell_type": "code",
   "execution_count": null,
   "metadata": {},
   "outputs": [
    {
     "name": "stdout",
     "output_type": "stream",
     "text": [
      "['12345', '4', '6', '7', '8']\n"
     ]
    }
   ],
   "source": [
    "s='12345,4,6,7,8'\n",
    "l=s.split('')\n",
    "print(l)"
   ]
  },
  {
   "cell_type": "code",
   "execution_count": null,
   "metadata": {},
   "outputs": [],
   "source": []
  }
 ],
 "metadata": {
  "kernelspec": {
   "display_name": "base",
   "language": "python",
   "name": "python3"
  },
  "language_info": {
   "codemirror_mode": {
    "name": "ipython",
    "version": 3
   },
   "file_extension": ".py",
   "mimetype": "text/x-python",
   "name": "python",
   "nbconvert_exporter": "python",
   "pygments_lexer": "ipython3",
   "version": "3.12.7"
  }
 },
 "nbformat": 4,
 "nbformat_minor": 2
}
