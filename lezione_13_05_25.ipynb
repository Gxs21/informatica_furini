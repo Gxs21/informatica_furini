{
 "cells": [
  {
   "cell_type": "code",
   "execution_count": 2,
   "metadata": {},
   "outputs": [
    {
     "ename": "ZeroDivisionError",
     "evalue": "division by zero",
     "output_type": "error",
     "traceback": [
      "\u001b[0;31m---------------------------------------------------------------------------\u001b[0m",
      "\u001b[0;31mZeroDivisionError\u001b[0m                         Traceback (most recent call last)",
      "Cell \u001b[0;32mIn[2], line 2\u001b[0m\n\u001b[1;32m      1\u001b[0m x\u001b[38;5;241m=\u001b[39m\u001b[38;5;241m0\u001b[39m\n\u001b[0;32m----> 2\u001b[0m y\u001b[38;5;241m=\u001b[39m\u001b[38;5;241m1\u001b[39m\u001b[38;5;241m/\u001b[39mx\n",
      "\u001b[0;31mZeroDivisionError\u001b[0m: division by zero"
     ]
    }
   ],
   "source": [
    "x=0\n",
    "y=1/x"
   ]
  },
  {
   "cell_type": "code",
   "execution_count": null,
   "metadata": {},
   "outputs": [
    {
     "ename": "TypeError",
     "evalue": "unsupported operand type(s) for /: 'int' and 'str'",
     "output_type": "error",
     "traceback": [
      "\u001b[0;31m---------------------------------------------------------------------------\u001b[0m",
      "\u001b[0;31mTypeError\u001b[0m                                 Traceback (most recent call last)",
      "Cell \u001b[0;32mIn[4], line 4\u001b[0m\n\u001b[1;32m      2\u001b[0m x\u001b[38;5;241m=\u001b[39m\u001b[38;5;124m'\u001b[39m\u001b[38;5;124ma\u001b[39m\u001b[38;5;124m'\u001b[39m\n\u001b[1;32m      3\u001b[0m \u001b[38;5;28;01mtry\u001b[39;00m:\n\u001b[0;32m----> 4\u001b[0m     y\u001b[38;5;241m=\u001b[39m\u001b[38;5;241m1\u001b[39m\u001b[38;5;241m/\u001b[39mx \u001b[38;5;66;03m#il blocco except viene eseguito nel momento in cui questa istruzione genera un errore\u001b[39;00m\n\u001b[1;32m      5\u001b[0m \u001b[38;5;28;01mexcept\u001b[39;00m \u001b[38;5;167;01mZeroDivisionError\u001b[39;00m:\n\u001b[1;32m      6\u001b[0m     \u001b[38;5;28mprint\u001b[39m (\u001b[38;5;124m'\u001b[39m\u001b[38;5;124mERRORE divisione per zero\u001b[39m\u001b[38;5;124m'\u001b[39m)\n",
      "\u001b[0;31mTypeError\u001b[0m: unsupported operand type(s) for /: 'int' and 'str'"
     ]
    }
   ],
   "source": [
    "x=0\n",
    "x='a' #se eseguo la divisione per un carattere ho un errore di tipo perchè non esiste la divisione per un carattere\n",
    "try:\n",
    "    y=1/x #il blocco except viene eseguito nel momento in cui questa istruzione genera un errore\n",
    "except ZeroDivisionError: #se non specifico il tipo di errore, except cattura qualunque tipo di errore\n",
    "    print ('ERRORE divisione per zero')\n",
    "except TypeError: #si può usare il try except anche per genereare volutamente degli errori \n",
    "    print('ERRORE di tipo dato sbagliato')"
   ]
  },
  {
   "cell_type": "code",
   "execution_count": 5,
   "metadata": {},
   "outputs": [
    {
     "ename": "ValueError",
     "evalue": "il numero inserito è negativo",
     "output_type": "error",
     "traceback": [
      "\u001b[0;31m---------------------------------------------------------------------------\u001b[0m",
      "\u001b[0;31mValueError\u001b[0m                                Traceback (most recent call last)",
      "Cell \u001b[0;32mIn[5], line 3\u001b[0m\n\u001b[1;32m      1\u001b[0m x\u001b[38;5;241m=\u001b[39m\u001b[38;5;28mint\u001b[39m(\u001b[38;5;28minput\u001b[39m(\u001b[38;5;124m'\u001b[39m\u001b[38;5;124minserisci un numero positivo:\u001b[39m\u001b[38;5;124m'\u001b[39m))\n\u001b[1;32m      2\u001b[0m \u001b[38;5;28;01mif\u001b[39;00m x\u001b[38;5;241m<\u001b[39m\u001b[38;5;241m0\u001b[39m:\n\u001b[0;32m----> 3\u001b[0m     \u001b[38;5;28;01mraise\u001b[39;00m \u001b[38;5;167;01mValueError\u001b[39;00m (\u001b[38;5;124m'\u001b[39m\u001b[38;5;124mil numero inserito è negativo\u001b[39m\u001b[38;5;124m'\u001b[39m)\n",
      "\u001b[0;31mValueError\u001b[0m: il numero inserito è negativo"
     ]
    }
   ],
   "source": [
    "x=int(input('inserisci un numero positivo:'))\n",
    "if x<0:\n",
    "    raise ValueError ('il numero inserito è negativo')#in questo caso il comando raise lancia una eccezione bloccando il programma con un messaggio di errore"
   ]
  },
  {
   "cell_type": "code",
   "execution_count": null,
   "metadata": {},
   "outputs": [],
   "source": [
    "#da qui inizia la parentesi sulle librerie"
   ]
  },
  {
   "cell_type": "code",
   "execution_count": 6,
   "metadata": {},
   "outputs": [],
   "source": [
    "import glob"
   ]
  },
  {
   "cell_type": "code",
   "execution_count": 7,
   "metadata": {},
   "outputs": [],
   "source": [
    "import numpy as np #sto importando la libreria numpy dandole il nome np"
   ]
  },
  {
   "cell_type": "code",
   "execution_count": 8,
   "metadata": {},
   "outputs": [
    {
     "data": {
      "text/plain": [
       "1.2246467991473532e-16"
      ]
     },
     "execution_count": 8,
     "metadata": {},
     "output_type": "execute_result"
    }
   ],
   "source": [
    "np.sin(np.pi)"
   ]
  },
  {
   "cell_type": "code",
   "execution_count": 9,
   "metadata": {},
   "outputs": [
    {
     "ename": "TypeError",
     "evalue": "inv() missing 1 required positional argument: 'a'",
     "output_type": "error",
     "traceback": [
      "\u001b[0;31m---------------------------------------------------------------------------\u001b[0m",
      "\u001b[0;31mTypeError\u001b[0m                                 Traceback (most recent call last)",
      "Cell \u001b[0;32mIn[9], line 1\u001b[0m\n\u001b[0;32m----> 1\u001b[0m np\u001b[38;5;241m.\u001b[39mlinalg\u001b[38;5;241m.\u001b[39minv()\n",
      "\u001b[0;31mTypeError\u001b[0m: inv() missing 1 required positional argument: 'a'"
     ]
    }
   ],
   "source": [
    "np.linalg.inv()"
   ]
  },
  {
   "cell_type": "code",
   "execution_count": null,
   "metadata": {},
   "outputs": [],
   "source": [
    "#inizio esercizi (sui file)"
   ]
  },
  {
   "cell_type": "code",
   "execution_count": null,
   "metadata": {},
   "outputs": [],
   "source": [
    "#stiamo facendo un esercizio su un file, il file ancora non ho idea di dove sia\n",
    "def read(nome_file, indice):\n",
    "    f = open(nome_file, 'rt') #apro il file\n",
    "    l = f.readline()\n",
    "    while l[0] =='#': #leggo le righe finchè non ne trovo una che inizia con un cancelletto\n",
    "        l = f.readline()\n",
    "    T=[]\n",
    "    X=[]\n",
    "    Y=[]\n",
    "    z=[]\n",
    "    print (l)\n",
    "    while l:\n",
    "        h=l.split()\n",
    "        print (l)\n",
    "        print (h)\n",
    "        ind=int(h[0])\n",
    "        t=float(h[1])\n",
    "        x=float(h[2])\n",
    "        y=float(h[3])\n",
    "        Z=float(h[4])\n",
    "        print(ind, t, x, y, z)\n",
    "        if ind==indice:\n",
    "           T.append(t)\n",
    "           X.append(x)\n",
    "           Y.append(y)\n",
    "           Z.append(z)   \n",
    "        l=f.readline()\n",
    "    f.close()\n",
    "    return T, X, Y, Z\n",
    "\n",
    "def derivata(T, F, t):\n",
    "    \"\"\"\n",
    "    restituisce approssimazione numerica di dF/dT\n",
    "    \"\"\"\n",
    "    i=0\n",
    "    while T[i]=t: #non minore uguale\n",
    "        i+=1\n",
    "    print (T[i-1], t, T[i])\n",
    "    return (F[i] - F[i-1])/(T[i] - T[i-1])\n",
    "\n",
    "def DERIVATA(T, F):\n",
    "    dFdT=[(F[1]-F[0]) / (T[1]-T[0])]\n",
    "    i=1\n",
    "    while i<len(T):\n",
    "        if i == 0:\n",
    "            dFdT=[(F(1)-F[0]) / (T[1]-T[0])]\n",
    "        else:\n",
    "            dFdT.append((F[i]-f[i-1]) /  (T[i]-T[i-1]))\n",
    "        i +=1"
   ]
  },
  {
   "cell_type": "code",
   "execution_count": null,
   "metadata": {},
   "outputs": [],
   "source": [
    "T_5, X_5, Y_5, Z_5 =read('traccia_dati_2.txt', 5)\n",
    "dxdt=derivata(T_5, X_5, 20.0) "
   ]
  },
  {
   "cell_type": "code",
   "execution_count": null,
   "metadata": {},
   "outputs": [],
   "source": [
    "#stiamo facendo un esercizio sul pronto soccorso di un ospedale\n",
    "def read(nome_file, indice):\n",
    "    f = open(nome_file, 'rt') #apro il file\n",
    "    l = f.readline()\n",
    "    data= {1:{'sesso':[], 'età':[], 'giorno':[], 'attesa':[]}\n",
    "           2:{'sesso':[], 'età':[], 'giorno':[], 'attesa':[]}\n",
    "           3:{'sesso':[], 'età':[], 'giorno':[], 'attesa':[]}\n",
    "           4:{'sesso':[], 'età':[], 'giorno':[], 'attesa':[]}\n",
    "           \n",
    "           }\n",
    "    while l[0] =='#': #leggo le righe finchè non ne trovo una che inizia con un cancelletto\n",
    "        l = f.readline()\n",
    "    while l:\n",
    "        h=l.split()\n",
    "        urgenza=int(h[0])\n",
    "        sesso=int(h[1])\n",
    "        età=float(h[2])\n",
    "        giorno=int(h[3])\n",
    "        attesa=int(h[4])\n",
    "        if (urgenza < 1 or urgenza > 5 \n",
    "            or sesso not in [0,1] \n",
    "            or giorno not in [1,2,3,4,5,6,7,]):\n",
    "            l=f.readline()\n",
    "            continue\n",
    "        data[urgenza]['sesso'].append(sesso)\n",
    "        data[urgenza]['età'].append(sesso)\n",
    "        data[urgenza]['giorno'].append(sesso)\n",
    "        data[urgenza]['attesa'].append(sesso)\n",
    "\n",
    "        l=f.readline()\n",
    "    f.close()\n",
    "    return data\n",
    "def tempo_medio_attesa (data, codice_urgenza, giorno_settimana):\n",
    "    n_pazienti= len(data[codice_urgenza]['giorno'])\n",
    "    i=0\n",
    "    valori=[]\n",
    "    while i<n_pazienti:\n",
    "        if data[codice_urgenza]['giorno'][i] == giorno_settimana:\n",
    "            print(i, data[codice_urgenza]['giorno'][i],\n",
    "                  data[codice_urgenza]['attesa'][i])\n",
    "            valori.append(data[codice_urgenza]['attesa'][i])\n",
    "        i+=1\n",
    "    return sum(valori)/len(valori)"
   ]
  },
  {
   "cell_type": "code",
   "execution_count": null,
   "metadata": {},
   "outputs": [],
   "source": [
    "D=read('traccia_dati_3.txt')\n",
    "tempo_medio_attesa(D, 1, 2)"
   ]
  }
 ],
 "metadata": {
  "kernelspec": {
   "display_name": "base",
   "language": "python",
   "name": "python3"
  },
  "language_info": {
   "codemirror_mode": {
    "name": "ipython",
    "version": 3
   },
   "file_extension": ".py",
   "mimetype": "text/x-python",
   "name": "python",
   "nbconvert_exporter": "python",
   "pygments_lexer": "ipython3",
   "version": "3.12.7"
  }
 },
 "nbformat": 4,
 "nbformat_minor": 2
}
